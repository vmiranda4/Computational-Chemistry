{
 "cells": [
  {
   "cell_type": "markdown",
   "id": "089a33ed-8e49-491d-abb8-6552dfcab587",
   "metadata": {},
   "source": [
    "# Practice 5"
   ]
  },
  {
   "cell_type": "markdown",
   "id": "e2fe0364-e09a-4b37-ab91-b31c0a164f04",
   "metadata": {},
   "source": [
    "In this practice, the hydrogenation of CO$_2$ to methanol will be analyzed according to the following general reaction:\n",
    "\n",
    "$\\text{CO}_2 + 3\\text{H}_2 \\to \\text{CH}_3\\text{OH}+\\text{H}_2\\text{O}$\n",
    "\n",
    "The above reaction, when carried out on solid surfaces (catalyst), involves the presence of several intermediates. In general, the process is divided into the following blocks of steps, as discussed in class. Therefore, at least four steps are required to describe the surface process:\n",
    "\n",
    "i) Adsorption of 1 CO₂ and 3 H₂ in molecular form.\n",
    "\n",
    "ii) Dissociation of the adsorbed 3H₂* into 6H* atomic species.\n",
    "\n",
    "iii) Surface reactions forming various intermediates.\n",
    "\n",
    "iv) Formation of adsorbed methanol (CH₃OH*).\n",
    "\n",
    "v) Desorption of methanol.\n",
    "\n"
   ]
  },
  {
   "cell_type": "markdown",
   "id": "01c799d5-8451-42d7-9e2d-698f1c6f9f59",
   "metadata": {},
   "source": [
    "**General Procedure**\n",
    "\n",
    "Create a surface and then open the `.CIF` file with ASE from the terminal. Add all adsorbates in a chemical and logical sequence, considering the charges of the atoms on the surface and the adsorbates. Use the general scheme in the following image, which is a summary of general surface reactions involved in CO₂ hydrogenation to methanol, obtained from the article [\"Catalytic Hydrogenation of CO2 to Methanol: A Review\"](https://doi.org/10.3390/catal12040403)\n",
    "\n",
    "\n",
    "\n",
    "<img src=\"images/co_to_methanol.png\" width=\"400\" style=\"margin:auto\"/>"
   ]
  },
  {
   "cell_type": "markdown",
   "id": "0965d358-f93a-4391-94c6-b1a419f290e8",
   "metadata": {},
   "source": [
    "In each case, save the file in `.CIF` format and include an image in your final document in a clear order. Below are the detailed requirements for each case:"
   ]
  },
  {
   "cell_type": "markdown",
   "id": "c44a7df4-b521-420d-bff7-80977077f88f",
   "metadata": {},
   "source": [
    "### 1) Surface Construction\n",
    "Apply what you learned in Practice #4 and use the assigned material (perovskite type) from Practice #3, ID mp-4019. Download the .CIF file from Materials Project, read the file, and create a (100) surface with 4 layers and 10 Å of vacuum. Then, create a $5\\times 5$ supercell and save this file in .CIF format. From this point on, this surface will be used solely for manipulation and visualization with ASE."
   ]
  },
  {
   "cell_type": "markdown",
   "id": "474fb6e8-23c9-41e0-a331-7f9880c72ec2",
   "metadata": {},
   "source": [
    "At this point, we should be pretty familiar with retriving a material from Materials Project. You can check the two previous practices if needed.\n",
    "\n",
    "After having downloaded the material we worked with in practice 4 (that is, $\\text{CaTiO}_3$), we then follow similar steps to this practice in order to build the surface:"
   ]
  },
  {
   "cell_type": "code",
   "execution_count": 1,
   "id": "590eed5f-d2d5-46b3-86fe-b97d12256357",
   "metadata": {
    "tags": []
   },
   "outputs": [],
   "source": [
    "from ase.build import surface\n",
    "from ase.visualize import view\n",
    "from ase.io import read, write"
   ]
  },
  {
   "cell_type": "code",
   "execution_count": 2,
   "id": "b2038406-f8b1-4783-aed8-bd60a27c0495",
   "metadata": {
    "tags": []
   },
   "outputs": [],
   "source": [
    "bulk_CaTiO3 = read(\"CaTiO3.cif\")"
   ]
  },
  {
   "cell_type": "code",
   "execution_count": 3,
   "id": "c3ddfdb4-7e3f-44ef-b5e9-05ab8bca32aa",
   "metadata": {
    "tags": []
   },
   "outputs": [],
   "source": [
    "surf_1x1_CaTiO3 = surface(bulk_CaTiO3, (1,0,0), 4, vacuum=10)"
   ]
  },
  {
   "cell_type": "markdown",
   "id": "47c4fe48-681d-413c-ab51-25e759e61d1e",
   "metadata": {},
   "source": [
    "We create the supercell (5,5,1)"
   ]
  },
  {
   "cell_type": "code",
   "execution_count": 4,
   "id": "e92c0d55-0d79-4ff5-bbb1-870f1fa5f9b3",
   "metadata": {
    "tags": []
   },
   "outputs": [],
   "source": [
    "surf_5x5_CaTiO3 = surf_1x1_CaTiO3*[5,5,1]"
   ]
  },
  {
   "cell_type": "code",
   "execution_count": 5,
   "id": "960563d7-b7a0-48b5-8455-d9aee34f3d36",
   "metadata": {
    "tags": []
   },
   "outputs": [],
   "source": [
    "surf_5x5_CaTiO3.write(\"CaTiO3_supercell_5x5.cif\")\n",
    "surf_1x1_CaTiO3.write(\"CaTiO3_supercell_1x1.cif\")"
   ]
  },
  {
   "cell_type": "markdown",
   "id": "489b39bf-e628-474f-bdeb-439e5ae9b47c",
   "metadata": {},
   "source": [
    "Now that we have the surface, we will be using ASE GUI in order to realize the following steps. We can open the program from the following cell or you could go to the terminal and use the command ``ase gui CaTiO3_supercell_5x5.cif ``"
   ]
  },
  {
   "cell_type": "code",
   "execution_count": 9,
   "id": "4565e031-50fc-4eb1-8ab6-e81230e72290",
   "metadata": {
    "tags": []
   },
   "outputs": [
    {
     "data": {
      "text/plain": [
       "<Popen: returncode: None args: ['/home/paladin/anaconda3/envs/crystals/bin/p...>"
      ]
     },
     "execution_count": 9,
     "metadata": {},
     "output_type": "execute_result"
    }
   ],
   "source": [
    "view(surf_5x5_CaTiO3)"
   ]
  },
  {
   "cell_type": "markdown",
   "id": "b7fb318d-3578-439e-abc6-8add75dc2731",
   "metadata": {},
   "source": [
    "### 2) Initial Adsorbate Localization on the Surface\n",
    "\n",
    "**a) Use ASE and the tips discussed in class to draw adsorbates on the surfaces. Place them in appropriate locations. Add 1 CO₂ and save as initial_1.cif. Then, add 3H₂ to this file and save it as initial_2.cif (containing 1 CO₂ and 3H₂). Fill out the first row of Table 1.**"
   ]
  },
  {
   "cell_type": "markdown",
   "id": "0cf1304c-56ae-44ad-a794-5ce4bad7ec0c",
   "metadata": {},
   "source": [
    "Assuming we are now using ASE GUI, we will show how to use it in order to develop these steps. First, we are going to place $\\text{Co}_2$ on the surface by clicking on the top left menu of the screen (in ASE GUI) the `edit` option, which will display other options, we will select `add atoms`\n",
    "\n",
    "\n",
    "<img src=\"images/ase_edit.png\" width=\"600\" style=\"margin:auto\"/>"
   ]
  },
  {
   "cell_type": "markdown",
   "id": "3e2686a7-6057-44e3-a73c-53c3c0b96d4d",
   "metadata": {},
   "source": [
    "After clicking `Add atoms`, a new widow will open above the supercell. We are going to type in `CO2` and click on `add`\n",
    "\n",
    "<img src=\"images/add_co2.png\" width=\"700\" style=\"margin:auto\"/>"
   ]
  },
  {
   "cell_type": "markdown",
   "id": "384c3ba7-fabd-4309-86ec-1ec5ac143572",
   "metadata": {},
   "source": [
    "Then we will use the arrow of our keyboard in order to rotate and translate the atoms during the whole process"
   ]
  },
  {
   "cell_type": "markdown",
   "id": "aa39f00b-11d4-400c-898a-02b486aa0a9f",
   "metadata": {},
   "source": [
    "1. **Placement of CO2 Adsorbate on the Surface**\n",
    "\n",
    "After creating the supercell, CO2 is added, and its arrangement is verified to ensure it is \"spread out\" on the surface. Considering that the surface has both negatively and positively charged atoms, the carbon atom is positioned above one of the oxygen atoms on the surface, while the oxygen atoms in CO2 are oriented towards the positively charged calcium atoms on the surface.\n",
    "\n",
    "<img src=\"images/1.png\" width=\"500\" style=\"margin:auto\"/>"
   ]
  },
  {
   "cell_type": "markdown",
   "id": "8a79fb35-8aca-4eab-a0cb-b24c5f6fb3b8",
   "metadata": {},
   "source": [
    "**b) Dissociate the adsorbed 3H₂\\* into 6H\\* atomic species, placing the H\\* atoms in Top positions on atoms and/or in hollow sites. Follow a reasonable chemical and geometric criterion. Save as inter_1.cif. Fill out the second row of Table 1.**"
   ]
  },
  {
   "cell_type": "markdown",
   "id": "df759dfc-75c1-4368-b7bf-3036c73a4109",
   "metadata": {},
   "source": [
    "2. **Placement of 3H2 (Adsorbates) on the Surface**\n",
    "Each H2 molecule is placed on the oxygen atoms of the surface. This is because the positive charges of H2 bond more readily with the negative charges of the oxygen atoms.\n",
    "\n",
    "<img src=\"images/2.png\" width=\"500\" style=\"margin:auto\"/>"
   ]
  },
  {
   "cell_type": "markdown",
   "id": "4b7230a8-45bb-4e15-abfd-ade54db6b3fe",
   "metadata": {},
   "source": [
    "### 3) Reaction Pathway Design\n",
    "Form methanol following the pathway discussed and analyzed in class, specifically the methylene glycol intermediate pathway (see Figure 1). For each intermediate, save the structure as `inter_2.cif`, `inter_3.cif`, etc., as applicable, and fill out Table 1."
   ]
  },
  {
   "cell_type": "markdown",
   "id": "7a07465a-1311-4ab4-baa6-358c514bcc2a",
   "metadata": {},
   "source": [
    "3. **Dissociation of the 3H$_2$ Adsorbed into 6H\\* Atomic Species**\n",
    "Each hydrogen atom is placed on a surface oxygen atom, similar to the previous step.\n",
    "\n",
    "<img src=\"images/3.png\" width=\"500\" style=\"margin:auto\"/>"
   ]
  },
  {
   "cell_type": "markdown",
   "id": "61f2a348-9360-4aa8-b16e-26c9f0ae8bd4",
   "metadata": {},
   "source": [
    "4. **Formation of Monodentate Formate**\n",
    "\n",
    "A hydrogen atom (H*) bonds with the carbon of the CO2 adsorbate to form monodentate formate.\n",
    "\n",
    "<img src=\"images/4.png\" width=\"500\" style=\"margin:auto\"/>"
   ]
  },
  {
   "cell_type": "markdown",
   "id": "f088d336-f074-4d86-a125-f06e2607797e",
   "metadata": {},
   "source": [
    "5. **Modification of Monodentate Formate Adsorption**\n",
    "\n",
    "The formed compound adsorbs onto the surface through one of its oxygen atoms. As a result, its structure adjusts to direct an oxygen atom toward the surface.\n",
    "\n",
    "<img src=\"images/5.png\" width=\"500\" style=\"margin:auto\"/>"
   ]
  },
  {
   "cell_type": "markdown",
   "id": "64a303e9-81e4-4180-8142-86f3ab24582f",
   "metadata": {},
   "source": [
    "6. **Adsorption of a Second Oxygen in Monodentate Formate to Form Bidentate Formate**\n",
    "\n",
    "The other oxygen atom adsorbs onto the surface, causing it to rearrange and draw closer to the surface.\n",
    "\n",
    "<img src=\"images/6.png\" width=\"500\" style=\"margin:auto\"/>"
   ]
  },
  {
   "cell_type": "markdown",
   "id": "4a19058c-f088-497f-a5a4-8327984f33f5",
   "metadata": {},
   "source": [
    "7. **Formation of Formic Acid**\n",
    "\n",
    "Formic acid forms by bonding an adsorbed hydrogen atom from the surface with one of the oxygens of the bidentate formate.\n",
    "\n",
    "<img src=\"images/7.png\" width=\"500\" style=\"margin:auto\"/>"
   ]
  },
  {
   "cell_type": "markdown",
   "id": "1c20c2aa-e255-4f5b-944e-926328ebd84f",
   "metadata": {},
   "source": [
    "8. **Formation of Hydroxymethoxy**\n",
    "\n",
    "Hydroxymethoxy is formed when an adsorbed hydrogen atom bonds with the carbon of the formic acid.\n",
    "\n",
    "<img src=\"images/8.png\" width=\"500\" style=\"margin:auto\"/>"
   ]
  },
  {
   "cell_type": "markdown",
   "id": "abf1e99a-0de9-4f9c-bdd4-f9c4f3e59da9",
   "metadata": {},
   "source": [
    "9. **Formation of Methylene Glycol**\n",
    "\n",
    "Methylene glycol forms when another adsorbed hydrogen atom bonds with the oxygen in hydroxymethoxy that is solely bonded to the carbon.\n",
    "\n",
    "<img src=\"images/9.png\" width=\"500\" style=\"margin:auto\"/>"
   ]
  },
  {
   "cell_type": "markdown",
   "id": "d66bc66b-297d-4f4e-9698-d5b55b910660",
   "metadata": {},
   "source": [
    "10 . **Re-adsorption of a Hydrogen Atom from Methylene Glycol**\n",
    "\n",
    "This is an intermediate step in forming formaldehyde, where a hydrogen atom detaches from an oxygen and re-adsorbs onto the surface.\n",
    "\n",
    "<img src=\"images/10.png\" width=\"500\" style=\"margin:auto\"/>"
   ]
  },
  {
   "cell_type": "markdown",
   "id": "3a1a8f65-db31-421d-a7bf-b4801dd1c011",
   "metadata": {},
   "source": [
    "11. **Formation of H2O in Methylene Glycol**\n",
    "\n",
    "As part of another intermediate step in formaldehyde formation, a surface-adsorbed hydrogen atom bonds with an oxygen already linked to a hydrogen atom.\n",
    "\n",
    "<img src=\"images/11.png\" width=\"500\" style=\"margin:auto\"/>"
   ]
  },
  {
   "cell_type": "markdown",
   "id": "daba9013-704f-41d7-99b5-2680122685d8",
   "metadata": {},
   "source": [
    "12. **Desorption of H2O from the Surface to Form Formaldehyde**\n",
    "\n",
    "The previously formed H2O desorbs from the surface, leaving formaldehyde as the resulting compound on the surface.\n",
    "\n",
    "<img src=\"images/12.png\" width=\"500\" style=\"margin:auto\"/>"
   ]
  },
  {
   "cell_type": "markdown",
   "id": "3ce5b86f-c134-414e-b3d2-1a1cfe85ab2a",
   "metadata": {},
   "source": [
    "13. **Reorganization of the Formaldehyde Structure**\n",
    "\n",
    "Although formaldehyde has formed, its structure is adjusted to match the diagram presented.\n",
    "\n",
    "<img src=\"images/13.png\" width=\"500\" style=\"margin:auto\"/>"
   ]
  },
  {
   "cell_type": "markdown",
   "id": "9408a3bd-2476-4b6e-9d7a-b90a0ac39303",
   "metadata": {},
   "source": [
    "14. **Relocation of Adsorbate to a Different Surface Site**\n",
    "\n",
    "This is performed because, as seen in the images, formaldehyde is adsorbed with an oxygen atom on another oxygen atom, which may not be chemically viable in terms of charges. The adsorbate is moved to a surface site with more positive charges.\n",
    "\n",
    "<img src=\"images/14.png\" width=\"500\" style=\"margin:auto\"/>"
   ]
  },
  {
   "cell_type": "markdown",
   "id": "6391d014-6632-4109-b163-0399fa0b18f5",
   "metadata": {},
   "source": [
    "15. **Formation of Methoxy**\n",
    "\n",
    "Methoxy forms when a surface-adsorbed hydrogen atom bonds with the carbon in formaldehyde.\n",
    "\n",
    "<img src=\"images/15.png\" width=\"600\" style=\"margin:auto\"/>"
   ]
  },
  {
   "cell_type": "markdown",
   "id": "9e944e9f-5c83-4632-a4db-7bd93121c495",
   "metadata": {},
   "source": [
    "16. **Formation of Methanol**\n",
    "\n",
    "Methanol forms when the final surface-adsorbed hydrogen atom bonds with the oxygen in methoxy.\n",
    "\n",
    "<img src=\"images/16.png\" width=\"500\" style=\"margin:auto\"/>"
   ]
  },
  {
   "cell_type": "markdown",
   "id": "9cef7a35-737d-4bd0-b955-08a85cc0fc58",
   "metadata": {},
   "source": [
    "17. **Reorganization of the Methanol Structure**\n",
    "\n",
    "The structure of methanol is adjusted to account for the typical inclination of the carbon atom in its arrangement.\n",
    "\n",
    "<img src=\"images/17.png\" width=\"600\" style=\"margin:auto\"/>"
   ]
  },
  {
   "cell_type": "markdown",
   "id": "ce6f9c59-f2e1-42a0-9e81-de6e8f9bdf7c",
   "metadata": {},
   "source": [
    "### ) Process Conclusion\n",
    "Desorb (remove) the formed methanol (CH₃OH*) at the end of the process. Save as `final.cif`."
   ]
  },
  {
   "cell_type": "markdown",
   "id": "16e62f88-2591-44b9-b661-915d53caa17d",
   "metadata": {},
   "source": [
    "18. **Desorption of Methanol from the Surface**\n",
    "\n",
    "In this final step, the formed methanol structure is removed, illustrating its desorption. This restores the surface to its initial state before adsorbates were added.\n",
    "\n",
    "<img src=\"images/18.png\" width=\"600\" style=\"margin:auto\"/>"
   ]
  },
  {
   "cell_type": "markdown",
   "id": "76eea361-670d-4872-afff-6c69b30049e2",
   "metadata": {},
   "source": [
    "**Can the catalytic cycle continue in the same way to produce a second, third, etc., molecule of methanol? Alternatively, would there be any limitations?**\n",
    "\n",
    "It can be observed that during the reaction pathway, all adsorbates on the surface are used, returning the surface to its initial state after the process. This suggests that another catalytic cycle could begin for a second set of molecules. Additionally, since adsorbates do not accumulate on the surface, there is no risk of catalyst poisoning, which could otherwise act as a limitation.\n",
    "\n",
    "Based solely on the reaction pathway with all intermediates, there seem to be no limitations to the process. However, considering a broader perspective, it is important to factor in the reaction mechanism, activation energies for each intermediate, and the necessary conditions (e.g., pressure and temperature) for the catalytic cycle. Regarding repeated cycles, the surface's functional capacity under continuous use should also be considered.\n"
   ]
  }
 ],
 "metadata": {
  "kernelspec": {
   "display_name": "Python 3 (ipykernel)",
   "language": "python",
   "name": "python3"
  },
  "language_info": {
   "codemirror_mode": {
    "name": "ipython",
    "version": 3
   },
   "file_extension": ".py",
   "mimetype": "text/x-python",
   "name": "python",
   "nbconvert_exporter": "python",
   "pygments_lexer": "ipython3",
   "version": "3.11.4"
  }
 },
 "nbformat": 4,
 "nbformat_minor": 5
}

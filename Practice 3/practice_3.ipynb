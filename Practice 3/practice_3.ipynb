{
 "cells": [
  {
   "cell_type": "markdown",
   "metadata": {},
   "source": [
    "During this practice, the students were asked to choose a ionic solid from the Materials Project database in order to develop the following steps.\n",
    "\n",
    "**Important note:** remember that, in order to obtain full access to the database it is necessary to create a Materials Project account. The instructions for creating an account and start exploring the database are given in the readme file of this repository."
   ]
  },
  {
   "cell_type": "markdown",
   "metadata": {},
   "source": [
    "### 1. Download the .cif file. Visualize the crystaline sctructure using ASE GUI in order to answer the following statements. In order to realize the modifications to the structure, use ASE GUI, and to visualize, use ASE GUI or VESTA, as preferred. Replicate the unit cell as considered more convenient."
   ]
  },
  {
   "cell_type": "markdown",
   "metadata": {},
   "source": [
    "The material chosen is $\\text{CaTiO}_3$ (it is possible to replicate this work what any other solid from Materials Project). In this case, the structure file will be downloaded manually from the webpage. But first, let us assume that we are just entering for the first time after successfully logging in. This what it should look like:\n",
    "\n",
    "<img src=\"images/mp_init_page.png\" width=\"700\" style=\"margin:auto\"/>"
   ]
  },
  {
   "cell_type": "markdown",
   "metadata": {},
   "source": [
    "In order to begin our search for the material we are going to work with, we click the `Start Exploring Materials` button, at the left side of the page, around the section in the middle, which will bring us to this new page:\n",
    "\n",
    "\n",
    "<img src=\"images/start_exploring_button.png\" width=\"700\" style=\"margin:auto\"/>"
   ]
  },
  {
   "cell_type": "markdown",
   "metadata": {},
   "source": [
    "As we can see, there is a search bar that will allow us to type the material we are interested in obtaining. However, it is important to mention that there are different ways to look for materials. We let the reader explore at their own pace. From now on, we are going to type in the material for this example CaTiO3 and hit enter which will give us the following results:\n",
    "\n",
    "<img src=\"images/materials_search.png\" width=\"700\" style=\"margin:auto\"/>\n"
   ]
  },
  {
   "cell_type": "markdown",
   "metadata": {},
   "source": [
    "Notice that on the left side there's a filter section, where we can make our search more detailed to what we are specifically looking for. It is worth mentioning that we encourage the reader to explore all of these functionalities to get the most out of Materials Project, but for now, we are going to click on the first element of the `Material ID` column, which is `mp-4019`, to the right of the star sign. The new page will look like this:\n",
    "\n",
    "\n",
    "<img src=\"images/material_overview.png\" width=\"700\" style=\"margin:auto\"/>"
   ]
  },
  {
   "cell_type": "markdown",
   "metadata": {},
   "source": [
    "This page contains a vast amount of information and properties for the material that can be explored later on, but for now we need to obtain the CIF file, which we accomplish by click the last icon inside of the square of the visual representation, the one highlighted with blue:\n",
    "\n",
    "<img src=\"images/cif_download.png\" width=\"700\" style=\"margin:auto\"/>"
   ]
  },
  {
   "cell_type": "markdown",
   "metadata": {},
   "source": [
    "Notice that after clicking it, it expands into several options, from which we are going to choose the second one, `CIF`. It will open the file explorer of the computer so make sure to save it in the same directory of this notebook."
   ]
  },
  {
   "cell_type": "markdown",
   "metadata": {},
   "source": [
    "With the file downloaded, we are ready to visualize the structure using ASE (remember to have installed ASE in the environment you are working in order for the code to work properly)"
   ]
  },
  {
   "cell_type": "code",
   "execution_count": 1,
   "metadata": {
    "tags": []
   },
   "outputs": [],
   "source": [
    "! ase gui CaTiO3.cif"
   ]
  },
  {
   "cell_type": "markdown",
   "metadata": {},
   "source": [
    "Here is an image that contains the visualizations using the multiple tools mentioned:\n",
    "\n",
    "<img src=\"images/ase_vesta_MP_visualization.png\" width=\"700\" style=\"margin:auto\"/>\n",
    "\n",
    "Remember that by opening the file in each of these programs, you can interact with the image by rotating it to see its structure from different angles and also explore other functionalities."
   ]
  },
  {
   "cell_type": "markdown",
   "metadata": {},
   "source": [
    "We are now going to modify the structure by applying vacancies, defects and impurities"
   ]
  },
  {
   "cell_type": "markdown",
   "metadata": {},
   "source": [
    "**a) Create a vacancy by removing a cation. Explain the implications this would have on both the geometry (and therefore symmetry) and the electronic structure of the solid.**"
   ]
  },
  {
   "cell_type": "markdown",
   "metadata": {},
   "source": [
    "The cations in the material are $\\text{Ca}^{2+}$ and $\\text{Ti}^{4+}$, so the vacancy can be created by removing one of these.\n",
    "For this specific example, a Calcium atom is removed, as shown highlighted in the following image:\n",
    "\n",
    "<img src=\"images/cation_highlighted.png\" width=\"300\" style=\"margin:auto\"/>\n"
   ]
  },
  {
   "cell_type": "markdown",
   "metadata": {},
   "source": [
    "After removing the cation, a comparison is made by replicating the unit cell along each axis:\n",
    "\n",
    "<img src=\"images/vs_vacancy.png\" width=\"500\" style=\"margin:auto\"/>"
   ]
  },
  {
   "cell_type": "markdown",
   "metadata": {},
   "source": [
    "By removing a cation located at one of the corners of the cell, it can be observed that the geometry is significantly affected, as the unit cell will have a different arrangement than the original. This change may alter properties such as the lattice type, although in this particular case, since the atom is located at a corner, its influence on specific lattice systems (e.g., face-centered, body-centered, primitive) might not be as significant. However, it does imply that the space group symmetry of the solid could change.\n",
    "\n",
    "Additionally, geometric characteristics like density may vary, as the number of atoms contained within a unit cell of a given volume changes.\n",
    "\n",
    "On the other hand, removing a cation modifies the electronic structure of the solid. The removed Ca²⁺ cation contributed electrons to the molecular orbitals that were part of the solid’s original electronic structure. These contributions influenced properties such as the specific bandgap, which determines its conductive capacity. By removing a cation, this structure is disrupted, potentially leading to changes in the band structure and, consequently, variations in the bandgap. Such changes could alter the solid's conductive properties."
   ]
  },
  {
   "cell_type": "markdown",
   "metadata": {},
   "source": [
    "**b) Create a Frenkel defect. Explain.**\n",
    "\n",
    "In a Frenkel defect, a cation from the same material is relocated to an interstitial position (between two layers). To facilitate this process, the unit cell is first replicated along two axes. Then, a cation is selected from the solid and moved to an empty space. Following the organizational pattern of the atoms, the cation is relocated to a position where it is surrounded by oxygen anions, as is typical for cations in the material. The formation of this defect is illustrated below:\n",
    "\n",
    "\n",
    "<img src=\"images/frenkel_defect.png\" width=\"500\" style=\"margin:auto\"/>\n"
   ]
  },
  {
   "cell_type": "markdown",
   "metadata": {},
   "source": [
    "The implications of this defect on the solid differ slightly from those of vacancies. This is because, although an atom is removed from its original position, it is reintroduced elsewhere within the solid. This means the overall charge of the system remains unaffected, unlike in the case of a vacancy. However, it can still be considered that this rearrangement of charges may influence the behavior of the system.\n",
    "\n",
    "Specifically, upon further investigation into the implications of this defect, it was found that it can increase the dielectric constant of the solid. This occurs because when the atom is relocated, if it ends up in a region where there are other charges similar to its own, these charges will repel each other."
   ]
  },
  {
   "cell_type": "markdown",
   "metadata": {},
   "source": [
    "**c) Create a Schottky defect. Explain.**\n",
    "\n",
    "In a Schottky defect, vacancies occur in pairs of atoms such that when they are removed, the charge of the solid remains neutral. This means the removed pair must consist of cations and anions whose charges sum to zero. For this example, an oxygen atom with a charge of 2⁻ and a calcium atom with a charge of 2⁺ were removed. As a result, the total charge of the solid is unaffected by these vacancies.\n",
    "\n",
    "It is also noteworthy that the removal of these pairs does not require the atoms to be adjacent; they can be taken from arbitrary parts of the cell. The process is illustrated below:\n",
    "\n",
    "<img src=\"images/schottky_defect.png\" width=\"600\" style=\"margin:auto\"/>\n"
   ]
  },
  {
   "cell_type": "markdown",
   "metadata": {},
   "source": [
    "Similarly to simple vacancies, the removal of atoms results in a lower concentration of atoms within the cell, leading to a decrease in its density."
   ]
  },
  {
   "cell_type": "markdown",
   "metadata": {},
   "source": [
    "**d) Add an interstitial impurity from a foreign atom. Explain.**\n",
    "\n",
    "For this type of impurity, it is necessary to introduce an atom that occupies an interstitial position, similar to how the calcium cation was positioned in part (b). In this case, the number of atoms in the defect-free solid remains unchanged, and since an additional atom is being introduced into the unit cell of a fixed volume, properties like density will change, specifically increasing.\n",
    "\n",
    "Additionally, the electronic structure of the solid may also be affected, as the charge of the added atom will influence the charges of the surrounding atoms. This could lead to changes in the band structure and, consequently, variations in the solid's conductivity.\n",
    "\n",
    "The selected element is Chromium (Cr), which has the following oxidation states, as noted in [Ptable](https://ptable.com/?lang=en#Properties):\n",
    "\n",
    "- -2, -1, 1, 2, 3, 4, 5, 6\n",
    "\n",
    "This means there are multiple possible oxidation states that the Cr atom could assume when placed in the cell. The designated position for the Cr atom is primarily surrounded by oxygen atoms, with calcium atoms nearby, and titanium atoms located in the adjacent layer. The process is illustrated below:\n",
    "\n",
    "<img src=\"images/interstitial_impurity.png\" width=\"600\" style=\"margin:auto\"/>"
   ]
  },
  {
   "cell_type": "markdown",
   "metadata": {},
   "source": [
    "**e) Demonstrate an isomorphic substitution impurity by replacing one atom with a different one. Explain.**\n",
    "\n",
    "For this type of impurity, it is essential to consider various factors before making the substitution. The term \"isomorphic\" implies that the atom used to replace one in the system must have similar characteristics, particularly in terms of atomic size and charge. Therefore, an exploration of the periodic table was conducted to identify elements with properties resembling those of $\\text{Ca}^{2+}$.\n",
    "\n",
    "It was observed that elements adjacent to calcium on the periodic table have significantly smaller atomic sizes compared to calcium. Consequently, elements within the transition metals that can also exhibit a $+2$ oxidation state were considered. As shown in the following image, rhodium ($Rh$) appears to be a suitable choice for substitution:\n",
    "\n",
    "<img src=\"images/isomorphic_substitution.png\" width=\"500\" style=\"margin:auto\"/>"
   ]
  },
  {
   "cell_type": "markdown",
   "metadata": {},
   "source": [
    "Thus, a $\\text{Ca}^{2+}$ atom was replaced with $\\text{Rh}^{2+}$ as follows:\n",
    "\n",
    "<img src=\"images/isomorphic_substitution_2.png\" width=\"600\" style=\"margin:auto\"/>"
   ]
  },
  {
   "cell_type": "markdown",
   "metadata": {},
   "source": [
    "### Use the structure outlined in numeral 1) to develop the following statements. In the relevant sections, include the lines of code used. "
   ]
  },
  {
   "cell_type": "markdown",
   "metadata": {},
   "source": [
    "**a) Locate the phase diagram of the crystalline system and analyze it in detail. Indicate which species is (or are) the most stable and whether the system you have is stable.**"
   ]
  },
  {
   "cell_type": "markdown",
   "metadata": {},
   "source": [
    "In order to obtain the phase diagram we are going back to the Materials Project webpage where we left it, with all the information about the [material we are working with](https://next-gen.materialsproject.org/materials/mp-4019?formula=CaTiO3).\n",
    "\n",
    "Recall that when we downloaded the CIF file, there was a menu at the left side of the page called `table of contents`. We encourage the reader to explore the different information that can be found in each of these section but for now we are going to click on the one called `Properties`, which will show us the following:\n",
    "\n",
    "<img src=\"images/phase_diagram_step1.png\" width=\"700\" style=\"margin:auto\"/>"
   ]
  },
  {
   "cell_type": "markdown",
   "metadata": {},
   "source": [
    "And we are going to click button at the lowest part on the image where it says `Generate Phase Diagram`:\n",
    "\n",
    "<img src=\"images/phase_diagram2.png\" width=\"700\" style=\"margin:auto\"/>"
   ]
  },
  {
   "cell_type": "markdown",
   "metadata": {},
   "source": [
    "In the lower-left corner is $\\text{Ti}$, in the lower-right corner is $\\text{O}_2$, and at the top is $\\text{Ca}$.\n",
    "\n",
    "The proportion of each element composing the solid being analyzed ($\\text{CaTiO}_{3}$) can also be obtained from the phase diagram: \n",
    "\n",
    "$$\\text{Ca}_{0.2}\\text{Ti}_{0.2}\\text{O}_{0.6}$$\n",
    "\n",
    "The most stable species are highlighted in green. It is evident that the majority are located at the bottom of the diagram, between titanium and oxygen, suggesting that the most stable species are composed of these two elements in varying proportions (sometimes with titanium in greater proportions, and sometimes with more oxygen).\n",
    "\n",
    "It is also noticeable that there do not appear to be species formed solely from titanium and calcium, regardless of their proportions.\n",
    "\n",
    "Finally, the species $\\text{CaTiO}_{3}$ is identified as stable."
   ]
  },
  {
   "cell_type": "markdown",
   "metadata": {},
   "source": [
    "**Locate the formation energy graph. Analyze it.**\n",
    "\n",
    "The formation energy is related to the phase diagram presented in the previous section, as it is possible to identify the formation energies for each compound in the diagram. A pattern can be observed indicating that the compounds with lower formation energies correspond to stable compounds (those marked in green), while compounds that are not identified as stable have higher formation energies associated with them.\n",
    "\n",
    "Upon closely examining the values of these energies, it is observed that for each compound labeled as stable, the formation energy tends to be around -3 eV, while the compounds marked with red diamonds typically have formation energies close to or greater than -2 eV."
   ]
  },
  {
   "cell_type": "markdown",
   "metadata": {},
   "source": [
    "**c) Locate the electronic structure, particularly the band structure and the density of states. Analyze the graph according to what was covered in class.**\n",
    "\n",
    "In order to obtain the band structure and the density of states, we are going to click on `Electronic Structure`, next to `Phase Stability`, where we should be located after generating the phase diagram. \n",
    "\n",
    "<img src=\"images/electronic_structure_step1.png\" width=\"700\" style=\"margin:auto\"/>"
   ]
  },
  {
   "cell_type": "markdown",
   "metadata": {},
   "source": [
    "We will show the band structure more clearly in order to analyze it properly:"
   ]
  },
  {
   "cell_type": "markdown",
   "metadata": {},
   "source": [
    "<img src=\"images/electronic_structure.png\" width=\"700\" style=\"margin:auto\"/>"
   ]
  },
  {
   "cell_type": "markdown",
   "metadata": {},
   "source": [
    "Upon closely examining the band structure, we can identify the valence band at the bottom and the conduction band at the top. A gap is observed between them, which initially suggests that the solid is not a metal (conductor). Therefore, it is necessary to consider the size of this gap in more detail to determine whether it is a semiconductor or an insulator. According to the information provided by the Materials Project, the bandgap of this solid is 2.31 eV, which, based on the intervals discussed in class, indicates that the solid is a semiconductor.\n",
    "\n",
    "Additionally, the density of states reveals the elements associated with the conduction and valence bands. For this solid, oxygen predominantly occupies the valence band, while calcium and titanium predominantly occupy the conduction band. This observation highlights a trend where cations tend to move toward the conduction band, while anions are more likely to be found in the valence band. This can be interpreted as the valence band containing orbitals that have a complete number of electrons, while the conduction band corresponds to orbitals that are not fully occupied.\n",
    "\n"
   ]
  },
  {
   "cell_type": "markdown",
   "metadata": {},
   "source": [
    "**d) Using Jupyter Lab, load the .CIF file, visualize (print) the crystallographic information, and observe the structure using the Crystal Toolkit. Determine the oxidation states of each atom in the crystalline structure using the methodology discussed in class. Visualize your data (print). Show the lines of code used.**"
   ]
  },
  {
   "cell_type": "markdown",
   "metadata": {},
   "source": [
    "Even though we already have the CIF file of our material because we manually downloaded it from Materials Project, we are going to show the step to use the Materials Project API to easily obtain the structure with just a few lines of code.\n",
    "\n",
    "First of all, please make sure you have all the necessary libraries installed (see the readme file of this repository for guidance)"
   ]
  },
  {
   "cell_type": "code",
   "execution_count": 1,
   "metadata": {
    "tags": []
   },
   "outputs": [],
   "source": [
    "#import libraries\n",
    "import pymatgen\n",
    "import crystal_toolkit\n",
    "from pymatgen.ext.matproj import MPRester\n",
    "from pymatgen.transformations.standard_transformations import AutoOxiStateDecorationTransformation #to determine the oxidation states"
   ]
  },
  {
   "cell_type": "markdown",
   "metadata": {},
   "source": [
    "The next step is to obtain the API key. This is necessary to make any request to the Materials Project API and there's a unique key for each Materials Project account. **You shouldn't share this key with anyone.**\n",
    "\n",
    "In order to obtain the API key, we are going to the main page of Materials Project after logging in, which should look like this:\n",
    "\n",
    "<img src=\"images/mp_init_page.png\" width=\"700\" style=\"margin:auto\"/>"
   ]
  },
  {
   "cell_type": "markdown",
   "metadata": {},
   "source": [
    "Then we go to the top right and click on the `API` button and it will shows us this new page:\n",
    "\n",
    "\n",
    "<img src=\"images/api_page.png\" width=\"700\" style=\"margin:auto\"/>"
   ]
  },
  {
   "cell_type": "markdown",
   "metadata": {},
   "source": [
    "Note the menu on the left side on the screen. Click on the `API Key` button at it will show you something like this:\n",
    "\n",
    "<img src=\"images/api_key.png\" width=\"700\" style=\"margin:auto\"/>"
   ]
  },
  {
   "cell_type": "markdown",
   "metadata": {},
   "source": [
    "Your personal API key should appear where the red line is located in the image. You can select and copy it, and then paste it in the following cell as indicated:"
   ]
  },
  {
   "cell_type": "code",
   "execution_count": 2,
   "metadata": {
    "tags": []
   },
   "outputs": [],
   "source": [
    "# In this cell you are going to paste your API key\n",
    "\"\"\"\n",
    "The next two lines of code should be uncommented and executed if you want to try\n",
    "the steps by yourself locally using the API and your personal key.\n",
    "In order to continue with this example, we only read the structure from the CIF\n",
    "file previously downloaded, however, after readind the structure either from the\n",
    "CIF file or the API, the rest of the process will be the same\n",
    "\"\"\"\n",
    "# mpr = MPRester('your API key should go here') #replace the text inside the quotation marks with your key \n",
    "# CaTiO3 = mpr.get_structure_by_material_id('mp-4019')\n",
    "\n",
    "\"\"\"\n",
    "So if you are going to use your API key, the next two lines should be commented\n",
    "because they just read the structure from the CIF file we already\n",
    "downloaded manually\n",
    "\"\"\"\n",
    "from pymatgen.core.structure import Structure\n",
    "\n",
    "# Load the CIF file\n",
    "CaTiO3 = Structure.from_file(\"CaTiO3.cif\")"
   ]
  },
  {
   "cell_type": "markdown",
   "metadata": {},
   "source": [
    "Now that we have our structure, we want to see the crystallographic information as follows:"
   ]
  },
  {
   "cell_type": "code",
   "execution_count": 3,
   "metadata": {
    "tags": []
   },
   "outputs": [
    {
     "name": "stdout",
     "output_type": "stream",
     "text": [
      "Full Formula (Ca4 Ti4 O12)\n",
      "Reduced Formula: CaTiO3\n",
      "abc   :   5.372049   5.462796   7.636360\n",
      "angles:  90.000000  90.000000  90.000000\n",
      "pbc   :       True       True       True\n",
      "Sites (20)\n",
      "  #  SP           a         b         c\n",
      "---  ----  --------  --------  --------\n",
      "  0  Ca2+  0.509067  0.542398  0.75\n",
      "  1  Ca2+  0.490933  0.457602  0.25\n",
      "  2  Ca2+  0.990933  0.042398  0.75\n",
      "  3  Ca2+  0.009067  0.957602  0.25\n",
      "  4  Ti4+  0         0.5       0.5\n",
      "  5  Ti4+  0         0.5       0\n",
      "  6  Ti4+  0.5       0         0.5\n",
      "  7  Ti4+  0.5       0         0\n",
      "  8  O2-   0.076781  0.481328  0.75\n",
      "  9  O2-   0.923219  0.518672  0.25\n",
      " 10  O2-   0.423219  0.981328  0.75\n",
      " 11  O2-   0.576781  0.018672  0.25\n",
      " 12  O2-   0.790294  0.789614  0.959841\n",
      " 13  O2-   0.209706  0.210386  0.459841\n",
      " 14  O2-   0.209706  0.210386  0.040159\n",
      " 15  O2-   0.790294  0.789614  0.540159\n",
      " 16  O2-   0.709706  0.289614  0.959841\n",
      " 17  O2-   0.290294  0.710386  0.459841\n",
      " 18  O2-   0.290294  0.710386  0.040159\n",
      " 19  O2-   0.709706  0.289614  0.540159\n"
     ]
    }
   ],
   "source": [
    "#crystallographic information\n",
    "print(CaTiO3)"
   ]
  },
  {
   "cell_type": "markdown",
   "metadata": {},
   "source": [
    "Then we visualize the structure using Crystal Toolkit"
   ]
  },
  {
   "cell_type": "code",
   "execution_count": 4,
   "metadata": {
    "tags": []
   },
   "outputs": [
    {
     "data": {
      "application/vnd.mp.ctk+json": {
       "contents": [
        {
         "contents": [
          {
           "clickable": true,
           "color": "#ff0d0d",
           "id": "--atoms--0",
           "positions": [
            [
             2.2735525555549647,
             5.360793078076053,
             5.727269715000001
            ]
           ],
           "radius": 0.5,
           "tooltip": "O2- (2.274, 5.361, 5.727)",
           "type": "spheres"
          },
          {
           "clickable": true,
           "color": "#3dff00",
           "id": "--atoms--1",
           "positions": [
            [
             2.6373165464707773,
             2.4997890576754003,
             1.9090899050000003
            ]
           ],
           "radius": 0.5,
           "tooltip": "Ca2+ (2.637, 2.500, 1.909)",
           "type": "spheres"
          },
          {
           "clickable": true,
           "color": "#bfc2c7",
           "id": "--atoms--2",
           "positions": [
            [
             5.37204886,
             2.731398245,
             3.8181798100000006
            ]
           ],
           "radius": 0.5,
           "tooltip": "Ti4+ (5.372, 2.731, 3.818)",
           "type": "spheres"
          },
          {
           "clickable": true,
           "color": "#ff0d0d",
           "id": "--atoms--3",
           "positions": [
            [
             3.8125768124088406,
             1.582101140839632,
             4.124846237798887
            ]
           ],
           "radius": 0.5,
           "tooltip": "O2- (3.813, 1.582, 4.125)",
           "type": "spheres"
          },
          {
           "clickable": true,
           "color": "#ff0d0d",
           "id": "--atoms--4",
           "positions": [
            [
             3.8125768124088406,
             1.582101140839632,
             -0.3066664277988859
            ]
           ],
           "radius": 0.5,
           "tooltip": "O2- (3.813, 1.582, -0.307)",
           "type": "spheres"
          },
          {
           "clickable": true,
           "color": "#bfc2c7",
           "id": "--atoms--5",
           "positions": [
            [
             2.6860244299999994,
             5.46279649,
             4.989713728251495e-16
            ]
           ],
           "radius": 0.5,
           "tooltip": "Ti4+ (2.686, 5.463, 0.000)",
           "type": "spheres"
          },
          {
           "clickable": true,
           "color": "#ff0d0d",
           "id": "--atoms--6",
           "positions": [
            [
             4.245496477591159,
             4.313499385839632,
             7.329693192201114
            ]
           ],
           "radius": 0.5,
           "tooltip": "O2- (4.245, 4.313, 7.330)",
           "type": "spheres"
          },
          {
           "clickable": true,
           "color": "#3dff00",
           "id": "--atoms--7",
           "positions": [
            [
             0.04870788352922227,
             5.2311873026754006,
             1.9090899050000003
            ]
           ],
           "radius": 0.5,
           "tooltip": "Ca2+ (0.049, 5.231, 1.909)",
           "type": "spheres"
          },
          {
           "clickable": true,
           "color": "#ff0d0d",
           "id": "--atoms--8",
           "positions": [
            [
             1.1265523824088406,
             1.149297104160368,
             0.3066664277988866
            ]
           ],
           "radius": 0.5,
           "tooltip": "O2- (1.127, 1.149, 0.307)",
           "type": "spheres"
          },
          {
           "clickable": true,
           "color": "#bfc2c7",
           "id": "--atoms--9",
           "positions": [
            [
             -1.672499058967974e-16,
             2.731398245,
             1.672499058967974e-16
            ]
           ],
           "radius": 0.5,
           "tooltip": "Ti4+ (-0.000, 2.731, 0.000)",
           "type": "spheres"
          },
          {
           "clickable": true,
           "color": "#bfc2c7",
           "id": "--atoms--10",
           "positions": [
            [
             2.6860244299999994,
             5.46279649,
             7.636359620000001
            ]
           ],
           "radius": 0.5,
           "tooltip": "Ti4+ (2.686, 5.463, 7.636)",
           "type": "spheres"
          },
          {
           "clickable": true,
           "color": "#ff0d0d",
           "id": "--atoms--11",
           "positions": [
            [
             1.1265523824088406,
             1.149297104160368,
             7.943026047798886
            ]
           ],
           "radius": 0.5,
           "tooltip": "O2- (1.127, 1.149, 7.943)",
           "type": "spheres"
          },
          {
           "clickable": true,
           "color": "#ff0d0d",
           "id": "--atoms--12",
           "positions": [
            [
             3.098496304445034,
             5.564799901923945,
             1.9090899050000005
            ]
           ],
           "radius": 0.5,
           "tooltip": "O2- (3.098, 5.565, 1.909)",
           "type": "spheres"
          },
          {
           "clickable": true,
           "color": "#bfc2c7",
           "id": "--atoms--13",
           "positions": [
            [
             -1.672499058967974e-16,
             2.731398245,
             7.63635962
            ]
           ],
           "radius": 0.5,
           "tooltip": "Ti4+ (-0.000, 2.731, 7.636)",
           "type": "spheres"
          },
          {
           "clickable": true,
           "color": "#ff0d0d",
           "id": "--atoms--14",
           "positions": [
            [
             3.8125768124088406,
             1.582101140839632,
             7.329693192201114
            ]
           ],
           "radius": 0.5,
           "tooltip": "O2- (3.813, 1.582, 7.330)",
           "type": "spheres"
          },
          {
           "clickable": true,
           "color": "#3dff00",
           "id": "--atoms--15",
           "positions": [
            [
             5.323340976470777,
             5.694405677324599,
             5.727269715000001
            ]
           ],
           "radius": 0.5,
           "tooltip": "Ca2+ (5.323, 5.694, 5.727)",
           "type": "spheres"
          },
          {
           "clickable": true,
           "color": "#3dff00",
           "id": "--atoms--16",
           "positions": [
            [
             5.420756743529222,
             5.2311873026754006,
             1.9090899050000008
            ]
           ],
           "radius": 0.5,
           "tooltip": "Ca2+ (5.421, 5.231, 1.909)",
           "type": "spheres"
          },
          {
           "clickable": true,
           "color": "#ff0d0d",
           "id": "--atoms--17",
           "positions": [
            [
             1.5594720475911588,
             3.8806953491603675,
             0.30666642779888675
            ]
           ],
           "radius": 0.5,
           "tooltip": "O2- (1.559, 3.881, 0.307)",
           "type": "spheres"
          },
          {
           "clickable": true,
           "color": "#bfc2c7",
           "id": "--atoms--18",
           "positions": [
            [
             2.68602443,
             0,
             1.6447156103155468e-16
            ]
           ],
           "radius": 0.5,
           "tooltip": "Ti4+ (2.686, 0.000, 0.000)",
           "type": "spheres"
          },
          {
           "clickable": true,
           "color": "#bfc2c7",
           "id": "--atoms--19",
           "positions": [
            [
             5.37204886,
             2.731398245,
             4.961930279599067e-16
            ]
           ],
           "radius": 0.5,
           "tooltip": "Ti4+ (5.372, 2.731, 0.000)",
           "type": "spheres"
          },
          {
           "clickable": true,
           "color": "#bfc2c7",
           "id": "--atoms--20",
           "positions": [
            [
             2.6860244299999994,
             5.46279649,
             3.8181798100000006
            ]
           ],
           "radius": 0.5,
           "tooltip": "Ti4+ (2.686, 5.463, 3.818)",
           "type": "spheres"
          },
          {
           "clickable": true,
           "color": "#bfc2c7",
           "id": "--atoms--21",
           "positions": [
            [
             2.68602443,
             0,
             7.63635962
            ]
           ],
           "radius": 0.5,
           "tooltip": "Ti4+ (2.686, 0.000, 7.636)",
           "type": "spheres"
          },
          {
           "clickable": true,
           "color": "#ff0d0d",
           "id": "--atoms--22",
           "positions": [
            [
             1.5594720475911588,
             3.8806953491603675,
             7.943026047798887
            ]
           ],
           "radius": 0.5,
           "tooltip": "O2- (1.559, 3.881, 7.943)",
           "type": "spheres"
          },
          {
           "clickable": true,
           "color": "#bfc2c7",
           "id": "--atoms--23",
           "positions": [
            [
             5.37204886,
             2.731398245,
             7.636359620000001
            ]
           ],
           "radius": 0.5,
           "tooltip": "Ti4+ (5.372, 2.731, 7.636)",
           "type": "spheres"
          },
          {
           "clickable": true,
           "color": "#ff0d0d",
           "id": "--atoms--24",
           "positions": [
            [
             4.959576985554965,
             2.833401656923946,
             1.9090899050000005
            ]
           ],
           "radius": 0.5,
           "tooltip": "O2- (4.960, 2.833, 1.909)",
           "type": "spheres"
          },
          {
           "clickable": true,
           "color": "#ff0d0d",
           "id": "--atoms--25",
           "positions": [
            [
             2.273552555554965,
             -0.10200341192394644,
             5.727269715
            ]
           ],
           "radius": 0.5,
           "tooltip": "O2- (2.274, -0.102, 5.727)",
           "type": "spheres"
          },
          {
           "clickable": true,
           "color": "#ff0d0d",
           "id": "--atoms--26",
           "positions": [
            [
             3.0984963044450344,
             0.10200341192394619,
             1.9090899050000003
            ]
           ],
           "radius": 0.5,
           "tooltip": "O2- (3.098, 0.102, 1.909)",
           "type": "spheres"
          },
          {
           "clickable": true,
           "color": "#3dff00",
           "id": "--atoms--27",
           "positions": [
            [
             2.7347323135292227,
             2.9630074323245994,
             5.727269715
            ]
           ],
           "radius": 0.5,
           "tooltip": "Ca2+ (2.735, 2.963, 5.727)",
           "type": "spheres"
          },
          {
           "clickable": true,
           "color": "#3dff00",
           "id": "--atoms--28",
           "positions": [
            [
             5.323340976470777,
             0.23160918732459948,
             5.727269715
            ]
           ],
           "radius": 0.5,
           "tooltip": "Ca2+ (5.323, 0.232, 5.727)",
           "type": "spheres"
          },
          {
           "clickable": true,
           "color": "#ff0d0d",
           "id": "--atoms--29",
           "positions": [
            [
             1.1265523824088406,
             1.149297104160368,
             3.511513382201114
            ]
           ],
           "radius": 0.5,
           "tooltip": "O2- (1.127, 1.149, 3.512)",
           "type": "spheres"
          },
          {
           "clickable": true,
           "color": "#ff0d0d",
           "id": "--atoms--30",
           "positions": [
            [
             4.245496477591159,
             4.313499385839632,
             4.124846237798887
            ]
           ],
           "radius": 0.5,
           "tooltip": "O2- (4.245, 4.313, 4.125)",
           "type": "spheres"
          },
          {
           "clickable": true,
           "color": "#3dff00",
           "id": "--atoms--31",
           "positions": [
            [
             -0.04870788352922282,
             0.23160918732459948,
             5.727269715
            ]
           ],
           "radius": 0.5,
           "tooltip": "Ca2+ (-0.049, 0.232, 5.727)",
           "type": "spheres"
          },
          {
           "clickable": true,
           "color": "#bfc2c7",
           "id": "--atoms--32",
           "positions": [
            [
             2.68602443,
             0,
             3.81817981
            ]
           ],
           "radius": 0.5,
           "tooltip": "Ti4+ (2.686, 0.000, 3.818)",
           "type": "spheres"
          },
          {
           "clickable": true,
           "color": "#3dff00",
           "id": "--atoms--33",
           "positions": [
            [
             0.048707883529222604,
             -0.2316091873245995,
             1.909089905
            ]
           ],
           "radius": 0.5,
           "tooltip": "Ca2+ (0.049, -0.232, 1.909)",
           "type": "spheres"
          },
          {
           "clickable": true,
           "color": "#bfc2c7",
           "id": "--atoms--34",
           "positions": [
            [
             -1.672499058967974e-16,
             2.731398245,
             3.81817981
            ]
           ],
           "radius": 0.5,
           "tooltip": "Ti4+ (-0.000, 2.731, 3.818)",
           "type": "spheres"
          },
          {
           "clickable": true,
           "color": "#ff0d0d",
           "id": "--atoms--35",
           "positions": [
            [
             4.245496477591159,
             4.313499385839632,
             -0.30666642779888575
            ]
           ],
           "radius": 0.5,
           "tooltip": "O2- (4.245, 4.313, -0.307)",
           "type": "spheres"
          },
          {
           "clickable": true,
           "color": "#ff0d0d",
           "id": "--atoms--36",
           "positions": [
            [
             1.5594720475911588,
             3.8806953491603675,
             3.511513382201114
            ]
           ],
           "radius": 0.5,
           "tooltip": "O2- (1.559, 3.881, 3.512)",
           "type": "spheres"
          },
          {
           "clickable": true,
           "color": "#ff0d0d",
           "id": "--atoms--37",
           "positions": [
            [
             0.4124718744450344,
             2.6293948330760535,
             5.727269715
            ]
           ],
           "radius": 0.5,
           "tooltip": "O2- (0.412, 2.629, 5.727)",
           "type": "spheres"
          }
         ],
         "id": "--atoms",
         "name": "atoms",
         "origin": [
          -2.68602443,
          -2.731398245,
          -3.8181798100000006
         ],
         "visible": true
        },
        {
         "contents": [],
         "id": "--bonds",
         "name": "bonds",
         "origin": [
          -2.68602443,
          -2.731398245,
          -3.8181798100000006
         ],
         "visible": true
        },
        {
         "contents": [],
         "id": "--polyhedra",
         "name": "polyhedra",
         "origin": [
          -2.68602443,
          -2.731398245,
          -3.8181798100000006
         ],
         "visible": true
        },
        {
         "contents": [],
         "id": "--magmoms",
         "name": "magmoms",
         "origin": [
          -2.68602443,
          -2.731398245,
          -3.8181798100000006
         ],
         "visible": true
        },
        {
         "contents": [
          {
           "contents": [
            {
             "clickable": false,
             "id": "--unit_cell--a=5.37204886, b=5.46279649, c=7.63635962, alpha=90.0, beta=90.0, gamma=90.0--0",
             "positions": [
              [
               0,
               0,
               0
              ],
              [
               5.37204886,
               0,
               3.2894312206310936e-16
              ],
              [
               0,
               0,
               0
              ],
              [
               -3.344998117935948e-16,
               5.46279649,
               3.344998117935948e-16
              ],
              [
               0,
               0,
               0
              ],
              [
               0,
               0,
               7.63635962
              ],
              [
               5.37204886,
               0,
               3.2894312206310936e-16
              ],
              [
               5.37204886,
               5.46279649,
               6.634429338567041e-16
              ],
              [
               5.37204886,
               0,
               3.2894312206310936e-16
              ],
              [
               5.37204886,
               0,
               7.63635962
              ],
              [
               -3.344998117935948e-16,
               5.46279649,
               3.344998117935948e-16
              ],
              [
               5.37204886,
               5.46279649,
               6.634429338567041e-16
              ],
              [
               -3.344998117935948e-16,
               5.46279649,
               3.344998117935948e-16
              ],
              [
               -3.344998117935948e-16,
               5.46279649,
               7.63635962
              ],
              [
               0,
               0,
               7.63635962
              ],
              [
               5.37204886,
               0,
               7.63635962
              ],
              [
               0,
               0,
               7.63635962
              ],
              [
               -3.344998117935948e-16,
               5.46279649,
               7.63635962
              ],
              [
               5.37204886,
               5.46279649,
               6.634429338567041e-16
              ],
              [
               5.37204886,
               5.46279649,
               7.636359620000001
              ],
              [
               5.37204886,
               0,
               7.63635962
              ],
              [
               5.37204886,
               5.46279649,
               7.636359620000001
              ],
              [
               -3.344998117935948e-16,
               5.46279649,
               7.63635962
              ],
              [
               5.37204886,
               5.46279649,
               7.636359620000001
              ]
             ],
             "type": "lines"
            }
           ],
           "id": "--unit_cell--a=5.37204886, b=5.46279649, c=7.63635962, alpha=90.0, beta=90.0, gamma=90.0",
           "name": "a=5.37204886, b=5.46279649, c=7.63635962, alpha=90.0, beta=90.0, gamma=90.0",
           "visible": true
          }
         ],
         "id": "--unit_cell",
         "name": "unit_cell",
         "origin": [
          -2.68602443,
          -2.731398245,
          -3.8181798100000006
         ],
         "visible": true
        }
       ],
       "lattice": [
        [
         5.37204886,
         0,
         3.2894312206310936e-16
        ],
        [
         -3.344998117935948e-16,
         5.46279649,
         3.344998117935948e-16
        ],
        [
         0,
         0,
         7.63635962
        ]
       ],
       "name": "Structure",
       "origin": [
        -2.68602443,
        -2.731398245,
        -3.8181798100000006
       ],
       "visible": true
      },
      "text/plain": [
       "If you see this text, the Crystal Toolkit Jupyter Lab \n",
       "\n",
       "extension is not installed. You can install it by running \n",
       "\n",
       "\"pip install crystaltoolkit-extension\" \n",
       "\n",
       "from the same environment you run \"jupyter lab\". \n",
       "\n",
       "This only works in Jupyter Lab 3.x or above.\n",
       "\n",
       "\n",
       "Structure Summary\n",
       "Lattice\n",
       "    abc : 5.37204886 5.46279649 7.63635962\n",
       " angles : 90.0 90.0 90.0\n",
       " volume : 224.09973769300066\n",
       "      A : 5.37204886 0.0 3.2894312206310936e-16\n",
       "      B : -3.344998117935948e-16 5.46279649 3.344998117935948e-16\n",
       "      C : 0.0 0.0 7.63635962\n",
       "    pbc : True True True\n",
       "PeriodicSite: Ca0 (Ca2+) (2.735, 2.963, 5.727) [0.5091, 0.5424, 0.75]\n",
       "PeriodicSite: Ca1 (Ca2+) (2.637, 2.5, 1.909) [0.4909, 0.4576, 0.25]\n",
       "PeriodicSite: Ca2 (Ca2+) (5.323, 0.2316, 5.727) [0.9909, 0.0424, 0.75]\n",
       "PeriodicSite: Ca3 (Ca2+) (0.04871, 5.231, 1.909) [0.009067, 0.9576, 0.25]\n",
       "PeriodicSite: Ti4 (Ti4+) (-1.672e-16, 2.731, 3.818) [0.0, 0.5, 0.5]\n",
       "PeriodicSite: Ti5 (Ti4+) (-1.672e-16, 2.731, 1.672e-16) [0.0, 0.5, 0.0]\n",
       "PeriodicSite: Ti6 (Ti4+) (2.686, 0.0, 3.818) [0.5, 0.0, 0.5]\n",
       "PeriodicSite: Ti7 (Ti4+) (2.686, 0.0, 1.645e-16) [0.5, 0.0, 0.0]\n",
       "PeriodicSite: O8 (O2-) (0.4125, 2.629, 5.727) [0.07678, 0.4813, 0.75]\n",
       "PeriodicSite: O9 (O2-) (4.96, 2.833, 1.909) [0.9232, 0.5187, 0.25]\n",
       "PeriodicSite: O10 (O2-) (2.274, 5.361, 5.727) [0.4232, 0.9813, 0.75]\n",
       "PeriodicSite: O11 (O2-) (3.098, 0.102, 1.909) [0.5768, 0.01867, 0.25]\n",
       "PeriodicSite: O12 (O2-) (4.245, 4.313, 7.33) [0.7903, 0.7896, 0.9598]\n",
       "PeriodicSite: O13 (O2-) (1.127, 1.149, 3.512) [0.2097, 0.2104, 0.4598]\n",
       "PeriodicSite: O14 (O2-) (1.127, 1.149, 0.3067) [0.2097, 0.2104, 0.04016]\n",
       "PeriodicSite: O15 (O2-) (4.245, 4.313, 4.125) [0.7903, 0.7896, 0.5402]\n",
       "PeriodicSite: O16 (O2-) (3.813, 1.582, 7.33) [0.7097, 0.2896, 0.9598]\n",
       "PeriodicSite: O17 (O2-) (1.559, 3.881, 3.512) [0.2903, 0.7104, 0.4598]\n",
       "PeriodicSite: O18 (O2-) (1.559, 3.881, 0.3067) [0.2903, 0.7104, 0.04016]\n",
       "PeriodicSite: O19 (O2-) (3.813, 1.582, 4.125) [0.7097, 0.2896, 0.5402]"
      ]
     },
     "metadata": {},
     "output_type": "display_data"
    }
   ],
   "source": [
    "CaTiO3"
   ]
  },
  {
   "cell_type": "markdown",
   "metadata": {},
   "source": [
    "The image is interactive so you can rotate it, zoom in and out"
   ]
  },
  {
   "cell_type": "markdown",
   "metadata": {},
   "source": [
    "Then we want to determine the oxidation states of each atom in the crystalline structure. For this we use the module we previously imported `AutoOxiStateDecorationTransformation`"
   ]
  },
  {
   "cell_type": "code",
   "execution_count": 5,
   "metadata": {
    "tags": []
   },
   "outputs": [
    {
     "name": "stdout",
     "output_type": "stream",
     "text": [
      "Full Formula (Ca4 Ti4 O12)\n",
      "Reduced Formula: CaTiO3\n",
      "abc   :   5.372049   5.462796   7.636360\n",
      "angles:  90.000000  90.000000  90.000000\n",
      "pbc   :       True       True       True\n",
      "Sites (20)\n",
      "  #  SP           a         b         c\n",
      "---  ----  --------  --------  --------\n",
      "  0  Ca2+  0.509067  0.542398  0.75\n",
      "  1  Ca2+  0.490933  0.457602  0.25\n",
      "  2  Ca2+  0.990933  0.042398  0.75\n",
      "  3  Ca2+  0.009067  0.957602  0.25\n",
      "  4  Ti4+  0         0.5       0.5\n",
      "  5  Ti4+  0         0.5       0\n",
      "  6  Ti4+  0.5       0         0.5\n",
      "  7  Ti4+  0.5       0         0\n",
      "  8  O2-   0.076781  0.481328  0.75\n",
      "  9  O2-   0.923219  0.518672  0.25\n",
      " 10  O2-   0.423219  0.981328  0.75\n",
      " 11  O2-   0.576781  0.018672  0.25\n",
      " 12  O2-   0.790294  0.789614  0.959841\n",
      " 13  O2-   0.209706  0.210386  0.459841\n",
      " 14  O2-   0.209706  0.210386  0.040159\n",
      " 15  O2-   0.790294  0.789614  0.540159\n",
      " 16  O2-   0.709706  0.289614  0.959841\n",
      " 17  O2-   0.290294  0.710386  0.459841\n",
      " 18  O2-   0.290294  0.710386  0.040159\n",
      " 19  O2-   0.709706  0.289614  0.540159\n"
     ]
    }
   ],
   "source": [
    "#Oxidation states of each atom\n",
    "chg= AutoOxiStateDecorationTransformation()\n",
    "print(chg.apply_transformation(CaTiO3))"
   ]
  },
  {
   "cell_type": "markdown",
   "metadata": {},
   "source": [
    "**e) Visualize (print) the space group, volume, and symmetry. Show the lines of code used.**"
   ]
  },
  {
   "cell_type": "code",
   "execution_count": 6,
   "metadata": {
    "tags": []
   },
   "outputs": [
    {
     "data": {
      "text/plain": [
       "('Pnma', 62)"
      ]
     },
     "execution_count": 6,
     "metadata": {},
     "output_type": "execute_result"
    }
   ],
   "source": [
    "#space group and symmetry\n",
    "CaTiO3.get_space_group_info()"
   ]
  },
  {
   "cell_type": "code",
   "execution_count": 7,
   "metadata": {
    "tags": []
   },
   "outputs": [
    {
     "name": "stdout",
     "output_type": "stream",
     "text": [
      "224.09973769300066\n"
     ]
    }
   ],
   "source": [
    "#volume\n",
    "print(CaTiO3.volume)"
   ]
  },
  {
   "cell_type": "code",
   "execution_count": 8,
   "metadata": {
    "tags": []
   },
   "outputs": [
    {
     "data": {
      "text/plain": [
       "4.02925941391082"
      ]
     },
     "execution_count": 8,
     "metadata": {},
     "output_type": "execute_result"
    }
   ],
   "source": [
    "#density\n",
    "CaTiO3.density"
   ]
  },
  {
   "cell_type": "markdown",
   "metadata": {},
   "source": [
    "**f) Select an atom of your choice and move it 0.1 Å in the direction of your preference. Indicate the type of spatial symmetry this system would have, as well as the new density and volume.**"
   ]
  },
  {
   "cell_type": "markdown",
   "metadata": {},
   "source": [
    "We are going to create new variable with the initial same structure and then modify it."
   ]
  },
  {
   "cell_type": "code",
   "execution_count": 15,
   "metadata": {
    "tags": []
   },
   "outputs": [],
   "source": [
    "# use the following line if you are working with the API\n",
    "# CaTiO3_change_location = mpr.get_structure_by_material_id('mp-4019')\n",
    "\n",
    "\n",
    "# comment the following line if you are working with the API\n",
    "CaTiO3_change_location = Structure.from_file(\"CaTiO3.cif\")\n"
   ]
  },
  {
   "cell_type": "markdown",
   "metadata": {},
   "source": [
    "In order the move an atom we use the method `translate_sites`, its arguments are the atom that is going to be moved, its direction and the distance.\n",
    "\n",
    "We indicate the atom with the index obtained by printing the crystallographic information of the structure as we previously did:"
   ]
  },
  {
   "cell_type": "code",
   "execution_count": 16,
   "metadata": {
    "tags": []
   },
   "outputs": [
    {
     "name": "stdout",
     "output_type": "stream",
     "text": [
      "Full Formula (Ca4 Ti4 O12)\n",
      "Reduced Formula: CaTiO3\n",
      "abc   :   5.372049   5.462796   7.636360\n",
      "angles:  90.000000  90.000000  90.000000\n",
      "pbc   :       True       True       True\n",
      "Sites (20)\n",
      "  #  SP           a         b         c\n",
      "---  ----  --------  --------  --------\n",
      "  0  Ca2+  0.509067  0.542398  0.75\n",
      "  1  Ca2+  0.490933  0.457602  0.25\n",
      "  2  Ca2+  0.990933  0.042398  0.75\n",
      "  3  Ca2+  0.009067  0.957602  0.25\n",
      "  4  Ti4+  0         0.5       0.5\n",
      "  5  Ti4+  0         0.5       0\n",
      "  6  Ti4+  0.5       0         0.5\n",
      "  7  Ti4+  0.5       0         0\n",
      "  8  O2-   0.076781  0.481328  0.75\n",
      "  9  O2-   0.923219  0.518672  0.25\n",
      " 10  O2-   0.423219  0.981328  0.75\n",
      " 11  O2-   0.576781  0.018672  0.25\n",
      " 12  O2-   0.790294  0.789614  0.959841\n",
      " 13  O2-   0.209706  0.210386  0.459841\n",
      " 14  O2-   0.209706  0.210386  0.040159\n",
      " 15  O2-   0.790294  0.789614  0.540159\n",
      " 16  O2-   0.709706  0.289614  0.959841\n",
      " 17  O2-   0.290294  0.710386  0.459841\n",
      " 18  O2-   0.290294  0.710386  0.040159\n",
      " 19  O2-   0.709706  0.289614  0.540159\n"
     ]
    }
   ],
   "source": [
    "print(CaTiO3_change_location)"
   ]
  },
  {
   "cell_type": "markdown",
   "metadata": {},
   "source": [
    "From which we are going to move atom `3`, that corresponds to Calcium. Then for the distance and direction, it will be determined as a list of three elements and each element will be the distance along direction x, y and z.\n",
    "\n",
    "In this case, as we are going to move the Calcium atom 0.1 Å along the z axis, the argument should as this:"
   ]
  },
  {
   "cell_type": "code",
   "execution_count": 18,
   "metadata": {
    "tags": []
   },
   "outputs": [
    {
     "data": {
      "application/vnd.mp.ctk+json": {
       "contents": [
        {
         "contents": [
          {
           "clickable": true,
           "color": "#ff0d0d",
           "id": "--atoms--0",
           "positions": [
            [
             2.2735525555549647,
             5.360793078076053,
             5.727269715000001
            ]
           ],
           "radius": 0.5,
           "tooltip": "O2- (2.274, 5.361, 5.727)",
           "type": "spheres"
          },
          {
           "clickable": true,
           "color": "#3dff00",
           "id": "--atoms--1",
           "positions": [
            [
             2.6373165464707773,
             2.4997890576754003,
             1.9090899050000003
            ]
           ],
           "radius": 0.5,
           "tooltip": "Ca2+ (2.637, 2.500, 1.909)",
           "type": "spheres"
          },
          {
           "clickable": true,
           "color": "#bfc2c7",
           "id": "--atoms--2",
           "positions": [
            [
             5.37204886,
             2.731398245,
             3.8181798100000006
            ]
           ],
           "radius": 0.5,
           "tooltip": "Ti4+ (5.372, 2.731, 3.818)",
           "type": "spheres"
          },
          {
           "clickable": true,
           "color": "#ff0d0d",
           "id": "--atoms--3",
           "positions": [
            [
             3.8125768124088406,
             1.582101140839632,
             4.124846237798887
            ]
           ],
           "radius": 0.5,
           "tooltip": "O2- (3.813, 1.582, 4.125)",
           "type": "spheres"
          },
          {
           "clickable": true,
           "color": "#ff0d0d",
           "id": "--atoms--4",
           "positions": [
            [
             3.8125768124088406,
             1.582101140839632,
             -0.3066664277988859
            ]
           ],
           "radius": 0.5,
           "tooltip": "O2- (3.813, 1.582, -0.307)",
           "type": "spheres"
          },
          {
           "clickable": true,
           "color": "#bfc2c7",
           "id": "--atoms--5",
           "positions": [
            [
             2.6860244299999994,
             5.46279649,
             4.989713728251495e-16
            ]
           ],
           "radius": 0.5,
           "tooltip": "Ti4+ (2.686, 5.463, 0.000)",
           "type": "spheres"
          },
          {
           "clickable": true,
           "color": "#ff0d0d",
           "id": "--atoms--6",
           "positions": [
            [
             4.245496477591159,
             4.313499385839632,
             7.329693192201114
            ]
           ],
           "radius": 0.5,
           "tooltip": "O2- (4.245, 4.313, 7.330)",
           "type": "spheres"
          },
          {
           "clickable": true,
           "color": "#3dff00",
           "id": "--atoms--7",
           "positions": [
            [
             0.04870788352922227,
             5.2311873026754006,
             2.6727258670000005
            ]
           ],
           "radius": 0.5,
           "tooltip": "Ca2+ (0.049, 5.231, 2.673)",
           "type": "spheres"
          },
          {
           "clickable": true,
           "color": "#ff0d0d",
           "id": "--atoms--8",
           "positions": [
            [
             1.1265523824088406,
             1.149297104160368,
             0.3066664277988866
            ]
           ],
           "radius": 0.5,
           "tooltip": "O2- (1.127, 1.149, 0.307)",
           "type": "spheres"
          },
          {
           "clickable": true,
           "color": "#bfc2c7",
           "id": "--atoms--9",
           "positions": [
            [
             -1.672499058967974e-16,
             2.731398245,
             1.672499058967974e-16
            ]
           ],
           "radius": 0.5,
           "tooltip": "Ti4+ (-0.000, 2.731, 0.000)",
           "type": "spheres"
          },
          {
           "clickable": true,
           "color": "#bfc2c7",
           "id": "--atoms--10",
           "positions": [
            [
             2.6860244299999994,
             5.46279649,
             7.636359620000001
            ]
           ],
           "radius": 0.5,
           "tooltip": "Ti4+ (2.686, 5.463, 7.636)",
           "type": "spheres"
          },
          {
           "clickable": true,
           "color": "#ff0d0d",
           "id": "--atoms--11",
           "positions": [
            [
             1.1265523824088406,
             1.149297104160368,
             7.943026047798886
            ]
           ],
           "radius": 0.5,
           "tooltip": "O2- (1.127, 1.149, 7.943)",
           "type": "spheres"
          },
          {
           "clickable": true,
           "color": "#ff0d0d",
           "id": "--atoms--12",
           "positions": [
            [
             3.098496304445034,
             5.564799901923945,
             1.9090899050000005
            ]
           ],
           "radius": 0.5,
           "tooltip": "O2- (3.098, 5.565, 1.909)",
           "type": "spheres"
          },
          {
           "clickable": true,
           "color": "#bfc2c7",
           "id": "--atoms--13",
           "positions": [
            [
             -1.672499058967974e-16,
             2.731398245,
             7.63635962
            ]
           ],
           "radius": 0.5,
           "tooltip": "Ti4+ (-0.000, 2.731, 7.636)",
           "type": "spheres"
          },
          {
           "clickable": true,
           "color": "#ff0d0d",
           "id": "--atoms--14",
           "positions": [
            [
             3.8125768124088406,
             1.582101140839632,
             7.329693192201114
            ]
           ],
           "radius": 0.5,
           "tooltip": "O2- (3.813, 1.582, 7.330)",
           "type": "spheres"
          },
          {
           "clickable": true,
           "color": "#3dff00",
           "id": "--atoms--15",
           "positions": [
            [
             5.323340976470777,
             5.694405677324599,
             5.727269715000001
            ]
           ],
           "radius": 0.5,
           "tooltip": "Ca2+ (5.323, 5.694, 5.727)",
           "type": "spheres"
          },
          {
           "clickable": true,
           "color": "#3dff00",
           "id": "--atoms--16",
           "positions": [
            [
             5.420756743529222,
             5.2311873026754006,
             2.6727258670000005
            ]
           ],
           "radius": 0.5,
           "tooltip": "Ca2+ (5.421, 5.231, 2.673)",
           "type": "spheres"
          },
          {
           "clickable": true,
           "color": "#ff0d0d",
           "id": "--atoms--17",
           "positions": [
            [
             1.5594720475911588,
             3.8806953491603675,
             0.30666642779888675
            ]
           ],
           "radius": 0.5,
           "tooltip": "O2- (1.559, 3.881, 0.307)",
           "type": "spheres"
          },
          {
           "clickable": true,
           "color": "#bfc2c7",
           "id": "--atoms--18",
           "positions": [
            [
             2.68602443,
             0,
             1.6447156103155468e-16
            ]
           ],
           "radius": 0.5,
           "tooltip": "Ti4+ (2.686, 0.000, 0.000)",
           "type": "spheres"
          },
          {
           "clickable": true,
           "color": "#bfc2c7",
           "id": "--atoms--19",
           "positions": [
            [
             5.37204886,
             2.731398245,
             4.961930279599067e-16
            ]
           ],
           "radius": 0.5,
           "tooltip": "Ti4+ (5.372, 2.731, 0.000)",
           "type": "spheres"
          },
          {
           "clickable": true,
           "color": "#bfc2c7",
           "id": "--atoms--20",
           "positions": [
            [
             2.6860244299999994,
             5.46279649,
             3.8181798100000006
            ]
           ],
           "radius": 0.5,
           "tooltip": "Ti4+ (2.686, 5.463, 3.818)",
           "type": "spheres"
          },
          {
           "clickable": true,
           "color": "#bfc2c7",
           "id": "--atoms--21",
           "positions": [
            [
             2.68602443,
             0,
             7.63635962
            ]
           ],
           "radius": 0.5,
           "tooltip": "Ti4+ (2.686, 0.000, 7.636)",
           "type": "spheres"
          },
          {
           "clickable": true,
           "color": "#ff0d0d",
           "id": "--atoms--22",
           "positions": [
            [
             1.5594720475911588,
             3.8806953491603675,
             7.943026047798887
            ]
           ],
           "radius": 0.5,
           "tooltip": "O2- (1.559, 3.881, 7.943)",
           "type": "spheres"
          },
          {
           "clickable": true,
           "color": "#bfc2c7",
           "id": "--atoms--23",
           "positions": [
            [
             5.37204886,
             2.731398245,
             7.636359620000001
            ]
           ],
           "radius": 0.5,
           "tooltip": "Ti4+ (5.372, 2.731, 7.636)",
           "type": "spheres"
          },
          {
           "clickable": true,
           "color": "#ff0d0d",
           "id": "--atoms--24",
           "positions": [
            [
             4.959576985554965,
             2.833401656923946,
             1.9090899050000005
            ]
           ],
           "radius": 0.5,
           "tooltip": "O2- (4.960, 2.833, 1.909)",
           "type": "spheres"
          },
          {
           "clickable": true,
           "color": "#ff0d0d",
           "id": "--atoms--25",
           "positions": [
            [
             2.273552555554965,
             -0.10200341192394644,
             5.727269715
            ]
           ],
           "radius": 0.5,
           "tooltip": "O2- (2.274, -0.102, 5.727)",
           "type": "spheres"
          },
          {
           "clickable": true,
           "color": "#ff0d0d",
           "id": "--atoms--26",
           "positions": [
            [
             3.0984963044450344,
             0.10200341192394619,
             1.9090899050000003
            ]
           ],
           "radius": 0.5,
           "tooltip": "O2- (3.098, 0.102, 1.909)",
           "type": "spheres"
          },
          {
           "clickable": true,
           "color": "#3dff00",
           "id": "--atoms--27",
           "positions": [
            [
             2.7347323135292227,
             2.9630074323245994,
             5.727269715
            ]
           ],
           "radius": 0.5,
           "tooltip": "Ca2+ (2.735, 2.963, 5.727)",
           "type": "spheres"
          },
          {
           "clickable": true,
           "color": "#3dff00",
           "id": "--atoms--28",
           "positions": [
            [
             5.323340976470777,
             0.23160918732459948,
             5.727269715
            ]
           ],
           "radius": 0.5,
           "tooltip": "Ca2+ (5.323, 0.232, 5.727)",
           "type": "spheres"
          },
          {
           "clickable": true,
           "color": "#ff0d0d",
           "id": "--atoms--29",
           "positions": [
            [
             1.1265523824088406,
             1.149297104160368,
             3.511513382201114
            ]
           ],
           "radius": 0.5,
           "tooltip": "O2- (1.127, 1.149, 3.512)",
           "type": "spheres"
          },
          {
           "clickable": true,
           "color": "#ff0d0d",
           "id": "--atoms--30",
           "positions": [
            [
             4.245496477591159,
             4.313499385839632,
             4.124846237798887
            ]
           ],
           "radius": 0.5,
           "tooltip": "O2- (4.245, 4.313, 4.125)",
           "type": "spheres"
          },
          {
           "clickable": true,
           "color": "#3dff00",
           "id": "--atoms--31",
           "positions": [
            [
             -0.04870788352922282,
             0.23160918732459948,
             5.727269715
            ]
           ],
           "radius": 0.5,
           "tooltip": "Ca2+ (-0.049, 0.232, 5.727)",
           "type": "spheres"
          },
          {
           "clickable": true,
           "color": "#bfc2c7",
           "id": "--atoms--32",
           "positions": [
            [
             2.68602443,
             0,
             3.81817981
            ]
           ],
           "radius": 0.5,
           "tooltip": "Ti4+ (2.686, 0.000, 3.818)",
           "type": "spheres"
          },
          {
           "clickable": true,
           "color": "#3dff00",
           "id": "--atoms--33",
           "positions": [
            [
             0.048707883529222604,
             -0.2316091873245995,
             2.672725867
            ]
           ],
           "radius": 0.5,
           "tooltip": "Ca2+ (0.049, -0.232, 2.673)",
           "type": "spheres"
          },
          {
           "clickable": true,
           "color": "#bfc2c7",
           "id": "--atoms--34",
           "positions": [
            [
             -1.672499058967974e-16,
             2.731398245,
             3.81817981
            ]
           ],
           "radius": 0.5,
           "tooltip": "Ti4+ (-0.000, 2.731, 3.818)",
           "type": "spheres"
          },
          {
           "clickable": true,
           "color": "#ff0d0d",
           "id": "--atoms--35",
           "positions": [
            [
             4.245496477591159,
             4.313499385839632,
             -0.30666642779888575
            ]
           ],
           "radius": 0.5,
           "tooltip": "O2- (4.245, 4.313, -0.307)",
           "type": "spheres"
          },
          {
           "clickable": true,
           "color": "#ff0d0d",
           "id": "--atoms--36",
           "positions": [
            [
             1.5594720475911588,
             3.8806953491603675,
             3.511513382201114
            ]
           ],
           "radius": 0.5,
           "tooltip": "O2- (1.559, 3.881, 3.512)",
           "type": "spheres"
          },
          {
           "clickable": true,
           "color": "#ff0d0d",
           "id": "--atoms--37",
           "positions": [
            [
             0.4124718744450344,
             2.6293948330760535,
             5.727269715
            ]
           ],
           "radius": 0.5,
           "tooltip": "O2- (0.412, 2.629, 5.727)",
           "type": "spheres"
          }
         ],
         "id": "--atoms",
         "name": "atoms",
         "origin": [
          -2.68602443,
          -2.731398245,
          -3.8181798100000006
         ],
         "visible": true
        },
        {
         "contents": [],
         "id": "--bonds",
         "name": "bonds",
         "origin": [
          -2.68602443,
          -2.731398245,
          -3.8181798100000006
         ],
         "visible": true
        },
        {
         "contents": [],
         "id": "--polyhedra",
         "name": "polyhedra",
         "origin": [
          -2.68602443,
          -2.731398245,
          -3.8181798100000006
         ],
         "visible": true
        },
        {
         "contents": [],
         "id": "--magmoms",
         "name": "magmoms",
         "origin": [
          -2.68602443,
          -2.731398245,
          -3.8181798100000006
         ],
         "visible": true
        },
        {
         "contents": [
          {
           "contents": [
            {
             "clickable": false,
             "id": "--unit_cell--a=5.37204886, b=5.46279649, c=7.63635962, alpha=90.0, beta=90.0, gamma=90.0--0",
             "positions": [
              [
               0,
               0,
               0
              ],
              [
               5.37204886,
               0,
               3.2894312206310936e-16
              ],
              [
               0,
               0,
               0
              ],
              [
               -3.344998117935948e-16,
               5.46279649,
               3.344998117935948e-16
              ],
              [
               0,
               0,
               0
              ],
              [
               0,
               0,
               7.63635962
              ],
              [
               5.37204886,
               0,
               3.2894312206310936e-16
              ],
              [
               5.37204886,
               5.46279649,
               6.634429338567041e-16
              ],
              [
               5.37204886,
               0,
               3.2894312206310936e-16
              ],
              [
               5.37204886,
               0,
               7.63635962
              ],
              [
               -3.344998117935948e-16,
               5.46279649,
               3.344998117935948e-16
              ],
              [
               5.37204886,
               5.46279649,
               6.634429338567041e-16
              ],
              [
               -3.344998117935948e-16,
               5.46279649,
               3.344998117935948e-16
              ],
              [
               -3.344998117935948e-16,
               5.46279649,
               7.63635962
              ],
              [
               0,
               0,
               7.63635962
              ],
              [
               5.37204886,
               0,
               7.63635962
              ],
              [
               0,
               0,
               7.63635962
              ],
              [
               -3.344998117935948e-16,
               5.46279649,
               7.63635962
              ],
              [
               5.37204886,
               5.46279649,
               6.634429338567041e-16
              ],
              [
               5.37204886,
               5.46279649,
               7.636359620000001
              ],
              [
               5.37204886,
               0,
               7.63635962
              ],
              [
               5.37204886,
               5.46279649,
               7.636359620000001
              ],
              [
               -3.344998117935948e-16,
               5.46279649,
               7.63635962
              ],
              [
               5.37204886,
               5.46279649,
               7.636359620000001
              ]
             ],
             "type": "lines"
            }
           ],
           "id": "--unit_cell--a=5.37204886, b=5.46279649, c=7.63635962, alpha=90.0, beta=90.0, gamma=90.0",
           "name": "a=5.37204886, b=5.46279649, c=7.63635962, alpha=90.0, beta=90.0, gamma=90.0",
           "visible": true
          }
         ],
         "id": "--unit_cell",
         "name": "unit_cell",
         "origin": [
          -2.68602443,
          -2.731398245,
          -3.8181798100000006
         ],
         "visible": true
        }
       ],
       "lattice": [
        [
         5.37204886,
         0,
         3.2894312206310936e-16
        ],
        [
         -3.344998117935948e-16,
         5.46279649,
         3.344998117935948e-16
        ],
        [
         0,
         0,
         7.63635962
        ]
       ],
       "name": "Structure",
       "origin": [
        -2.68602443,
        -2.731398245,
        -3.8181798100000006
       ],
       "visible": true
      },
      "text/plain": [
       "If you see this text, the Crystal Toolkit Jupyter Lab \n",
       "\n",
       "extension is not installed. You can install it by running \n",
       "\n",
       "\"pip install crystaltoolkit-extension\" \n",
       "\n",
       "from the same environment you run \"jupyter lab\". \n",
       "\n",
       "This only works in Jupyter Lab 3.x or above.\n",
       "\n",
       "\n",
       "Structure Summary\n",
       "Lattice\n",
       "    abc : 5.37204886 5.46279649 7.63635962\n",
       " angles : 90.0 90.0 90.0\n",
       " volume : 224.09973769300066\n",
       "      A : 5.37204886 0.0 3.2894312206310936e-16\n",
       "      B : -3.344998117935948e-16 5.46279649 3.344998117935948e-16\n",
       "      C : 0.0 0.0 7.63635962\n",
       "    pbc : True True True\n",
       "PeriodicSite: Ca0 (Ca2+) (2.735, 2.963, 5.727) [0.5091, 0.5424, 0.75]\n",
       "PeriodicSite: Ca1 (Ca2+) (2.637, 2.5, 1.909) [0.4909, 0.4576, 0.25]\n",
       "PeriodicSite: Ca2 (Ca2+) (5.323, 0.2316, 5.727) [0.9909, 0.0424, 0.75]\n",
       "PeriodicSite: Ca3 (Ca2+) (0.04871, 5.231, 2.673) [0.009067, 0.9576, 0.35]\n",
       "PeriodicSite: Ti4 (Ti4+) (-1.672e-16, 2.731, 3.818) [0.0, 0.5, 0.5]\n",
       "PeriodicSite: Ti5 (Ti4+) (-1.672e-16, 2.731, 1.672e-16) [0.0, 0.5, 0.0]\n",
       "PeriodicSite: Ti6 (Ti4+) (2.686, 0.0, 3.818) [0.5, 0.0, 0.5]\n",
       "PeriodicSite: Ti7 (Ti4+) (2.686, 0.0, 1.645e-16) [0.5, 0.0, 0.0]\n",
       "PeriodicSite: O8 (O2-) (0.4125, 2.629, 5.727) [0.07678, 0.4813, 0.75]\n",
       "PeriodicSite: O9 (O2-) (4.96, 2.833, 1.909) [0.9232, 0.5187, 0.25]\n",
       "PeriodicSite: O10 (O2-) (2.274, 5.361, 5.727) [0.4232, 0.9813, 0.75]\n",
       "PeriodicSite: O11 (O2-) (3.098, 0.102, 1.909) [0.5768, 0.01867, 0.25]\n",
       "PeriodicSite: O12 (O2-) (4.245, 4.313, 7.33) [0.7903, 0.7896, 0.9598]\n",
       "PeriodicSite: O13 (O2-) (1.127, 1.149, 3.512) [0.2097, 0.2104, 0.4598]\n",
       "PeriodicSite: O14 (O2-) (1.127, 1.149, 0.3067) [0.2097, 0.2104, 0.04016]\n",
       "PeriodicSite: O15 (O2-) (4.245, 4.313, 4.125) [0.7903, 0.7896, 0.5402]\n",
       "PeriodicSite: O16 (O2-) (3.813, 1.582, 7.33) [0.7097, 0.2896, 0.9598]\n",
       "PeriodicSite: O17 (O2-) (1.559, 3.881, 3.512) [0.2903, 0.7104, 0.4598]\n",
       "PeriodicSite: O18 (O2-) (1.559, 3.881, 0.3067) [0.2903, 0.7104, 0.04016]\n",
       "PeriodicSite: O19 (O2-) (3.813, 1.582, 4.125) [0.7097, 0.2896, 0.5402]"
      ]
     },
     "metadata": {},
     "output_type": "display_data"
    }
   ],
   "source": [
    "CaTiO3_change_location.translate_sites([3],[0,0,0.1])"
   ]
  },
  {
   "cell_type": "code",
   "execution_count": 19,
   "metadata": {
    "tags": []
   },
   "outputs": [
    {
     "data": {
      "text/plain": [
       "('P1', 1)"
      ]
     },
     "execution_count": 19,
     "metadata": {},
     "output_type": "execute_result"
    }
   ],
   "source": [
    "CaTiO3_change_location.get_space_group_info()"
   ]
  },
  {
   "cell_type": "markdown",
   "metadata": {},
   "source": [
    "It is possible to see that the spatial symmetry is quite different from the original, as it changed from an orthorhombic Bravais lattice to a triclinic one."
   ]
  },
  {
   "cell_type": "code",
   "execution_count": 20,
   "metadata": {
    "tags": []
   },
   "outputs": [
    {
     "data": {
      "text/plain": [
       "224.09973769300066"
      ]
     },
     "execution_count": 20,
     "metadata": {},
     "output_type": "execute_result"
    }
   ],
   "source": [
    "CaTiO3_change_location.volume"
   ]
  },
  {
   "cell_type": "code",
   "execution_count": 21,
   "metadata": {
    "tags": []
   },
   "outputs": [
    {
     "data": {
      "text/plain": [
       "4.02925941391082"
      ]
     },
     "execution_count": 21,
     "metadata": {},
     "output_type": "execute_result"
    }
   ],
   "source": [
    "CaTiO3_change_location.density"
   ]
  },
  {
   "cell_type": "markdown",
   "metadata": {},
   "source": [
    "On the other hand, the volume and density remain constant."
   ]
  },
  {
   "cell_type": "markdown",
   "metadata": {},
   "source": [
    "**g) Select a different atom and replace it with another type of atom of your choice. Indicate the resulting type of symmetry, along with the new density and volume.**"
   ]
  },
  {
   "cell_type": "markdown",
   "metadata": {},
   "source": [
    "To replace one atom with another, the same selection process is carried out to choose an atom with the same oxidation state and a similar atomic size. In this case, one of the titanium atoms is replaced with cobalt, as shown in the following image, since they have a very similar atomic size, and cobalt has a 4+ oxidation state among its possible states:\n",
    "\n",
    "<img src=\"images/substitution.png\" width=\"400\" style=\"margin:auto\"/>\n",
    "\n"
   ]
  },
  {
   "cell_type": "markdown",
   "metadata": {},
   "source": [
    "Again, we create another variable with the same original structure to modify it"
   ]
  },
  {
   "cell_type": "code",
   "execution_count": 22,
   "metadata": {
    "tags": []
   },
   "outputs": [],
   "source": [
    "# use the following line if you are working with the API\n",
    "# CaTiO3_change_location = mpr.get_structure_by_material_id('mp-4019')\n",
    "\n",
    "\n",
    "# comment the following line if you are working with the API\n",
    "CaTiO3_substitution = Structure.from_file(\"CaTiO3.cif\")"
   ]
  },
  {
   "cell_type": "markdown",
   "metadata": {},
   "source": [
    "As we are going to replace one titanium atom, we are going to check the indices of these types of atoms"
   ]
  },
  {
   "cell_type": "code",
   "execution_count": 24,
   "metadata": {
    "tags": []
   },
   "outputs": [
    {
     "name": "stdout",
     "output_type": "stream",
     "text": [
      "Full Formula (Ca4 Ti4 O12)\n",
      "Reduced Formula: CaTiO3\n",
      "abc   :   5.372049   5.462796   7.636360\n",
      "angles:  90.000000  90.000000  90.000000\n",
      "pbc   :       True       True       True\n",
      "Sites (20)\n",
      "  #  SP           a         b         c\n",
      "---  ----  --------  --------  --------\n",
      "  0  Ca2+  0.509067  0.542398  0.75\n",
      "  1  Ca2+  0.490933  0.457602  0.25\n",
      "  2  Ca2+  0.990933  0.042398  0.75\n",
      "  3  Ca2+  0.009067  0.957602  0.25\n",
      "  4  Ti4+  0         0.5       0.5\n",
      "  5  Ti4+  0         0.5       0\n",
      "  6  Ti4+  0.5       0         0.5\n",
      "  7  Ti4+  0.5       0         0\n",
      "  8  O2-   0.076781  0.481328  0.75\n",
      "  9  O2-   0.923219  0.518672  0.25\n",
      " 10  O2-   0.423219  0.981328  0.75\n",
      " 11  O2-   0.576781  0.018672  0.25\n",
      " 12  O2-   0.790294  0.789614  0.959841\n",
      " 13  O2-   0.209706  0.210386  0.459841\n",
      " 14  O2-   0.209706  0.210386  0.040159\n",
      " 15  O2-   0.790294  0.789614  0.540159\n",
      " 16  O2-   0.709706  0.289614  0.959841\n",
      " 17  O2-   0.290294  0.710386  0.459841\n",
      " 18  O2-   0.290294  0.710386  0.040159\n",
      " 19  O2-   0.709706  0.289614  0.540159\n"
     ]
    }
   ],
   "source": [
    "print(CaTiO3_substitution)"
   ]
  },
  {
   "cell_type": "markdown",
   "metadata": {},
   "source": [
    "We see that their indices are from 4 to 7, so we are going to choose 6 as an example. We are going to use the method `replace` and it receives as parameters the index of the atom we want to replace and the species of the atom that will take that replacement, as follows:"
   ]
  },
  {
   "cell_type": "code",
   "execution_count": 25,
   "metadata": {
    "tags": []
   },
   "outputs": [
    {
     "data": {
      "application/vnd.mp.ctk+json": {
       "contents": [
        {
         "contents": [
          {
           "clickable": true,
           "color": "#ff0d0d",
           "id": "--atoms--0",
           "positions": [
            [
             2.2735525555549647,
             5.360793078076053,
             5.727269715000001
            ]
           ],
           "radius": 0.5,
           "tooltip": "O2- (2.274, 5.361, 5.727)",
           "type": "spheres"
          },
          {
           "clickable": true,
           "color": "#3dff00",
           "id": "--atoms--1",
           "positions": [
            [
             2.6373165464707773,
             2.4997890576754003,
             1.9090899050000003
            ]
           ],
           "radius": 0.5,
           "tooltip": "Ca2+ (2.637, 2.500, 1.909)",
           "type": "spheres"
          },
          {
           "clickable": true,
           "color": "#bfc2c7",
           "id": "--atoms--2",
           "positions": [
            [
             5.37204886,
             2.731398245,
             3.8181798100000006
            ]
           ],
           "radius": 0.5,
           "tooltip": "Ti4+ (5.372, 2.731, 3.818)",
           "type": "spheres"
          },
          {
           "clickable": true,
           "color": "#ff0d0d",
           "id": "--atoms--3",
           "positions": [
            [
             3.8125768124088406,
             1.582101140839632,
             4.124846237798887
            ]
           ],
           "radius": 0.5,
           "tooltip": "O2- (3.813, 1.582, 4.125)",
           "type": "spheres"
          },
          {
           "clickable": true,
           "color": "#ff0d0d",
           "id": "--atoms--4",
           "positions": [
            [
             3.8125768124088406,
             1.582101140839632,
             -0.3066664277988859
            ]
           ],
           "radius": 0.5,
           "tooltip": "O2- (3.813, 1.582, -0.307)",
           "type": "spheres"
          },
          {
           "clickable": true,
           "color": "#bfc2c7",
           "id": "--atoms--5",
           "positions": [
            [
             2.6860244299999994,
             5.46279649,
             4.989713728251495e-16
            ]
           ],
           "radius": 0.5,
           "tooltip": "Ti4+ (2.686, 5.463, 0.000)",
           "type": "spheres"
          },
          {
           "clickable": true,
           "color": "#ff0d0d",
           "id": "--atoms--6",
           "positions": [
            [
             4.245496477591159,
             4.313499385839632,
             7.329693192201114
            ]
           ],
           "radius": 0.5,
           "tooltip": "O2- (4.245, 4.313, 7.330)",
           "type": "spheres"
          },
          {
           "clickable": true,
           "color": "#3dff00",
           "id": "--atoms--7",
           "positions": [
            [
             0.04870788352922227,
             5.2311873026754006,
             1.9090899050000003
            ]
           ],
           "radius": 0.5,
           "tooltip": "Ca2+ (0.049, 5.231, 1.909)",
           "type": "spheres"
          },
          {
           "clickable": true,
           "color": "#ff0d0d",
           "id": "--atoms--8",
           "positions": [
            [
             1.1265523824088406,
             1.149297104160368,
             0.3066664277988866
            ]
           ],
           "radius": 0.5,
           "tooltip": "O2- (1.127, 1.149, 0.307)",
           "type": "spheres"
          },
          {
           "clickable": true,
           "color": "#bfc2c7",
           "id": "--atoms--9",
           "positions": [
            [
             -1.672499058967974e-16,
             2.731398245,
             1.672499058967974e-16
            ]
           ],
           "radius": 0.5,
           "tooltip": "Ti4+ (-0.000, 2.731, 0.000)",
           "type": "spheres"
          },
          {
           "clickable": true,
           "color": "#bfc2c7",
           "id": "--atoms--10",
           "positions": [
            [
             2.6860244299999994,
             5.46279649,
             7.636359620000001
            ]
           ],
           "radius": 0.5,
           "tooltip": "Ti4+ (2.686, 5.463, 7.636)",
           "type": "spheres"
          },
          {
           "clickable": true,
           "color": "#ff0d0d",
           "id": "--atoms--11",
           "positions": [
            [
             1.1265523824088406,
             1.149297104160368,
             7.943026047798886
            ]
           ],
           "radius": 0.5,
           "tooltip": "O2- (1.127, 1.149, 7.943)",
           "type": "spheres"
          },
          {
           "clickable": true,
           "color": "#ff0d0d",
           "id": "--atoms--12",
           "positions": [
            [
             3.098496304445034,
             5.564799901923945,
             1.9090899050000005
            ]
           ],
           "radius": 0.5,
           "tooltip": "O2- (3.098, 5.565, 1.909)",
           "type": "spheres"
          },
          {
           "clickable": true,
           "color": "#bfc2c7",
           "id": "--atoms--13",
           "positions": [
            [
             -1.672499058967974e-16,
             2.731398245,
             7.63635962
            ]
           ],
           "radius": 0.5,
           "tooltip": "Ti4+ (-0.000, 2.731, 7.636)",
           "type": "spheres"
          },
          {
           "clickable": true,
           "color": "#ff0d0d",
           "id": "--atoms--14",
           "positions": [
            [
             3.8125768124088406,
             1.582101140839632,
             7.329693192201114
            ]
           ],
           "radius": 0.5,
           "tooltip": "O2- (3.813, 1.582, 7.330)",
           "type": "spheres"
          },
          {
           "clickable": true,
           "color": "#3dff00",
           "id": "--atoms--15",
           "positions": [
            [
             5.323340976470777,
             5.694405677324599,
             5.727269715000001
            ]
           ],
           "radius": 0.5,
           "tooltip": "Ca2+ (5.323, 5.694, 5.727)",
           "type": "spheres"
          },
          {
           "clickable": true,
           "color": "#3dff00",
           "id": "--atoms--16",
           "positions": [
            [
             5.420756743529222,
             5.2311873026754006,
             1.9090899050000008
            ]
           ],
           "radius": 0.5,
           "tooltip": "Ca2+ (5.421, 5.231, 1.909)",
           "type": "spheres"
          },
          {
           "clickable": true,
           "color": "#ff0d0d",
           "id": "--atoms--17",
           "positions": [
            [
             1.5594720475911588,
             3.8806953491603675,
             0.30666642779888675
            ]
           ],
           "radius": 0.5,
           "tooltip": "O2- (1.559, 3.881, 0.307)",
           "type": "spheres"
          },
          {
           "clickable": true,
           "color": "#bfc2c7",
           "id": "--atoms--18",
           "positions": [
            [
             2.68602443,
             0,
             1.6447156103155468e-16
            ]
           ],
           "radius": 0.5,
           "tooltip": "Ti4+ (2.686, 0.000, 0.000)",
           "type": "spheres"
          },
          {
           "clickable": true,
           "color": "#bfc2c7",
           "id": "--atoms--19",
           "positions": [
            [
             5.37204886,
             2.731398245,
             4.961930279599067e-16
            ]
           ],
           "radius": 0.5,
           "tooltip": "Ti4+ (5.372, 2.731, 0.000)",
           "type": "spheres"
          },
          {
           "clickable": true,
           "color": "#f090a0",
           "id": "--atoms--20",
           "positions": [
            [
             2.6860244299999994,
             5.46279649,
             3.8181798100000006
            ]
           ],
           "radius": 0.5,
           "tooltip": "Co (2.686, 5.463, 3.818)",
           "type": "spheres"
          },
          {
           "clickable": true,
           "color": "#bfc2c7",
           "id": "--atoms--21",
           "positions": [
            [
             2.68602443,
             0,
             7.63635962
            ]
           ],
           "radius": 0.5,
           "tooltip": "Ti4+ (2.686, 0.000, 7.636)",
           "type": "spheres"
          },
          {
           "clickable": true,
           "color": "#ff0d0d",
           "id": "--atoms--22",
           "positions": [
            [
             1.5594720475911588,
             3.8806953491603675,
             7.943026047798887
            ]
           ],
           "radius": 0.5,
           "tooltip": "O2- (1.559, 3.881, 7.943)",
           "type": "spheres"
          },
          {
           "clickable": true,
           "color": "#bfc2c7",
           "id": "--atoms--23",
           "positions": [
            [
             5.37204886,
             2.731398245,
             7.636359620000001
            ]
           ],
           "radius": 0.5,
           "tooltip": "Ti4+ (5.372, 2.731, 7.636)",
           "type": "spheres"
          },
          {
           "clickable": true,
           "color": "#ff0d0d",
           "id": "--atoms--24",
           "positions": [
            [
             4.959576985554965,
             2.833401656923946,
             1.9090899050000005
            ]
           ],
           "radius": 0.5,
           "tooltip": "O2- (4.960, 2.833, 1.909)",
           "type": "spheres"
          },
          {
           "clickable": true,
           "color": "#ff0d0d",
           "id": "--atoms--25",
           "positions": [
            [
             2.273552555554965,
             -0.10200341192394644,
             5.727269715
            ]
           ],
           "radius": 0.5,
           "tooltip": "O2- (2.274, -0.102, 5.727)",
           "type": "spheres"
          },
          {
           "clickable": true,
           "color": "#ff0d0d",
           "id": "--atoms--26",
           "positions": [
            [
             3.0984963044450344,
             0.10200341192394619,
             1.9090899050000003
            ]
           ],
           "radius": 0.5,
           "tooltip": "O2- (3.098, 0.102, 1.909)",
           "type": "spheres"
          },
          {
           "clickable": true,
           "color": "#3dff00",
           "id": "--atoms--27",
           "positions": [
            [
             2.7347323135292227,
             2.9630074323245994,
             5.727269715
            ]
           ],
           "radius": 0.5,
           "tooltip": "Ca2+ (2.735, 2.963, 5.727)",
           "type": "spheres"
          },
          {
           "clickable": true,
           "color": "#3dff00",
           "id": "--atoms--28",
           "positions": [
            [
             5.323340976470777,
             0.23160918732459948,
             5.727269715
            ]
           ],
           "radius": 0.5,
           "tooltip": "Ca2+ (5.323, 0.232, 5.727)",
           "type": "spheres"
          },
          {
           "clickable": true,
           "color": "#ff0d0d",
           "id": "--atoms--29",
           "positions": [
            [
             1.1265523824088406,
             1.149297104160368,
             3.511513382201114
            ]
           ],
           "radius": 0.5,
           "tooltip": "O2- (1.127, 1.149, 3.512)",
           "type": "spheres"
          },
          {
           "clickable": true,
           "color": "#ff0d0d",
           "id": "--atoms--30",
           "positions": [
            [
             4.245496477591159,
             4.313499385839632,
             4.124846237798887
            ]
           ],
           "radius": 0.5,
           "tooltip": "O2- (4.245, 4.313, 4.125)",
           "type": "spheres"
          },
          {
           "clickable": true,
           "color": "#3dff00",
           "id": "--atoms--31",
           "positions": [
            [
             -0.04870788352922282,
             0.23160918732459948,
             5.727269715
            ]
           ],
           "radius": 0.5,
           "tooltip": "Ca2+ (-0.049, 0.232, 5.727)",
           "type": "spheres"
          },
          {
           "clickable": true,
           "color": "#f090a0",
           "id": "--atoms--32",
           "positions": [
            [
             2.68602443,
             0,
             3.81817981
            ]
           ],
           "radius": 0.5,
           "tooltip": "Co (2.686, 0.000, 3.818)",
           "type": "spheres"
          },
          {
           "clickable": true,
           "color": "#3dff00",
           "id": "--atoms--33",
           "positions": [
            [
             0.048707883529222604,
             -0.2316091873245995,
             1.909089905
            ]
           ],
           "radius": 0.5,
           "tooltip": "Ca2+ (0.049, -0.232, 1.909)",
           "type": "spheres"
          },
          {
           "clickable": true,
           "color": "#bfc2c7",
           "id": "--atoms--34",
           "positions": [
            [
             -1.672499058967974e-16,
             2.731398245,
             3.81817981
            ]
           ],
           "radius": 0.5,
           "tooltip": "Ti4+ (-0.000, 2.731, 3.818)",
           "type": "spheres"
          },
          {
           "clickable": true,
           "color": "#ff0d0d",
           "id": "--atoms--35",
           "positions": [
            [
             4.245496477591159,
             4.313499385839632,
             -0.30666642779888575
            ]
           ],
           "radius": 0.5,
           "tooltip": "O2- (4.245, 4.313, -0.307)",
           "type": "spheres"
          },
          {
           "clickable": true,
           "color": "#ff0d0d",
           "id": "--atoms--36",
           "positions": [
            [
             1.5594720475911588,
             3.8806953491603675,
             3.511513382201114
            ]
           ],
           "radius": 0.5,
           "tooltip": "O2- (1.559, 3.881, 3.512)",
           "type": "spheres"
          },
          {
           "clickable": true,
           "color": "#ff0d0d",
           "id": "--atoms--37",
           "positions": [
            [
             0.4124718744450344,
             2.6293948330760535,
             5.727269715
            ]
           ],
           "radius": 0.5,
           "tooltip": "O2- (0.412, 2.629, 5.727)",
           "type": "spheres"
          }
         ],
         "id": "--atoms",
         "name": "atoms",
         "origin": [
          -2.68602443,
          -2.731398245,
          -3.8181798100000006
         ],
         "visible": true
        },
        {
         "contents": [],
         "id": "--bonds",
         "name": "bonds",
         "origin": [
          -2.68602443,
          -2.731398245,
          -3.8181798100000006
         ],
         "visible": true
        },
        {
         "contents": [],
         "id": "--polyhedra",
         "name": "polyhedra",
         "origin": [
          -2.68602443,
          -2.731398245,
          -3.8181798100000006
         ],
         "visible": true
        },
        {
         "contents": [],
         "id": "--magmoms",
         "name": "magmoms",
         "origin": [
          -2.68602443,
          -2.731398245,
          -3.8181798100000006
         ],
         "visible": true
        },
        {
         "contents": [
          {
           "contents": [
            {
             "clickable": false,
             "id": "--unit_cell--a=5.37204886, b=5.46279649, c=7.63635962, alpha=90.0, beta=90.0, gamma=90.0--0",
             "positions": [
              [
               0,
               0,
               0
              ],
              [
               5.37204886,
               0,
               3.2894312206310936e-16
              ],
              [
               0,
               0,
               0
              ],
              [
               -3.344998117935948e-16,
               5.46279649,
               3.344998117935948e-16
              ],
              [
               0,
               0,
               0
              ],
              [
               0,
               0,
               7.63635962
              ],
              [
               5.37204886,
               0,
               3.2894312206310936e-16
              ],
              [
               5.37204886,
               5.46279649,
               6.634429338567041e-16
              ],
              [
               5.37204886,
               0,
               3.2894312206310936e-16
              ],
              [
               5.37204886,
               0,
               7.63635962
              ],
              [
               -3.344998117935948e-16,
               5.46279649,
               3.344998117935948e-16
              ],
              [
               5.37204886,
               5.46279649,
               6.634429338567041e-16
              ],
              [
               -3.344998117935948e-16,
               5.46279649,
               3.344998117935948e-16
              ],
              [
               -3.344998117935948e-16,
               5.46279649,
               7.63635962
              ],
              [
               0,
               0,
               7.63635962
              ],
              [
               5.37204886,
               0,
               7.63635962
              ],
              [
               0,
               0,
               7.63635962
              ],
              [
               -3.344998117935948e-16,
               5.46279649,
               7.63635962
              ],
              [
               5.37204886,
               5.46279649,
               6.634429338567041e-16
              ],
              [
               5.37204886,
               5.46279649,
               7.636359620000001
              ],
              [
               5.37204886,
               0,
               7.63635962
              ],
              [
               5.37204886,
               5.46279649,
               7.636359620000001
              ],
              [
               -3.344998117935948e-16,
               5.46279649,
               7.63635962
              ],
              [
               5.37204886,
               5.46279649,
               7.636359620000001
              ]
             ],
             "type": "lines"
            }
           ],
           "id": "--unit_cell--a=5.37204886, b=5.46279649, c=7.63635962, alpha=90.0, beta=90.0, gamma=90.0",
           "name": "a=5.37204886, b=5.46279649, c=7.63635962, alpha=90.0, beta=90.0, gamma=90.0",
           "visible": true
          }
         ],
         "id": "--unit_cell",
         "name": "unit_cell",
         "origin": [
          -2.68602443,
          -2.731398245,
          -3.8181798100000006
         ],
         "visible": true
        }
       ],
       "lattice": [
        [
         5.37204886,
         0,
         3.2894312206310936e-16
        ],
        [
         -3.344998117935948e-16,
         5.46279649,
         3.344998117935948e-16
        ],
        [
         0,
         0,
         7.63635962
        ]
       ],
       "name": "Structure",
       "origin": [
        -2.68602443,
        -2.731398245,
        -3.8181798100000006
       ],
       "visible": true
      },
      "text/plain": [
       "If you see this text, the Crystal Toolkit Jupyter Lab \n",
       "\n",
       "extension is not installed. You can install it by running \n",
       "\n",
       "\"pip install crystaltoolkit-extension\" \n",
       "\n",
       "from the same environment you run \"jupyter lab\". \n",
       "\n",
       "This only works in Jupyter Lab 3.x or above.\n",
       "\n",
       "\n",
       "Structure Summary\n",
       "Lattice\n",
       "    abc : 5.37204886 5.46279649 7.63635962\n",
       " angles : 90.0 90.0 90.0\n",
       " volume : 224.09973769300066\n",
       "      A : 5.37204886 0.0 3.2894312206310936e-16\n",
       "      B : -3.344998117935948e-16 5.46279649 3.344998117935948e-16\n",
       "      C : 0.0 0.0 7.63635962\n",
       "    pbc : True True True\n",
       "PeriodicSite: Ca0 (Ca2+) (2.735, 2.963, 5.727) [0.5091, 0.5424, 0.75]\n",
       "PeriodicSite: Ca1 (Ca2+) (2.637, 2.5, 1.909) [0.4909, 0.4576, 0.25]\n",
       "PeriodicSite: Ca2 (Ca2+) (5.323, 0.2316, 5.727) [0.9909, 0.0424, 0.75]\n",
       "PeriodicSite: Ca3 (Ca2+) (0.04871, 5.231, 1.909) [0.009067, 0.9576, 0.25]\n",
       "PeriodicSite: Ti4 (Ti4+) (-1.672e-16, 2.731, 3.818) [0.0, 0.5, 0.5]\n",
       "PeriodicSite: Ti5 (Ti4+) (-1.672e-16, 2.731, 1.672e-16) [0.0, 0.5, 0.0]\n",
       "PeriodicSite: Co (2.686, 0.0, 3.818) [0.5, 0.0, 0.5]\n",
       "PeriodicSite: Ti7 (Ti4+) (2.686, 0.0, 1.645e-16) [0.5, 0.0, 0.0]\n",
       "PeriodicSite: O8 (O2-) (0.4125, 2.629, 5.727) [0.07678, 0.4813, 0.75]\n",
       "PeriodicSite: O9 (O2-) (4.96, 2.833, 1.909) [0.9232, 0.5187, 0.25]\n",
       "PeriodicSite: O10 (O2-) (2.274, 5.361, 5.727) [0.4232, 0.9813, 0.75]\n",
       "PeriodicSite: O11 (O2-) (3.098, 0.102, 1.909) [0.5768, 0.01867, 0.25]\n",
       "PeriodicSite: O12 (O2-) (4.245, 4.313, 7.33) [0.7903, 0.7896, 0.9598]\n",
       "PeriodicSite: O13 (O2-) (1.127, 1.149, 3.512) [0.2097, 0.2104, 0.4598]\n",
       "PeriodicSite: O14 (O2-) (1.127, 1.149, 0.3067) [0.2097, 0.2104, 0.04016]\n",
       "PeriodicSite: O15 (O2-) (4.245, 4.313, 4.125) [0.7903, 0.7896, 0.5402]\n",
       "PeriodicSite: O16 (O2-) (3.813, 1.582, 7.33) [0.7097, 0.2896, 0.9598]\n",
       "PeriodicSite: O17 (O2-) (1.559, 3.881, 3.512) [0.2903, 0.7104, 0.4598]\n",
       "PeriodicSite: O18 (O2-) (1.559, 3.881, 0.3067) [0.2903, 0.7104, 0.04016]\n",
       "PeriodicSite: O19 (O2-) (3.813, 1.582, 4.125) [0.7097, 0.2896, 0.5402]"
      ]
     },
     "metadata": {},
     "output_type": "display_data"
    }
   ],
   "source": [
    "# replace the atom of index 6(titanium) with Cobalt\n",
    "CaTiO3_substitution.replace(6, 'Co')"
   ]
  },
  {
   "cell_type": "code",
   "execution_count": 26,
   "metadata": {
    "tags": []
   },
   "outputs": [
    {
     "data": {
      "text/plain": [
       "('P-1', 2)"
      ]
     },
     "execution_count": 26,
     "metadata": {},
     "output_type": "execute_result"
    }
   ],
   "source": [
    "CaTiO3_substitution.get_space_group_info()"
   ]
  },
  {
   "cell_type": "code",
   "execution_count": 27,
   "metadata": {
    "tags": []
   },
   "outputs": [
    {
     "name": "stdout",
     "output_type": "stream",
     "text": [
      "Full Formula (Ca4 Ti3 Co1 O12)\n",
      "Reduced Formula: Ca4Ti3CoO12\n",
      "abc   :   5.372049   5.462796   7.636360\n",
      "angles:  90.000000  90.000000  90.000000\n",
      "pbc   :       True       True       True\n",
      "Sites (20)\n",
      "  #  SP           a         b         c\n",
      "---  ----  --------  --------  --------\n",
      "  0  Ca2+  0.509067  0.542398  0.75\n",
      "  1  Ca2+  0.490933  0.457602  0.25\n",
      "  2  Ca2+  0.990933  0.042398  0.75\n",
      "  3  Ca2+  0.009067  0.957602  0.25\n",
      "  4  Ti4+  0         0.5       0.5\n",
      "  5  Ti4+  0         0.5       0\n",
      "  6  Co    0.5       0         0.5\n",
      "  7  Ti4+  0.5       0         0\n",
      "  8  O2-   0.076781  0.481328  0.75\n",
      "  9  O2-   0.923219  0.518672  0.25\n",
      " 10  O2-   0.423219  0.981328  0.75\n",
      " 11  O2-   0.576781  0.018672  0.25\n",
      " 12  O2-   0.790294  0.789614  0.959841\n",
      " 13  O2-   0.209706  0.210386  0.459841\n",
      " 14  O2-   0.209706  0.210386  0.040159\n",
      " 15  O2-   0.790294  0.789614  0.540159\n",
      " 16  O2-   0.709706  0.289614  0.959841\n",
      " 17  O2-   0.290294  0.710386  0.459841\n",
      " 18  O2-   0.290294  0.710386  0.040159\n",
      " 19  O2-   0.709706  0.289614  0.540159\n"
     ]
    }
   ],
   "source": [
    "print(CaTiO3_substitution)"
   ]
  },
  {
   "cell_type": "markdown",
   "metadata": {},
   "source": [
    "Note that the sixth atom is now Co"
   ]
  },
  {
   "cell_type": "code",
   "execution_count": 28,
   "metadata": {
    "tags": []
   },
   "outputs": [
    {
     "data": {
      "text/plain": [
       "224.09973769300066"
      ]
     },
     "execution_count": 28,
     "metadata": {},
     "output_type": "execute_result"
    }
   ],
   "source": [
    "CaTiO3_substitution.volume"
   ]
  },
  {
   "cell_type": "code",
   "execution_count": 29,
   "metadata": {
    "tags": []
   },
   "outputs": [
    {
     "data": {
      "text/plain": [
       "4.111257944142422"
      ]
     },
     "execution_count": 29,
     "metadata": {},
     "output_type": "execute_result"
    }
   ],
   "source": [
    "CaTiO3_substitution.density"
   ]
  },
  {
   "cell_type": "markdown",
   "metadata": {},
   "source": [
    "Density increased but the volume remains constant"
   ]
  },
  {
   "cell_type": "markdown",
   "metadata": {},
   "source": [
    "**h) Remove an arbitrary atom and show the final symmetry, as well as the new density and volume**"
   ]
  },
  {
   "cell_type": "code",
   "execution_count": 30,
   "metadata": {
    "tags": []
   },
   "outputs": [],
   "source": [
    "# use the following line if you are working with the API\n",
    "# CaTiO3_change_location = mpr.get_structure_by_material_id('mp-4019')\n",
    "\n",
    "\n",
    "# comment the following line if you are working with the API\n",
    "CaTiO3_vacancy = Structure.from_file(\"CaTiO3.cif\")"
   ]
  },
  {
   "cell_type": "markdown",
   "metadata": {},
   "source": [
    "In order to remove an atom, we use the method `remove_sites`, which receives a list with the indices of the atoms that are going to be removed. We take a look and choose the atom:"
   ]
  },
  {
   "cell_type": "code",
   "execution_count": 31,
   "metadata": {
    "tags": []
   },
   "outputs": [
    {
     "name": "stdout",
     "output_type": "stream",
     "text": [
      "Full Formula (Ca4 Ti4 O12)\n",
      "Reduced Formula: CaTiO3\n",
      "abc   :   5.372049   5.462796   7.636360\n",
      "angles:  90.000000  90.000000  90.000000\n",
      "pbc   :       True       True       True\n",
      "Sites (20)\n",
      "  #  SP           a         b         c\n",
      "---  ----  --------  --------  --------\n",
      "  0  Ca2+  0.509067  0.542398  0.75\n",
      "  1  Ca2+  0.490933  0.457602  0.25\n",
      "  2  Ca2+  0.990933  0.042398  0.75\n",
      "  3  Ca2+  0.009067  0.957602  0.25\n",
      "  4  Ti4+  0         0.5       0.5\n",
      "  5  Ti4+  0         0.5       0\n",
      "  6  Ti4+  0.5       0         0.5\n",
      "  7  Ti4+  0.5       0         0\n",
      "  8  O2-   0.076781  0.481328  0.75\n",
      "  9  O2-   0.923219  0.518672  0.25\n",
      " 10  O2-   0.423219  0.981328  0.75\n",
      " 11  O2-   0.576781  0.018672  0.25\n",
      " 12  O2-   0.790294  0.789614  0.959841\n",
      " 13  O2-   0.209706  0.210386  0.459841\n",
      " 14  O2-   0.209706  0.210386  0.040159\n",
      " 15  O2-   0.790294  0.789614  0.540159\n",
      " 16  O2-   0.709706  0.289614  0.959841\n",
      " 17  O2-   0.290294  0.710386  0.459841\n",
      " 18  O2-   0.290294  0.710386  0.040159\n",
      " 19  O2-   0.709706  0.289614  0.540159\n"
     ]
    }
   ],
   "source": [
    "print(CaTiO3_vacancy)"
   ]
  },
  {
   "cell_type": "markdown",
   "metadata": {},
   "source": [
    "As an example, we are going to remove one of the 4 calcium atoms, the one with index 1:"
   ]
  },
  {
   "cell_type": "code",
   "execution_count": 32,
   "metadata": {
    "tags": []
   },
   "outputs": [
    {
     "data": {
      "application/vnd.mp.ctk+json": {
       "contents": [
        {
         "contents": [
          {
           "clickable": true,
           "color": "#bfc2c7",
           "id": "--atoms--0",
           "positions": [
            [
             -1.672499058967974e-16,
             2.731398245,
             7.63635962
            ]
           ],
           "radius": 0.5,
           "tooltip": "Ti4+ (-0.000, 2.731, 7.636)",
           "type": "spheres"
          },
          {
           "clickable": true,
           "color": "#bfc2c7",
           "id": "--atoms--1",
           "positions": [
            [
             2.6860244299999994,
             5.46279649,
             3.8181798100000006
            ]
           ],
           "radius": 0.5,
           "tooltip": "Ti4+ (2.686, 5.463, 3.818)",
           "type": "spheres"
          },
          {
           "clickable": true,
           "color": "#ff0d0d",
           "id": "--atoms--2",
           "positions": [
            [
             3.0984963044450344,
             0.10200341192394619,
             1.9090899050000003
            ]
           ],
           "radius": 0.5,
           "tooltip": "O2- (3.098, 0.102, 1.909)",
           "type": "spheres"
          },
          {
           "clickable": true,
           "color": "#ff0d0d",
           "id": "--atoms--3",
           "positions": [
            [
             1.5594720475911588,
             3.8806953491603675,
             7.943026047798887
            ]
           ],
           "radius": 0.5,
           "tooltip": "O2- (1.559, 3.881, 7.943)",
           "type": "spheres"
          },
          {
           "clickable": true,
           "color": "#3dff00",
           "id": "--atoms--4",
           "positions": [
            [
             5.323340976470777,
             0.23160918732459948,
             5.727269715
            ]
           ],
           "radius": 0.5,
           "tooltip": "Ca2+ (5.323, 0.232, 5.727)",
           "type": "spheres"
          },
          {
           "clickable": true,
           "color": "#bfc2c7",
           "id": "--atoms--5",
           "positions": [
            [
             5.37204886,
             2.731398245,
             4.961930279599067e-16
            ]
           ],
           "radius": 0.5,
           "tooltip": "Ti4+ (5.372, 2.731, 0.000)",
           "type": "spheres"
          },
          {
           "clickable": true,
           "color": "#3dff00",
           "id": "--atoms--6",
           "positions": [
            [
             -0.04870788352922282,
             0.23160918732459948,
             5.727269715
            ]
           ],
           "radius": 0.5,
           "tooltip": "Ca2+ (-0.049, 0.232, 5.727)",
           "type": "spheres"
          },
          {
           "clickable": true,
           "color": "#ff0d0d",
           "id": "--atoms--7",
           "positions": [
            [
             1.1265523824088406,
             1.149297104160368,
             3.511513382201114
            ]
           ],
           "radius": 0.5,
           "tooltip": "O2- (1.127, 1.149, 3.512)",
           "type": "spheres"
          },
          {
           "clickable": true,
           "color": "#bfc2c7",
           "id": "--atoms--8",
           "positions": [
            [
             5.37204886,
             2.731398245,
             7.636359620000001
            ]
           ],
           "radius": 0.5,
           "tooltip": "Ti4+ (5.372, 2.731, 7.636)",
           "type": "spheres"
          },
          {
           "clickable": true,
           "color": "#bfc2c7",
           "id": "--atoms--9",
           "positions": [
            [
             -1.672499058967974e-16,
             2.731398245,
             3.81817981
            ]
           ],
           "radius": 0.5,
           "tooltip": "Ti4+ (-0.000, 2.731, 3.818)",
           "type": "spheres"
          },
          {
           "clickable": true,
           "color": "#ff0d0d",
           "id": "--atoms--10",
           "positions": [
            [
             4.245496477591159,
             4.313499385839632,
             4.124846237798887
            ]
           ],
           "radius": 0.5,
           "tooltip": "O2- (4.245, 4.313, 4.125)",
           "type": "spheres"
          },
          {
           "clickable": true,
           "color": "#bfc2c7",
           "id": "--atoms--11",
           "positions": [
            [
             2.68602443,
             0,
             3.81817981
            ]
           ],
           "radius": 0.5,
           "tooltip": "Ti4+ (2.686, 0.000, 3.818)",
           "type": "spheres"
          },
          {
           "clickable": true,
           "color": "#ff0d0d",
           "id": "--atoms--12",
           "positions": [
            [
             2.273552555554965,
             -0.10200341192394644,
             5.727269715
            ]
           ],
           "radius": 0.5,
           "tooltip": "O2- (2.274, -0.102, 5.727)",
           "type": "spheres"
          },
          {
           "clickable": true,
           "color": "#3dff00",
           "id": "--atoms--13",
           "positions": [
            [
             0.048707883529222604,
             -0.2316091873245995,
             1.909089905
            ]
           ],
           "radius": 0.5,
           "tooltip": "Ca2+ (0.049, -0.232, 1.909)",
           "type": "spheres"
          },
          {
           "clickable": true,
           "color": "#ff0d0d",
           "id": "--atoms--14",
           "positions": [
            [
             4.245496477591159,
             4.313499385839632,
             -0.30666642779888575
            ]
           ],
           "radius": 0.5,
           "tooltip": "O2- (4.245, 4.313, -0.307)",
           "type": "spheres"
          },
          {
           "clickable": true,
           "color": "#ff0d0d",
           "id": "--atoms--15",
           "positions": [
            [
             1.5594720475911588,
             3.8806953491603675,
             3.511513382201114
            ]
           ],
           "radius": 0.5,
           "tooltip": "O2- (1.559, 3.881, 3.512)",
           "type": "spheres"
          },
          {
           "clickable": true,
           "color": "#bfc2c7",
           "id": "--atoms--16",
           "positions": [
            [
             5.37204886,
             2.731398245,
             3.8181798100000006
            ]
           ],
           "radius": 0.5,
           "tooltip": "Ti4+ (5.372, 2.731, 3.818)",
           "type": "spheres"
          },
          {
           "clickable": true,
           "color": "#ff0d0d",
           "id": "--atoms--17",
           "positions": [
            [
             3.8125768124088406,
             1.582101140839632,
             4.124846237798887
            ]
           ],
           "radius": 0.5,
           "tooltip": "O2- (3.813, 1.582, 4.125)",
           "type": "spheres"
          },
          {
           "clickable": true,
           "color": "#ff0d0d",
           "id": "--atoms--18",
           "positions": [
            [
             0.4124718744450344,
             2.6293948330760535,
             5.727269715
            ]
           ],
           "radius": 0.5,
           "tooltip": "O2- (0.412, 2.629, 5.727)",
           "type": "spheres"
          },
          {
           "clickable": true,
           "color": "#ff0d0d",
           "id": "--atoms--19",
           "positions": [
            [
             3.8125768124088406,
             1.582101140839632,
             -0.3066664277988859
            ]
           ],
           "radius": 0.5,
           "tooltip": "O2- (3.813, 1.582, -0.307)",
           "type": "spheres"
          },
          {
           "clickable": true,
           "color": "#bfc2c7",
           "id": "--atoms--20",
           "positions": [
            [
             2.6860244299999994,
             5.46279649,
             4.989713728251495e-16
            ]
           ],
           "radius": 0.5,
           "tooltip": "Ti4+ (2.686, 5.463, 0.000)",
           "type": "spheres"
          },
          {
           "clickable": true,
           "color": "#ff0d0d",
           "id": "--atoms--21",
           "positions": [
            [
             2.2735525555549647,
             5.360793078076053,
             5.727269715000001
            ]
           ],
           "radius": 0.5,
           "tooltip": "O2- (2.274, 5.361, 5.727)",
           "type": "spheres"
          },
          {
           "clickable": true,
           "color": "#bfc2c7",
           "id": "--atoms--22",
           "positions": [
            [
             2.6860244299999994,
             5.46279649,
             7.636359620000001
            ]
           ],
           "radius": 0.5,
           "tooltip": "Ti4+ (2.686, 5.463, 7.636)",
           "type": "spheres"
          },
          {
           "clickable": true,
           "color": "#ff0d0d",
           "id": "--atoms--23",
           "positions": [
            [
             4.245496477591159,
             4.313499385839632,
             7.329693192201114
            ]
           ],
           "radius": 0.5,
           "tooltip": "O2- (4.245, 4.313, 7.330)",
           "type": "spheres"
          },
          {
           "clickable": true,
           "color": "#3dff00",
           "id": "--atoms--24",
           "positions": [
            [
             2.7347323135292227,
             2.9630074323245994,
             5.727269715
            ]
           ],
           "radius": 0.5,
           "tooltip": "Ca2+ (2.735, 2.963, 5.727)",
           "type": "spheres"
          },
          {
           "clickable": true,
           "color": "#3dff00",
           "id": "--atoms--25",
           "positions": [
            [
             0.04870788352922227,
             5.2311873026754006,
             1.9090899050000003
            ]
           ],
           "radius": 0.5,
           "tooltip": "Ca2+ (0.049, 5.231, 1.909)",
           "type": "spheres"
          },
          {
           "clickable": true,
           "color": "#ff0d0d",
           "id": "--atoms--26",
           "positions": [
            [
             1.1265523824088406,
             1.149297104160368,
             0.3066664277988866
            ]
           ],
           "radius": 0.5,
           "tooltip": "O2- (1.127, 1.149, 0.307)",
           "type": "spheres"
          },
          {
           "clickable": true,
           "color": "#ff0d0d",
           "id": "--atoms--27",
           "positions": [
            [
             3.098496304445034,
             5.564799901923945,
             1.9090899050000005
            ]
           ],
           "radius": 0.5,
           "tooltip": "O2- (3.098, 5.565, 1.909)",
           "type": "spheres"
          },
          {
           "clickable": true,
           "color": "#ff0d0d",
           "id": "--atoms--28",
           "positions": [
            [
             3.8125768124088406,
             1.582101140839632,
             7.329693192201114
            ]
           ],
           "radius": 0.5,
           "tooltip": "O2- (3.813, 1.582, 7.330)",
           "type": "spheres"
          },
          {
           "clickable": true,
           "color": "#3dff00",
           "id": "--atoms--29",
           "positions": [
            [
             5.323340976470777,
             5.694405677324599,
             5.727269715000001
            ]
           ],
           "radius": 0.5,
           "tooltip": "Ca2+ (5.323, 5.694, 5.727)",
           "type": "spheres"
          },
          {
           "clickable": true,
           "color": "#bfc2c7",
           "id": "--atoms--30",
           "positions": [
            [
             2.68602443,
             0,
             1.6447156103155468e-16
            ]
           ],
           "radius": 0.5,
           "tooltip": "Ti4+ (2.686, 0.000, 0.000)",
           "type": "spheres"
          },
          {
           "clickable": true,
           "color": "#ff0d0d",
           "id": "--atoms--31",
           "positions": [
            [
             1.1265523824088406,
             1.149297104160368,
             7.943026047798886
            ]
           ],
           "radius": 0.5,
           "tooltip": "O2- (1.127, 1.149, 7.943)",
           "type": "spheres"
          },
          {
           "clickable": true,
           "color": "#bfc2c7",
           "id": "--atoms--32",
           "positions": [
            [
             -1.672499058967974e-16,
             2.731398245,
             1.672499058967974e-16
            ]
           ],
           "radius": 0.5,
           "tooltip": "Ti4+ (-0.000, 2.731, 0.000)",
           "type": "spheres"
          },
          {
           "clickable": true,
           "color": "#bfc2c7",
           "id": "--atoms--33",
           "positions": [
            [
             2.68602443,
             0,
             7.63635962
            ]
           ],
           "radius": 0.5,
           "tooltip": "Ti4+ (2.686, 0.000, 7.636)",
           "type": "spheres"
          },
          {
           "clickable": true,
           "color": "#3dff00",
           "id": "--atoms--34",
           "positions": [
            [
             5.420756743529222,
             5.2311873026754006,
             1.9090899050000008
            ]
           ],
           "radius": 0.5,
           "tooltip": "Ca2+ (5.421, 5.231, 1.909)",
           "type": "spheres"
          },
          {
           "clickable": true,
           "color": "#ff0d0d",
           "id": "--atoms--35",
           "positions": [
            [
             1.5594720475911588,
             3.8806953491603675,
             0.30666642779888675
            ]
           ],
           "radius": 0.5,
           "tooltip": "O2- (1.559, 3.881, 0.307)",
           "type": "spheres"
          },
          {
           "clickable": true,
           "color": "#ff0d0d",
           "id": "--atoms--36",
           "positions": [
            [
             4.959576985554965,
             2.833401656923946,
             1.9090899050000005
            ]
           ],
           "radius": 0.5,
           "tooltip": "O2- (4.960, 2.833, 1.909)",
           "type": "spheres"
          }
         ],
         "id": "--atoms",
         "name": "atoms",
         "origin": [
          -2.68602443,
          -2.731398245,
          -3.8181798100000006
         ],
         "visible": true
        },
        {
         "contents": [],
         "id": "--bonds",
         "name": "bonds",
         "origin": [
          -2.68602443,
          -2.731398245,
          -3.8181798100000006
         ],
         "visible": true
        },
        {
         "contents": [],
         "id": "--polyhedra",
         "name": "polyhedra",
         "origin": [
          -2.68602443,
          -2.731398245,
          -3.8181798100000006
         ],
         "visible": true
        },
        {
         "contents": [],
         "id": "--magmoms",
         "name": "magmoms",
         "origin": [
          -2.68602443,
          -2.731398245,
          -3.8181798100000006
         ],
         "visible": true
        },
        {
         "contents": [
          {
           "contents": [
            {
             "clickable": false,
             "id": "--unit_cell--a=5.37204886, b=5.46279649, c=7.63635962, alpha=90.0, beta=90.0, gamma=90.0--0",
             "positions": [
              [
               0,
               0,
               0
              ],
              [
               5.37204886,
               0,
               3.2894312206310936e-16
              ],
              [
               0,
               0,
               0
              ],
              [
               -3.344998117935948e-16,
               5.46279649,
               3.344998117935948e-16
              ],
              [
               0,
               0,
               0
              ],
              [
               0,
               0,
               7.63635962
              ],
              [
               5.37204886,
               0,
               3.2894312206310936e-16
              ],
              [
               5.37204886,
               5.46279649,
               6.634429338567041e-16
              ],
              [
               5.37204886,
               0,
               3.2894312206310936e-16
              ],
              [
               5.37204886,
               0,
               7.63635962
              ],
              [
               -3.344998117935948e-16,
               5.46279649,
               3.344998117935948e-16
              ],
              [
               5.37204886,
               5.46279649,
               6.634429338567041e-16
              ],
              [
               -3.344998117935948e-16,
               5.46279649,
               3.344998117935948e-16
              ],
              [
               -3.344998117935948e-16,
               5.46279649,
               7.63635962
              ],
              [
               0,
               0,
               7.63635962
              ],
              [
               5.37204886,
               0,
               7.63635962
              ],
              [
               0,
               0,
               7.63635962
              ],
              [
               -3.344998117935948e-16,
               5.46279649,
               7.63635962
              ],
              [
               5.37204886,
               5.46279649,
               6.634429338567041e-16
              ],
              [
               5.37204886,
               5.46279649,
               7.636359620000001
              ],
              [
               5.37204886,
               0,
               7.63635962
              ],
              [
               5.37204886,
               5.46279649,
               7.636359620000001
              ],
              [
               -3.344998117935948e-16,
               5.46279649,
               7.63635962
              ],
              [
               5.37204886,
               5.46279649,
               7.636359620000001
              ]
             ],
             "type": "lines"
            }
           ],
           "id": "--unit_cell--a=5.37204886, b=5.46279649, c=7.63635962, alpha=90.0, beta=90.0, gamma=90.0",
           "name": "a=5.37204886, b=5.46279649, c=7.63635962, alpha=90.0, beta=90.0, gamma=90.0",
           "visible": true
          }
         ],
         "id": "--unit_cell",
         "name": "unit_cell",
         "origin": [
          -2.68602443,
          -2.731398245,
          -3.8181798100000006
         ],
         "visible": true
        }
       ],
       "lattice": [
        [
         5.37204886,
         0,
         3.2894312206310936e-16
        ],
        [
         -3.344998117935948e-16,
         5.46279649,
         3.344998117935948e-16
        ],
        [
         0,
         0,
         7.63635962
        ]
       ],
       "name": "Structure",
       "origin": [
        -2.68602443,
        -2.731398245,
        -3.8181798100000006
       ],
       "visible": true
      },
      "text/plain": [
       "If you see this text, the Crystal Toolkit Jupyter Lab \n",
       "\n",
       "extension is not installed. You can install it by running \n",
       "\n",
       "\"pip install crystaltoolkit-extension\" \n",
       "\n",
       "from the same environment you run \"jupyter lab\". \n",
       "\n",
       "This only works in Jupyter Lab 3.x or above.\n",
       "\n",
       "\n",
       "Structure Summary\n",
       "Lattice\n",
       "    abc : 5.37204886 5.46279649 7.63635962\n",
       " angles : 90.0 90.0 90.0\n",
       " volume : 224.09973769300066\n",
       "      A : 5.37204886 0.0 3.2894312206310936e-16\n",
       "      B : -3.344998117935948e-16 5.46279649 3.344998117935948e-16\n",
       "      C : 0.0 0.0 7.63635962\n",
       "    pbc : True True True\n",
       "PeriodicSite: Ca0 (Ca2+) (2.735, 2.963, 5.727) [0.5091, 0.5424, 0.75]\n",
       "PeriodicSite: Ca2 (Ca2+) (5.323, 0.2316, 5.727) [0.9909, 0.0424, 0.75]\n",
       "PeriodicSite: Ca3 (Ca2+) (0.04871, 5.231, 1.909) [0.009067, 0.9576, 0.25]\n",
       "PeriodicSite: Ti4 (Ti4+) (-1.672e-16, 2.731, 3.818) [0.0, 0.5, 0.5]\n",
       "PeriodicSite: Ti5 (Ti4+) (-1.672e-16, 2.731, 1.672e-16) [0.0, 0.5, 0.0]\n",
       "PeriodicSite: Ti6 (Ti4+) (2.686, 0.0, 3.818) [0.5, 0.0, 0.5]\n",
       "PeriodicSite: Ti7 (Ti4+) (2.686, 0.0, 1.645e-16) [0.5, 0.0, 0.0]\n",
       "PeriodicSite: O8 (O2-) (0.4125, 2.629, 5.727) [0.07678, 0.4813, 0.75]\n",
       "PeriodicSite: O9 (O2-) (4.96, 2.833, 1.909) [0.9232, 0.5187, 0.25]\n",
       "PeriodicSite: O10 (O2-) (2.274, 5.361, 5.727) [0.4232, 0.9813, 0.75]\n",
       "PeriodicSite: O11 (O2-) (3.098, 0.102, 1.909) [0.5768, 0.01867, 0.25]\n",
       "PeriodicSite: O12 (O2-) (4.245, 4.313, 7.33) [0.7903, 0.7896, 0.9598]\n",
       "PeriodicSite: O13 (O2-) (1.127, 1.149, 3.512) [0.2097, 0.2104, 0.4598]\n",
       "PeriodicSite: O14 (O2-) (1.127, 1.149, 0.3067) [0.2097, 0.2104, 0.04016]\n",
       "PeriodicSite: O15 (O2-) (4.245, 4.313, 4.125) [0.7903, 0.7896, 0.5402]\n",
       "PeriodicSite: O16 (O2-) (3.813, 1.582, 7.33) [0.7097, 0.2896, 0.9598]\n",
       "PeriodicSite: O17 (O2-) (1.559, 3.881, 3.512) [0.2903, 0.7104, 0.4598]\n",
       "PeriodicSite: O18 (O2-) (1.559, 3.881, 0.3067) [0.2903, 0.7104, 0.04016]\n",
       "PeriodicSite: O19 (O2-) (3.813, 1.582, 4.125) [0.7097, 0.2896, 0.5402]"
      ]
     },
     "metadata": {},
     "output_type": "display_data"
    }
   ],
   "source": [
    "CaTiO3_vacancy.remove_sites([1])"
   ]
  },
  {
   "cell_type": "code",
   "execution_count": 33,
   "metadata": {
    "tags": []
   },
   "outputs": [
    {
     "name": "stdout",
     "output_type": "stream",
     "text": [
      "Full Formula (Ca3 Ti4 O12)\n",
      "Reduced Formula: Ca3Ti4O12\n",
      "abc   :   5.372049   5.462796   7.636360\n",
      "angles:  90.000000  90.000000  90.000000\n",
      "pbc   :       True       True       True\n",
      "Sites (19)\n",
      "  #  SP           a         b         c\n",
      "---  ----  --------  --------  --------\n",
      "  0  Ca2+  0.509067  0.542398  0.75\n",
      "  1  Ca2+  0.990933  0.042398  0.75\n",
      "  2  Ca2+  0.009067  0.957602  0.25\n",
      "  3  Ti4+  0         0.5       0.5\n",
      "  4  Ti4+  0         0.5       0\n",
      "  5  Ti4+  0.5       0         0.5\n",
      "  6  Ti4+  0.5       0         0\n",
      "  7  O2-   0.076781  0.481328  0.75\n",
      "  8  O2-   0.923219  0.518672  0.25\n",
      "  9  O2-   0.423219  0.981328  0.75\n",
      " 10  O2-   0.576781  0.018672  0.25\n",
      " 11  O2-   0.790294  0.789614  0.959841\n",
      " 12  O2-   0.209706  0.210386  0.459841\n",
      " 13  O2-   0.209706  0.210386  0.040159\n",
      " 14  O2-   0.790294  0.789614  0.540159\n",
      " 15  O2-   0.709706  0.289614  0.959841\n",
      " 16  O2-   0.290294  0.710386  0.459841\n",
      " 17  O2-   0.290294  0.710386  0.040159\n",
      " 18  O2-   0.709706  0.289614  0.540159\n"
     ]
    }
   ],
   "source": [
    "print(CaTiO3_vacancy)"
   ]
  },
  {
   "cell_type": "markdown",
   "metadata": {},
   "source": [
    "See how now we are left with 3 calcium atoms"
   ]
  },
  {
   "cell_type": "code",
   "execution_count": 34,
   "metadata": {
    "tags": []
   },
   "outputs": [
    {
     "data": {
      "text/plain": [
       "('Pm', 6)"
      ]
     },
     "execution_count": 34,
     "metadata": {},
     "output_type": "execute_result"
    }
   ],
   "source": [
    "CaTiO3_vacancy.get_space_group_info()"
   ]
  },
  {
   "cell_type": "code",
   "execution_count": 35,
   "metadata": {
    "tags": []
   },
   "outputs": [
    {
     "data": {
      "text/plain": [
       "224.09973769300066"
      ]
     },
     "execution_count": 35,
     "metadata": {},
     "output_type": "execute_result"
    }
   ],
   "source": [
    "CaTiO3_vacancy.volume"
   ]
  },
  {
   "cell_type": "code",
   "execution_count": 36,
   "metadata": {
    "tags": []
   },
   "outputs": [
    {
     "data": {
      "text/plain": [
       "3.7322885856702057"
      ]
     },
     "execution_count": 36,
     "metadata": {},
     "output_type": "execute_result"
    }
   ],
   "source": [
    "CaTiO3_vacancy.density"
   ]
  },
  {
   "cell_type": "markdown",
   "metadata": {},
   "source": [
    "Similarly to the substitution, the volume remains constant, but the density changes; in this case, it decreases, which makes sense since having one less atom means the cell contains less mass."
   ]
  },
  {
   "cell_type": "markdown",
   "metadata": {},
   "source": [
    "Here is a table that summarizes all the changes for each modified structure:\n",
    "\n",
    "\n",
    "<img src=\"images/summary_defects.png\" width=\"600\" style=\"margin:auto\"/>"
   ]
  },
  {
   "cell_type": "markdown",
   "metadata": {},
   "source": [
    "According to the results obtained for the space group of each solid with defects, a significant difference can be observed compared to the original structure, as all the defects caused the system to change from orthorhombic to either triclinic or monoclinic. On the other hand, the volume does not change for any of the defects, which makes sense since the cell in which the atoms are distributed remains the same. Based on this constant volume factor, another value that did vary can be identified: the density.\n",
    "\n",
    "First, after the translation, the density remains the same as that of the original solid, which makes sense since no atoms were removed or replaced with others of a different species; the position of an atom was simply changed within the same cell. Then, with the substitution, it is observed that the density increased slightly, which can be explained by the substituted atom. Although an element with similar characteristics in terms of size and charge was chosen, there are still differences compared to the original atom, which accounts for the increase in density. Finally, as expected, when the number of atoms within the cell decreases due to a vacancy, the density decreases."
   ]
  },
  {
   "cell_type": "markdown",
   "metadata": {},
   "source": [
    "### Use your crystal structure from the previous exercise to employ it in Pymatgen for property search criteria. In the relevant sections, show the lines of code used."
   ]
  },
  {
   "cell_type": "markdown",
   "metadata": {},
   "source": [
    "**a) Locate in the Periodic Table of Elements the metals neighboring the transition metal in your structure and choose one of them. Use as a search criterion a band gap between 1.1 and 3.2 eV or a band gap between 0.4 and 1.0 eV (use only one range) to determine the number of materials that meet this criterion. Additionally, filter the search by type of structure (chemsys). Look for materials with compositional similarity to your initial material. For example, if you start with an iron oxide (Fe3O4), search for oxides of Mn, Ru, or Co, or combinations of these if they exist—for example, a double oxide of Mn and Co. Create a DataFrame with the obtained results.**"
   ]
  },
  {
   "cell_type": "markdown",
   "metadata": {},
   "source": [
    "Note that we will be using `Pymatgen` to connect with the Materials Project API, which means that, in order to run this locally, you will have to use your personal API key as we suggest in previous exercises of this same notebook."
   ]
  },
  {
   "cell_type": "code",
   "execution_count": 1,
   "metadata": {
    "tags": []
   },
   "outputs": [],
   "source": [
    "from pymatgen.ext.matproj import MPRester\n",
    "import pandas as pd #to create the dataframe"
   ]
  },
  {
   "cell_type": "code",
   "execution_count": null,
   "metadata": {},
   "outputs": [],
   "source": [
    "# please modify the following line of code before running it\n",
    "mpr = MPRester('your API key should go here') #replace the text inside the quotation marks with your key "
   ]
  },
  {
   "cell_type": "markdown",
   "metadata": {},
   "source": [
    "Vanadium is a transition metal adjacent to Titanium.\n",
    "The band gap range will be 1.1 to 3.2 eV since this range corresponds to the band gaps of materials used for solar cells."
   ]
  },
  {
   "cell_type": "code",
   "execution_count": null,
   "metadata": {},
   "outputs": [],
   "source": [
    "data_v_ti = mpr.summary.search(chemsys=[\"Ca-Ti-V-O\"], band_gap=[1.1, 3.2])"
   ]
  },
  {
   "cell_type": "code",
   "execution_count": null,
   "metadata": {},
   "outputs": [],
   "source": [
    "df_v_ti=pd.DataFrame(data_v_ti)"
   ]
  },
  {
   "cell_type": "code",
   "execution_count": null,
   "metadata": {},
   "outputs": [],
   "source": [
    "df_v_ti"
   ]
  },
  {
   "cell_type": "code",
   "execution_count": null,
   "metadata": {},
   "outputs": [],
   "source": [
    "data_v = mpr.summary.search(chemsys=[\"Ca-V-O\"], band_gap=[1.1, 3.2])"
   ]
  },
  {
   "cell_type": "code",
   "execution_count": null,
   "metadata": {},
   "outputs": [],
   "source": [
    "df_v = pd.DataFrame(data_v)"
   ]
  },
  {
   "cell_type": "code",
   "execution_count": null,
   "metadata": {},
   "outputs": [],
   "source": [
    "df_v"
   ]
  },
  {
   "cell_type": "markdown",
   "metadata": {},
   "source": [
    "Zirconium is also a transition metal close to Titanium."
   ]
  },
  {
   "cell_type": "code",
   "execution_count": null,
   "metadata": {},
   "outputs": [],
   "source": [
    "data_zr = mpr.summary.search(chemsys=[\"Ca-Zr-O\"], band_gap=[1.1, 3.2])"
   ]
  },
  {
   "cell_type": "code",
   "execution_count": null,
   "metadata": {},
   "outputs": [],
   "source": [
    "df_zr = pd.DataFrame(data_zr)"
   ]
  },
  {
   "cell_type": "code",
   "execution_count": null,
   "metadata": {},
   "outputs": [],
   "source": [
    "df_zr"
   ]
  },
  {
   "cell_type": "code",
   "execution_count": null,
   "metadata": {},
   "outputs": [],
   "source": [
    "data_sc = mpr.summary.search(chemsys=[\"Ca-Sc-O\"], band_gap=[1.1, 3.2])"
   ]
  },
  {
   "cell_type": "markdown",
   "metadata": {},
   "source": [
    "A search was also conducted with Scandium, but no results were obtained."
   ]
  },
  {
   "cell_type": "code",
   "execution_count": null,
   "metadata": {},
   "outputs": [],
   "source": [
    "#unify the df obtained with Pymatgen\n",
    "pymatgen_df = pd.concat([df_v_ti, df_v,df_zr])"
   ]
  },
  {
   "cell_type": "code",
   "execution_count": null,
   "metadata": {},
   "outputs": [],
   "source": [
    "pymatgen_df"
   ]
  },
  {
   "cell_type": "markdown",
   "metadata": {},
   "source": [
    "Now we will use Matminer, which doesn't require an API key. Just import the library that was previously downloaded during the first steps for setting up the environment (see readme file)"
   ]
  },
  {
   "cell_type": "code",
   "execution_count": 2,
   "metadata": {
    "tags": []
   },
   "outputs": [],
   "source": [
    "import matminer\n",
    "from matminer.datasets import get_available_datasets\n",
    "from matminer.datasets import load_dataset"
   ]
  },
  {
   "cell_type": "markdown",
   "metadata": {},
   "source": [
    "The module `get_available_datasets` will show us all the datasets of the library with a brief description of each of them in order to choose an appropiate one for our search"
   ]
  },
  {
   "cell_type": "code",
   "execution_count": 3,
   "metadata": {
    "tags": []
   },
   "outputs": [
    {
     "name": "stdout",
     "output_type": "stream",
     "text": [
      "boltztrap_mp: Effective mass and thermoelectric properties of 8924 compounds in The  Materials Project database that are calculated by the BoltzTraP software package run on the GGA-PBE or GGA+U density functional theory calculation results. The properties are reported at the temperature of 300 Kelvin and the carrier concentration of 1e18 1/cm3.\n",
      "\n",
      "brgoch_superhard_training: 2574 materials used for training regressors that predict shear and bulk modulus.\n",
      "\n",
      "castelli_perovskites: 18,928 perovskites generated with ABX combinatorics, calculating gllbsc band gap and pbe structure, and also reporting absolute band edge positions and heat of formation.\n",
      "\n",
      "citrine_thermal_conductivity: Thermal conductivity of 872 compounds measured experimentally and retrieved from Citrine database from various references. The reported values are measured at various temperatures of which 295 are at room temperature.\n",
      "\n",
      "dielectric_constant: 1,056 structures with dielectric properties, calculated with DFPT-PBE.\n",
      "\n",
      "double_perovskites_gap: Band gap of 1306 double perovskites (a_1-b_1-a_2-b_2-O6) calculated using ﻿Gritsenko, van Leeuwen, van Lenthe and Baerends potential (gllbsc) in GPAW.\n",
      "\n",
      "double_perovskites_gap_lumo: Supplementary lumo data of 55 atoms for the double_perovskites_gap dataset.\n",
      "\n",
      "elastic_tensor_2015: 1,181 structures with elastic properties calculated with DFT-PBE.\n",
      "\n",
      "expt_formation_enthalpy: Experimental formation enthalpies for inorganic compounds, collected from years of calorimetric experiments. There are 1,276 entries in this dataset, mostly binary compounds. Matching mpids or oqmdids as well as the DFT-computed formation energies are also added (if any).\n",
      "\n",
      "expt_formation_enthalpy_kingsbury: Dataset containing experimental standard formation enthalpies for solids. Formation enthalpies were compiled primarily from Kim et al., Kubaschewski, and the NIST JANAF tables (see references). Elements, liquids, and gases were excluded. Data were deduplicated such that each material is associated with a single formation enthalpy value. Refer to Wang et al. (see references) for a complete desciption of the methods used. Materials Project database IDs (mp-ids) were assigned to materials from among computed materials in the Materials Project database (version 2021.03.22) that were 1) not marked 'theoretical', 2) had structures matching at least one ICSD material, and 3) were within 200 meV of the DFT-computed stable energy hull (e_above_hull < 0.2 eV). Among these candidates, we chose the mp-id with the lowest e_above_hull that matched the reported spacegroup (where available).\n",
      "\n",
      "expt_gap: Experimental band gap of 6354 inorganic semiconductors.\n",
      "\n",
      "expt_gap_kingsbury: Identical to the matbench_expt_gap dataset, except that Materials Project database IDs (mp-ids) have been associated with each material using the same method as described for the expt_formation_enthalpy_kingsbury dataset. Columns have also been renamed for consistency with the formation enthalpy data.\n",
      "\n",
      "flla: 3938 structures and computed formation energies from \"Crystal Structure Representations for Machine Learning Models of Formation Energies.\"\n",
      "\n",
      "glass_binary: Metallic glass formation data for binary alloys, collected from various experimental techniques such as melt-spinning or mechanical alloying. This dataset covers all compositions with an interval of 5 at. % in 59 binary systems, containing a total of 5959 alloys in the dataset. The target property of this dataset is the glass forming ability (GFA), i.e. whether the composition can form monolithic glass or not, which is either 1 for glass forming or 0 for non-full glass forming.\n",
      "\n",
      "glass_binary_v2: Identical to glass_binary dataset, but with duplicate entries merged. If there was a disagreement in gfa when merging the class was defaulted to 1.\n",
      "\n",
      "glass_ternary_hipt: Metallic glass formation dataset for ternary alloys, collected from the high-throughput sputtering experiments measuring whether it is possible to form a glass using sputtering. The hipt experimental data are of the Co-Fe-Zr, Co-Ti-Zr, Co-V-Zr and Fe-Ti-Nb ternary systems.\n",
      "\n",
      "glass_ternary_landolt: Metallic glass formation dataset for ternary alloys, collected from the \"Nonequilibrium Phase Diagrams of Ternary Amorphous Alloys,’ a volume of the Landolt– Börnstein collection. This dataset contains experimental measurements of whether it is possible to form a glass using a variety of processing techniques at thousands of compositions from hundreds of ternary systems. The processing techniques are designated in the \"processing\" column. There are originally 7191 experiments in this dataset, will be reduced to 6203 after deduplicated, and will be further reduced to 6118 if combining multiple data for one composition. There are originally 6780 melt-spinning experiments in this dataset, will be reduced to 5800 if deduplicated, and will be further reduced to 5736 if combining multiple experimental data for one composition.\n",
      "\n",
      "heusler_magnetic: 1153 Heusler alloys with DFT-calculated magnetic and electronic properties. The 1153 alloys include 576 full, 449 half and 128 inverse Heusler alloys. The data are extracted and cleaned (including de-duplicating) from Citrine.\n",
      "\n",
      "jarvis_dft_2d: Various properties of 636 2D materials computed with the OptB88vdW and TBmBJ functionals taken from the JARVIS DFT database.\n",
      "\n",
      "jarvis_dft_3d: Various properties of 25,923 bulk materials computed with the OptB88vdW and TBmBJ functionals taken from the JARVIS DFT database.\n",
      "\n",
      "jarvis_ml_dft_training: Various properties of 24,759 bulk and 2D materials computed with the OptB88vdW and TBmBJ functionals taken from the JARVIS DFT database.\n",
      "\n",
      "m2ax: Elastic properties of 223 stable M2AX compounds from \"A comprehensive survey of M2AX phase elastic properties\" by Cover et al. Calculations are PAW PW91.\n",
      "\n",
      "matbench_dielectric: Matbench v0.1 test dataset for predicting refractive index from structure. Adapted from Materials Project database. Removed entries having a formation energy (or energy above the convex hull) more than 150meV and those having refractive indices less than 1 and those containing noble gases. Retrieved April 2, 2019. For benchmarking w/ nested cross validation, the order of the dataset must be identical to the retrieved data; refer to the Automatminer/Matbench publication for more details.\n",
      "\n",
      "matbench_expt_gap: Matbench v0.1 test dataset for predicting experimental band gap from composition alone. Retrieved from Zhuo et al. supplementary information. Deduplicated according to composition, removing compositions with reported band gaps spanning more than a 0.1eV range; remaining compositions were assigned values based on the closest experimental value to the mean experimental value for that composition among all reports. For benchmarking w/ nested cross validation, the order of the dataset must be identical to the retrieved data; refer to the Automatminer/Matbench publication for more details.\n",
      "\n",
      "matbench_expt_is_metal: Matbench v0.1 test dataset for classifying metallicity from composition alone. Retrieved from Zhuo et al. supplementary information. Deduplicated according to composition, ensuring no conflicting reports were entered for any compositions (i.e., no reported compositions were both metal and nonmetal). For benchmarking w/ nested cross validation, the order of the dataset must be identical to the retrieved data; refer to the Automatminer/Matbench publication for more details.\n",
      "\n",
      "matbench_glass: Matbench v0.1 test dataset for predicting full bulk metallic glass formation ability from chemical formula. Retrieved from \"Nonequilibrium Phase Diagrams of Ternary Amorphous Alloys,’ a volume of the Landolt– Börnstein collection. Deduplicated according to composition, ensuring no compositions were reported as both GFA and not GFA (i.e., all reports agreed on the classification designation). For benchmarking w/ nested cross validation, the order of the dataset must be identical to the retrieved data; refer to the Automatminer/Matbench publication for more details.\n",
      "\n",
      "matbench_jdft2d: Matbench v0.1 test dataset for predicting exfoliation energies from crystal structure (computed with the OptB88vdW and TBmBJ functionals). Adapted from the JARVIS DFT database. For benchmarking w/ nested cross validation, the order of the dataset must be identical to the retrieved data; refer to the Automatminer/Matbench publication for more details.\n",
      "\n",
      "matbench_log_gvrh: Matbench v0.1 test dataset for predicting DFT log10 VRH-average shear modulus from structure. Adapted from Materials Project database. Removed entries having a formation energy (or energy above the convex hull) more than 150meV and those having negative G_Voigt, G_Reuss, G_VRH, K_Voigt, K_Reuss, or K_VRH and those failing G_Reuss <= G_VRH <= G_Voigt or K_Reuss <= K_VRH <= K_Voigt and those containing noble gases. Retrieved April 2, 2019. For benchmarking w/ nested cross validation, the order of the dataset must be identical to the retrieved data; refer to the Automatminer/Matbench publication for more details.\n",
      "\n",
      "matbench_log_kvrh: Matbench v0.1 test dataset for predicting DFT log10 VRH-average bulk modulus from structure. Adapted from Materials Project database. Removed entries having a formation energy (or energy above the convex hull) more than 150meV and those having negative G_Voigt, G_Reuss, G_VRH, K_Voigt, K_Reuss, or K_VRH and those failing G_Reuss <= G_VRH <= G_Voigt or K_Reuss <= K_VRH <= K_Voigt and those containing noble gases. Retrieved April 2, 2019. For benchmarking w/ nested cross validation, the order of the dataset must be identical to the retrieved data; refer to the Automatminer/Matbench publication for more details.\n",
      "\n",
      "matbench_mp_e_form: Matbench v0.1 test dataset for predicting DFT formation energy from structure. Adapted from Materials Project database. Removed entries having formation energy more than 2.5eV and those containing noble gases. Retrieved April 2, 2019. For benchmarking w/ nested cross validation, the order of the dataset must be identical to the retrieved data; refer to the Automatminer/Matbench publication for more details.\n",
      "\n",
      "matbench_mp_gap: Matbench v0.1 test dataset for predicting DFT PBE band gap from structure. Adapted from Materials Project database. Removed entries having a formation energy (or energy above the convex hull) more than 150meV and those containing noble gases. Retrieved April 2, 2019. For benchmarking w/ nested cross validation, the order of the dataset must be identical to the retrieved data; refer to the Automatminer/Matbench publication for more details.\n",
      "\n",
      "matbench_mp_is_metal: Matbench v0.1 test dataset for predicting DFT metallicity from structure. Adapted from Materials Project database. Removed entries having a formation energy (or energy above the convex hull) more than 150meV and those containing noble gases. Retrieved April 2, 2019. For benchmarking w/ nested cross validation, the order of the dataset must be identical to the retrieved data; refer to the Automatminer/Matbench publication for more details.\n",
      "\n",
      "matbench_perovskites: Matbench v0.1 test dataset for predicting formation energy from crystal structure. Adapted from an original dataset generated by Castelli et al. For benchmarking w/ nested cross validation, the order of the dataset must be identical to the retrieved data; refer to the Automatminer/Matbench publication for more details.\n",
      "\n",
      "matbench_phonons: Matbench v0.1 test dataset for predicting vibration properties from crystal structure. Original data retrieved from Petretto et al. Original calculations done via ABINIT in the harmonic approximation based on density functional perturbation theory. Removed entries having a formation energy (or energy above the convex hull) more than 150meV. For benchmarking w/ nested cross validation, the order of the dataset must be identical to the retrieved data; refer to the Automatminer/Matbench publication for more details.\n",
      "\n",
      "matbench_steels: Matbench v0.1 test dataset for predicting steel yield strengths from chemical composition alone. Retrieved from Citrine informatics. Deduplicated. For benchmarking w/ nested cross validation, the order of the dataset must be identical to the retrieved data; refer to the Automatminer/Matbench publication for more details.\n",
      "\n",
      "mp_all_20181018: A complete copy of the Materials Project database as of 10/18/2018. mp_all files contain structure data for each material while mp_nostruct does not.\n",
      "\n",
      "mp_nostruct_20181018: A complete copy of the Materials Project database as of 10/18/2018. mp_all files contain structure data for each material while mp_nostruct does not.\n",
      "\n",
      "phonon_dielectric_mp: Phonon (lattice/atoms vibrations) and dielectric properties of 1296 compounds computed via ABINIT software package in the harmonic approximation based on density functional perturbation theory.\n",
      "\n",
      "piezoelectric_tensor: 941 structures with piezoelectric properties, calculated with DFT-PBE.\n",
      "\n",
      "ricci_boltztrap_mp_tabular: Ab-initio electronic transport database for inorganic materials. Complex multivariable BoltzTraP simulation data is condensed down into tabular form of two main motifs: average eigenvalues at set moderate carrier concentrations and temperatures, and optimal values among all carrier concentrations and temperatures within certain ranges. Here are reported the average of the eigenvalues of conductivity effective mass (mₑᶜᵒⁿᵈ), the Seebeck coefficient (S), the conductivity (σ), the electronic thermal conductivity (κₑ), and the Power Factor (PF) at a doping level of 10¹⁸ cm⁻³ and at a temperature of 300 K for n- and p-type. Also, the maximum values for S, σ, PF, and the minimum value for κₑ chosen among the temperatures [100, 1300] K, the doping levels [10¹⁶, 10²¹] cm⁻³, and doping types are reported. The properties that depend on the relaxation time are reported divided by the constant value 10⁻¹⁴. The average of the eigenvalues for all the properties at all the temperatures, doping levels, and doping types are reported in the tables for each entry. Data is indexed by materials project id (mpid)\n",
      "\n",
      "steel_strength: 312 steels with experimental yield strength and ultimate tensile strength, extracted and cleaned (including de-duplicating) from Citrine.\n",
      "\n",
      "superconductivity2018: Dataset of ~16,000 experimental superconductivity records (critical temperatures) from Stanev et al., originally from the Japanese National Institute for Materials Science. Does not include structural data. Includes ~300 measurements from materials found without superconductivity (Tc=0). No modifications were made to the core dataset, aside from basic file type change to json for (un)packaging with matminer. Reproduced under the Creative Commons 4.0 license, which can be found here: http://creativecommons.org/licenses/by/4.0/.\n",
      "\n",
      "tholander_nitrides: A challenging data set for quantum machine learning containing a diverse set of 12.8k polymorphs in the Zn-Ti-N, Zn-Zr-N and Zn-Hf-N chemical systems. The phase diagrams of the Ti-Zn-N, Zr-Zn-N, and Hf-Zn-N systems are determined using large-scale high-throughput density functional calculations (DFT-GGA) (PBE). In total 12,815 relaxed structures are shared alongside their energy calculated using the VASP DFT code. The High-Throughput Toolkit was used to manage the calculations. Data adapted and deduplicated from the original data on Zenodo at https://zenodo.org/record/5530535#.YjJ3ZhDMJLQ, published under MIT licence. Collated from separate files of chemical systems and deduplicated according to identical structures matching ht_ids. Prepared in collaboration with Rhys Goodall.\n",
      "\n",
      "ucsb_thermoelectrics: Database of ~1,100 experimental thermoelectric materials from UCSB aggregated from 108 source publications and personal communications. Downloaded from Citrine. Source UCSB webpage is http://www.mrl.ucsb.edu:8080/datamine/thermoelectric.jsp. See reference for more information on original data aggregation. No duplicate entries are present, but each src may result in multiple measurements of the same materials' properties at different temperatures or conditions.\n",
      "\n",
      "wolverton_oxides: 4,914 perovskite oxides containing composition data, lattice constants, and formation + vacancy formation energies. All perovskites are of the form ABO3. Adapted from a dataset presented by Emery and Wolverton.\n",
      "\n",
      "\n"
     ]
    },
    {
     "data": {
      "text/plain": [
       "['boltztrap_mp',\n",
       " 'brgoch_superhard_training',\n",
       " 'castelli_perovskites',\n",
       " 'citrine_thermal_conductivity',\n",
       " 'dielectric_constant',\n",
       " 'double_perovskites_gap',\n",
       " 'double_perovskites_gap_lumo',\n",
       " 'elastic_tensor_2015',\n",
       " 'expt_formation_enthalpy',\n",
       " 'expt_formation_enthalpy_kingsbury',\n",
       " 'expt_gap',\n",
       " 'expt_gap_kingsbury',\n",
       " 'flla',\n",
       " 'glass_binary',\n",
       " 'glass_binary_v2',\n",
       " 'glass_ternary_hipt',\n",
       " 'glass_ternary_landolt',\n",
       " 'heusler_magnetic',\n",
       " 'jarvis_dft_2d',\n",
       " 'jarvis_dft_3d',\n",
       " 'jarvis_ml_dft_training',\n",
       " 'm2ax',\n",
       " 'matbench_dielectric',\n",
       " 'matbench_expt_gap',\n",
       " 'matbench_expt_is_metal',\n",
       " 'matbench_glass',\n",
       " 'matbench_jdft2d',\n",
       " 'matbench_log_gvrh',\n",
       " 'matbench_log_kvrh',\n",
       " 'matbench_mp_e_form',\n",
       " 'matbench_mp_gap',\n",
       " 'matbench_mp_is_metal',\n",
       " 'matbench_perovskites',\n",
       " 'matbench_phonons',\n",
       " 'matbench_steels',\n",
       " 'mp_all_20181018',\n",
       " 'mp_nostruct_20181018',\n",
       " 'phonon_dielectric_mp',\n",
       " 'piezoelectric_tensor',\n",
       " 'ricci_boltztrap_mp_tabular',\n",
       " 'steel_strength',\n",
       " 'superconductivity2018',\n",
       " 'tholander_nitrides',\n",
       " 'ucsb_thermoelectrics',\n",
       " 'wolverton_oxides']"
      ]
     },
     "execution_count": 3,
     "metadata": {},
     "output_type": "execute_result"
    }
   ],
   "source": [
    "get_available_datasets()"
   ]
  },
  {
   "cell_type": "markdown",
   "metadata": {},
   "source": [
    "We see that there are several to choose from, so we are first going to take a look at the `castelli_perovskites` dataset as we are working with a perovskite material too"
   ]
  },
  {
   "cell_type": "code",
   "execution_count": 4,
   "metadata": {
    "tags": []
   },
   "outputs": [],
   "source": [
    "df_matminer = load_dataset('castelli_perovskites',data_home='.')"
   ]
  },
  {
   "cell_type": "markdown",
   "metadata": {},
   "source": [
    "Then we check what are the columns (the properties) this dataset contains, as we need to focus on the bandgap"
   ]
  },
  {
   "cell_type": "code",
   "execution_count": 5,
   "metadata": {
    "tags": []
   },
   "outputs": [
    {
     "data": {
      "text/plain": [
       "Index(['fermi level', 'fermi width', 'e_form', 'gap is direct', 'structure',\n",
       "       'mu_b', 'formula', 'vbm', 'cbm', 'gap gllbsc'],\n",
       "      dtype='object')"
      ]
     },
     "execution_count": 5,
     "metadata": {},
     "output_type": "execute_result"
    }
   ],
   "source": [
    "df_matminer.columns"
   ]
  },
  {
   "cell_type": "code",
   "execution_count": 7,
   "metadata": {
    "tags": []
   },
   "outputs": [
    {
     "data": {
      "text/plain": [
       "array([0.  , 0.6 , 0.5 , 0.4 , 2.  , 2.8 , 1.3 , 3.  , 1.5 , 0.3 , 1.2 ,\n",
       "       4.2 , 2.2 , 0.9 , 1.9 , 6.4 , 0.2 , 5.5 , 0.7 , 3.7 , 1.  , 5.7 ,\n",
       "       1.6 , 2.5 , 4.7 , 1.8 , 2.4 , 1.7 , 2.7 , 0.8 , 6.5 , 3.4 , 4.6 ,\n",
       "       4.1 , 2.1 , 3.2 , 4.  , 3.1 , 1.1 , 4.3 , 3.8 , 2.6 , 1.4 , 2.9 ,\n",
       "       6.2 , 2.3 , 6.3 , 5.2 , 5.8 , 3.5 , 5.9 , 6.9 , 4.4 , 4.5 , 6.6 ,\n",
       "       5.4 , 3.6 , 5.3 , 5.1 , 5.6 , 3.9 , 3.3 , 3.05, 6.7 , 6.  , 7.  ])"
      ]
     },
     "execution_count": 7,
     "metadata": {},
     "output_type": "execute_result"
    }
   ],
   "source": [
    "df_matminer['gap gllbsc'].unique()"
   ]
  },
  {
   "cell_type": "markdown",
   "metadata": {},
   "source": [
    "Then we check another dataset `double_perovskites_gap`"
   ]
  },
  {
   "cell_type": "code",
   "execution_count": 8,
   "metadata": {
    "tags": []
   },
   "outputs": [],
   "source": [
    "df_matminer = load_dataset('double_perovskites_gap',data_home='.')"
   ]
  },
  {
   "cell_type": "code",
   "execution_count": 9,
   "metadata": {
    "tags": []
   },
   "outputs": [
    {
     "data": {
      "text/plain": [
       "Index(['formula', 'a_1', 'b_1', 'a_2', 'b_2', 'gap gllbsc'], dtype='object')"
      ]
     },
     "execution_count": 9,
     "metadata": {},
     "output_type": "execute_result"
    }
   ],
   "source": [
    "df_matminer.columns"
   ]
  },
  {
   "cell_type": "code",
   "execution_count": 10,
   "metadata": {
    "tags": []
   },
   "outputs": [
    {
     "data": {
      "text/plain": [
       "0       4.164543\n",
       "1       4.454629\n",
       "2       4.192522\n",
       "3       3.963857\n",
       "4       2.881239\n",
       "          ...   \n",
       "1301    2.425122\n",
       "1302    2.297476\n",
       "1303    3.507231\n",
       "1304    1.877169\n",
       "1305    2.819711\n",
       "Name: gap gllbsc, Length: 1306, dtype: float64"
      ]
     },
     "execution_count": 10,
     "metadata": {},
     "output_type": "execute_result"
    }
   ],
   "source": [
    "df_matminer['gap gllbsc']"
   ]
  },
  {
   "cell_type": "markdown",
   "metadata": {},
   "source": [
    "Then we filter our search by the bandgap limits"
   ]
  },
  {
   "cell_type": "code",
   "execution_count": 11,
   "metadata": {
    "tags": []
   },
   "outputs": [],
   "source": [
    "bandgap_bounded = df_matminer[(df_matminer['gap gllbsc']>1.1) & (df_matminer['gap gllbsc']<3.2)]"
   ]
  },
  {
   "cell_type": "code",
   "execution_count": 12,
   "metadata": {
    "tags": []
   },
   "outputs": [
    {
     "data": {
      "text/html": [
       "<div>\n",
       "<style scoped>\n",
       "    .dataframe tbody tr th:only-of-type {\n",
       "        vertical-align: middle;\n",
       "    }\n",
       "\n",
       "    .dataframe tbody tr th {\n",
       "        vertical-align: top;\n",
       "    }\n",
       "\n",
       "    .dataframe thead th {\n",
       "        text-align: right;\n",
       "    }\n",
       "</style>\n",
       "<table border=\"1\" class=\"dataframe\">\n",
       "  <thead>\n",
       "    <tr style=\"text-align: right;\">\n",
       "      <th></th>\n",
       "      <th>formula</th>\n",
       "      <th>a_1</th>\n",
       "      <th>b_1</th>\n",
       "      <th>a_2</th>\n",
       "      <th>b_2</th>\n",
       "      <th>gap gllbsc</th>\n",
       "    </tr>\n",
       "  </thead>\n",
       "  <tbody>\n",
       "    <tr>\n",
       "      <th>4</th>\n",
       "      <td>AgNbSnTiO6</td>\n",
       "      <td>Ag</td>\n",
       "      <td>Nb</td>\n",
       "      <td>Sn</td>\n",
       "      <td>Ti</td>\n",
       "      <td>2.881239</td>\n",
       "    </tr>\n",
       "    <tr>\n",
       "      <th>14</th>\n",
       "      <td>AgTaCsVO6</td>\n",
       "      <td>Ag</td>\n",
       "      <td>Ta</td>\n",
       "      <td>Cs</td>\n",
       "      <td>V</td>\n",
       "      <td>2.169554</td>\n",
       "    </tr>\n",
       "    <tr>\n",
       "      <th>15</th>\n",
       "      <td>AgTaGaNbO6</td>\n",
       "      <td>Ag</td>\n",
       "      <td>Ta</td>\n",
       "      <td>Ga</td>\n",
       "      <td>Nb</td>\n",
       "      <td>1.784718</td>\n",
       "    </tr>\n",
       "    <tr>\n",
       "      <th>16</th>\n",
       "      <td>AgTaGaTaO6</td>\n",
       "      <td>Ag</td>\n",
       "      <td>Ta</td>\n",
       "      <td>Ga</td>\n",
       "      <td>Ta</td>\n",
       "      <td>2.285462</td>\n",
       "    </tr>\n",
       "    <tr>\n",
       "      <th>23</th>\n",
       "      <td>AgTaLiVO6</td>\n",
       "      <td>Ag</td>\n",
       "      <td>Ta</td>\n",
       "      <td>Li</td>\n",
       "      <td>V</td>\n",
       "      <td>1.661857</td>\n",
       "    </tr>\n",
       "    <tr>\n",
       "      <th>...</th>\n",
       "      <td>...</td>\n",
       "      <td>...</td>\n",
       "      <td>...</td>\n",
       "      <td>...</td>\n",
       "      <td>...</td>\n",
       "      <td>...</td>\n",
       "    </tr>\n",
       "    <tr>\n",
       "      <th>1300</th>\n",
       "      <td>TlTaSnTiO6</td>\n",
       "      <td>Tl</td>\n",
       "      <td>Ta</td>\n",
       "      <td>Sn</td>\n",
       "      <td>Ti</td>\n",
       "      <td>1.850790</td>\n",
       "    </tr>\n",
       "    <tr>\n",
       "      <th>1301</th>\n",
       "      <td>TlTaSrGeO6</td>\n",
       "      <td>Tl</td>\n",
       "      <td>Ta</td>\n",
       "      <td>Sr</td>\n",
       "      <td>Ge</td>\n",
       "      <td>2.425122</td>\n",
       "    </tr>\n",
       "    <tr>\n",
       "      <th>1302</th>\n",
       "      <td>TlTaSrSiO6</td>\n",
       "      <td>Tl</td>\n",
       "      <td>Ta</td>\n",
       "      <td>Sr</td>\n",
       "      <td>Si</td>\n",
       "      <td>2.297476</td>\n",
       "    </tr>\n",
       "    <tr>\n",
       "      <th>1304</th>\n",
       "      <td>TlTaSrTiO6</td>\n",
       "      <td>Tl</td>\n",
       "      <td>Ta</td>\n",
       "      <td>Sr</td>\n",
       "      <td>Ti</td>\n",
       "      <td>1.877169</td>\n",
       "    </tr>\n",
       "    <tr>\n",
       "      <th>1305</th>\n",
       "      <td>TlTaYAlO6</td>\n",
       "      <td>Tl</td>\n",
       "      <td>Ta</td>\n",
       "      <td>Y</td>\n",
       "      <td>Al</td>\n",
       "      <td>2.819711</td>\n",
       "    </tr>\n",
       "  </tbody>\n",
       "</table>\n",
       "<p>372 rows × 6 columns</p>\n",
       "</div>"
      ],
      "text/plain": [
       "         formula a_1 b_1 a_2 b_2  gap gllbsc\n",
       "4     AgNbSnTiO6  Ag  Nb  Sn  Ti    2.881239\n",
       "14     AgTaCsVO6  Ag  Ta  Cs   V    2.169554\n",
       "15    AgTaGaNbO6  Ag  Ta  Ga  Nb    1.784718\n",
       "16    AgTaGaTaO6  Ag  Ta  Ga  Ta    2.285462\n",
       "23     AgTaLiVO6  Ag  Ta  Li   V    1.661857\n",
       "...          ...  ..  ..  ..  ..         ...\n",
       "1300  TlTaSnTiO6  Tl  Ta  Sn  Ti    1.850790\n",
       "1301  TlTaSrGeO6  Tl  Ta  Sr  Ge    2.425122\n",
       "1302  TlTaSrSiO6  Tl  Ta  Sr  Si    2.297476\n",
       "1304  TlTaSrTiO6  Tl  Ta  Sr  Ti    1.877169\n",
       "1305   TlTaYAlO6  Tl  Ta   Y  Al    2.819711\n",
       "\n",
       "[372 rows x 6 columns]"
      ]
     },
     "execution_count": 12,
     "metadata": {},
     "output_type": "execute_result"
    }
   ],
   "source": [
    "bandgap_bounded"
   ]
  },
  {
   "cell_type": "markdown",
   "metadata": {},
   "source": [
    "To facilitate the search for materials with compositions similar to CaTiO3, regular expressions are used."
   ]
  },
  {
   "cell_type": "code",
   "execution_count": 13,
   "metadata": {
    "tags": []
   },
   "outputs": [],
   "source": [
    "bandgap_filtered = bandgap_bounded[bandgap_bounded['formula'].str.contains(r'^Ca.*O.*', case=True, regex=True)]"
   ]
  },
  {
   "cell_type": "code",
   "execution_count": 14,
   "metadata": {
    "tags": []
   },
   "outputs": [
    {
     "data": {
      "text/html": [
       "<div>\n",
       "<style scoped>\n",
       "    .dataframe tbody tr th:only-of-type {\n",
       "        vertical-align: middle;\n",
       "    }\n",
       "\n",
       "    .dataframe tbody tr th {\n",
       "        vertical-align: top;\n",
       "    }\n",
       "\n",
       "    .dataframe thead th {\n",
       "        text-align: right;\n",
       "    }\n",
       "</style>\n",
       "<table border=\"1\" class=\"dataframe\">\n",
       "  <thead>\n",
       "    <tr style=\"text-align: right;\">\n",
       "      <th></th>\n",
       "      <th>formula</th>\n",
       "      <th>a_1</th>\n",
       "      <th>b_1</th>\n",
       "      <th>a_2</th>\n",
       "      <th>b_2</th>\n",
       "      <th>gap gllbsc</th>\n",
       "    </tr>\n",
       "  </thead>\n",
       "  <tbody>\n",
       "    <tr>\n",
       "      <th>207</th>\n",
       "      <td>CaHfCsVO6</td>\n",
       "      <td>Ca</td>\n",
       "      <td>Hf</td>\n",
       "      <td>Cs</td>\n",
       "      <td>V</td>\n",
       "      <td>2.234428</td>\n",
       "    </tr>\n",
       "    <tr>\n",
       "      <th>208</th>\n",
       "      <td>CaHfGaNbO6</td>\n",
       "      <td>Ca</td>\n",
       "      <td>Hf</td>\n",
       "      <td>Ga</td>\n",
       "      <td>Nb</td>\n",
       "      <td>2.259002</td>\n",
       "    </tr>\n",
       "    <tr>\n",
       "      <th>209</th>\n",
       "      <td>CaHfGaTaO6</td>\n",
       "      <td>Ca</td>\n",
       "      <td>Hf</td>\n",
       "      <td>Ga</td>\n",
       "      <td>Ta</td>\n",
       "      <td>3.125645</td>\n",
       "    </tr>\n",
       "    <tr>\n",
       "      <th>210</th>\n",
       "      <td>CaHfInNbO6</td>\n",
       "      <td>Ca</td>\n",
       "      <td>Hf</td>\n",
       "      <td>In</td>\n",
       "      <td>Nb</td>\n",
       "      <td>1.454859</td>\n",
       "    </tr>\n",
       "    <tr>\n",
       "      <th>211</th>\n",
       "      <td>CaHfInTaO6</td>\n",
       "      <td>Ca</td>\n",
       "      <td>Hf</td>\n",
       "      <td>In</td>\n",
       "      <td>Ta</td>\n",
       "      <td>2.030900</td>\n",
       "    </tr>\n",
       "    <tr>\n",
       "      <th>219</th>\n",
       "      <td>CaHfLiVO6</td>\n",
       "      <td>Ca</td>\n",
       "      <td>Hf</td>\n",
       "      <td>Li</td>\n",
       "      <td>V</td>\n",
       "      <td>2.939416</td>\n",
       "    </tr>\n",
       "    <tr>\n",
       "      <th>225</th>\n",
       "      <td>CaHfNaVO6</td>\n",
       "      <td>Ca</td>\n",
       "      <td>Hf</td>\n",
       "      <td>Na</td>\n",
       "      <td>V</td>\n",
       "      <td>2.576283</td>\n",
       "    </tr>\n",
       "    <tr>\n",
       "      <th>239</th>\n",
       "      <td>CaHfTlNbO6</td>\n",
       "      <td>Ca</td>\n",
       "      <td>Hf</td>\n",
       "      <td>Tl</td>\n",
       "      <td>Nb</td>\n",
       "      <td>2.785947</td>\n",
       "    </tr>\n",
       "    <tr>\n",
       "      <th>249</th>\n",
       "      <td>CaSiSnTiO6</td>\n",
       "      <td>Ca</td>\n",
       "      <td>Si</td>\n",
       "      <td>Sn</td>\n",
       "      <td>Ti</td>\n",
       "      <td>2.549361</td>\n",
       "    </tr>\n",
       "    <tr>\n",
       "      <th>257</th>\n",
       "      <td>CaSnSnTiO6</td>\n",
       "      <td>Ca</td>\n",
       "      <td>Sn</td>\n",
       "      <td>Sn</td>\n",
       "      <td>Ti</td>\n",
       "      <td>2.728013</td>\n",
       "    </tr>\n",
       "    <tr>\n",
       "      <th>264</th>\n",
       "      <td>CaTiSnTiO6</td>\n",
       "      <td>Ca</td>\n",
       "      <td>Ti</td>\n",
       "      <td>Sn</td>\n",
       "      <td>Ti</td>\n",
       "      <td>2.795445</td>\n",
       "    </tr>\n",
       "    <tr>\n",
       "      <th>275</th>\n",
       "      <td>CaZrCsVO6</td>\n",
       "      <td>Ca</td>\n",
       "      <td>Zr</td>\n",
       "      <td>Cs</td>\n",
       "      <td>V</td>\n",
       "      <td>2.604377</td>\n",
       "    </tr>\n",
       "    <tr>\n",
       "      <th>276</th>\n",
       "      <td>CaZrGaNbO6</td>\n",
       "      <td>Ca</td>\n",
       "      <td>Zr</td>\n",
       "      <td>Ga</td>\n",
       "      <td>Nb</td>\n",
       "      <td>2.228163</td>\n",
       "    </tr>\n",
       "    <tr>\n",
       "      <th>277</th>\n",
       "      <td>CaZrGaTaO6</td>\n",
       "      <td>Ca</td>\n",
       "      <td>Zr</td>\n",
       "      <td>Ga</td>\n",
       "      <td>Ta</td>\n",
       "      <td>3.014914</td>\n",
       "    </tr>\n",
       "    <tr>\n",
       "      <th>278</th>\n",
       "      <td>CaZrInNbO6</td>\n",
       "      <td>Ca</td>\n",
       "      <td>Zr</td>\n",
       "      <td>In</td>\n",
       "      <td>Nb</td>\n",
       "      <td>1.456944</td>\n",
       "    </tr>\n",
       "    <tr>\n",
       "      <th>279</th>\n",
       "      <td>CaZrInTaO6</td>\n",
       "      <td>Ca</td>\n",
       "      <td>Zr</td>\n",
       "      <td>In</td>\n",
       "      <td>Ta</td>\n",
       "      <td>2.057918</td>\n",
       "    </tr>\n",
       "    <tr>\n",
       "      <th>288</th>\n",
       "      <td>CaZrLiVO6</td>\n",
       "      <td>Ca</td>\n",
       "      <td>Zr</td>\n",
       "      <td>Li</td>\n",
       "      <td>V</td>\n",
       "      <td>3.120800</td>\n",
       "    </tr>\n",
       "    <tr>\n",
       "      <th>294</th>\n",
       "      <td>CaZrNaVO6</td>\n",
       "      <td>Ca</td>\n",
       "      <td>Zr</td>\n",
       "      <td>Na</td>\n",
       "      <td>V</td>\n",
       "      <td>2.457279</td>\n",
       "    </tr>\n",
       "    <tr>\n",
       "      <th>307</th>\n",
       "      <td>CaZrTlNbO6</td>\n",
       "      <td>Ca</td>\n",
       "      <td>Zr</td>\n",
       "      <td>Tl</td>\n",
       "      <td>Nb</td>\n",
       "      <td>2.711079</td>\n",
       "    </tr>\n",
       "  </tbody>\n",
       "</table>\n",
       "</div>"
      ],
      "text/plain": [
       "        formula a_1 b_1 a_2 b_2  gap gllbsc\n",
       "207   CaHfCsVO6  Ca  Hf  Cs   V    2.234428\n",
       "208  CaHfGaNbO6  Ca  Hf  Ga  Nb    2.259002\n",
       "209  CaHfGaTaO6  Ca  Hf  Ga  Ta    3.125645\n",
       "210  CaHfInNbO6  Ca  Hf  In  Nb    1.454859\n",
       "211  CaHfInTaO6  Ca  Hf  In  Ta    2.030900\n",
       "219   CaHfLiVO6  Ca  Hf  Li   V    2.939416\n",
       "225   CaHfNaVO6  Ca  Hf  Na   V    2.576283\n",
       "239  CaHfTlNbO6  Ca  Hf  Tl  Nb    2.785947\n",
       "249  CaSiSnTiO6  Ca  Si  Sn  Ti    2.549361\n",
       "257  CaSnSnTiO6  Ca  Sn  Sn  Ti    2.728013\n",
       "264  CaTiSnTiO6  Ca  Ti  Sn  Ti    2.795445\n",
       "275   CaZrCsVO6  Ca  Zr  Cs   V    2.604377\n",
       "276  CaZrGaNbO6  Ca  Zr  Ga  Nb    2.228163\n",
       "277  CaZrGaTaO6  Ca  Zr  Ga  Ta    3.014914\n",
       "278  CaZrInNbO6  Ca  Zr  In  Nb    1.456944\n",
       "279  CaZrInTaO6  Ca  Zr  In  Ta    2.057918\n",
       "288   CaZrLiVO6  Ca  Zr  Li   V    3.120800\n",
       "294   CaZrNaVO6  Ca  Zr  Na   V    2.457279\n",
       "307  CaZrTlNbO6  Ca  Zr  Tl  Nb    2.711079"
      ]
     },
     "execution_count": 14,
     "metadata": {},
     "output_type": "execute_result"
    }
   ],
   "source": [
    "bandgap_filtered"
   ]
  },
  {
   "cell_type": "markdown",
   "metadata": {},
   "source": [
    "However, despite significantly narrowing down the results, some elements that are not very close to Titanium are still present, so a manual selection is made."
   ]
  },
  {
   "cell_type": "code",
   "execution_count": 15,
   "metadata": {
    "tags": []
   },
   "outputs": [
    {
     "data": {
      "text/html": [
       "<div>\n",
       "<style scoped>\n",
       "    .dataframe tbody tr th:only-of-type {\n",
       "        vertical-align: middle;\n",
       "    }\n",
       "\n",
       "    .dataframe tbody tr th {\n",
       "        vertical-align: top;\n",
       "    }\n",
       "\n",
       "    .dataframe thead th {\n",
       "        text-align: right;\n",
       "    }\n",
       "</style>\n",
       "<table border=\"1\" class=\"dataframe\">\n",
       "  <thead>\n",
       "    <tr style=\"text-align: right;\">\n",
       "      <th></th>\n",
       "      <th>formula</th>\n",
       "      <th>a_1</th>\n",
       "      <th>b_1</th>\n",
       "      <th>a_2</th>\n",
       "      <th>b_2</th>\n",
       "      <th>gap gllbsc</th>\n",
       "    </tr>\n",
       "  </thead>\n",
       "  <tbody>\n",
       "    <tr>\n",
       "      <th>257</th>\n",
       "      <td>CaSnSnTiO6</td>\n",
       "      <td>Ca</td>\n",
       "      <td>Sn</td>\n",
       "      <td>Sn</td>\n",
       "      <td>Ti</td>\n",
       "      <td>2.728013</td>\n",
       "    </tr>\n",
       "    <tr>\n",
       "      <th>264</th>\n",
       "      <td>CaTiSnTiO6</td>\n",
       "      <td>Ca</td>\n",
       "      <td>Ti</td>\n",
       "      <td>Sn</td>\n",
       "      <td>Ti</td>\n",
       "      <td>2.795445</td>\n",
       "    </tr>\n",
       "    <tr>\n",
       "      <th>275</th>\n",
       "      <td>CaZrCsVO6</td>\n",
       "      <td>Ca</td>\n",
       "      <td>Zr</td>\n",
       "      <td>Cs</td>\n",
       "      <td>V</td>\n",
       "      <td>2.604377</td>\n",
       "    </tr>\n",
       "  </tbody>\n",
       "</table>\n",
       "</div>"
      ],
      "text/plain": [
       "        formula a_1 b_1 a_2 b_2  gap gllbsc\n",
       "257  CaSnSnTiO6  Ca  Sn  Sn  Ti    2.728013\n",
       "264  CaTiSnTiO6  Ca  Ti  Sn  Ti    2.795445\n",
       "275   CaZrCsVO6  Ca  Zr  Cs   V    2.604377"
      ]
     },
     "execution_count": 15,
     "metadata": {},
     "output_type": "execute_result"
    }
   ],
   "source": [
    "new_df = bandgap_filtered.loc[[257, 264, 275]]\n",
    "new_df"
   ]
  },
  {
   "cell_type": "markdown",
   "metadata": {},
   "source": [
    "**Comparison of the DataFrames**\n",
    "\n",
    "During the development of this task, some key characteristics of each tool became evident. However, I believe that more varied and precise results can be obtained using Pymatgen. This is because I see the use of datasets in Matminer as a limitation when searching based on specific criteria. Furthermore, I find it inconvenient to have to read through all of Matminer's datasets to determine which one might be suitable for the search. Additionally, the descriptions of those datasets are not entirely reliable concerning the recorded data, as was the case with the 'castelli_perovskites' dataset. Although it claimed to contain information on the band gap, it appears that this column did not have the correct data. On the other hand, the search process with Pymatgen was more straightforward, yielding an appropriate number of results. Compared to Matminer, Pymatgen's results adhered more rigorously to the specified filtering criteria. Meanwhile, the main issue with Matminer stemmed from the dataset used, which contained information on perovskites with multiple transition metals, whereas the focus was more on perovskites with only one metal (based on the assigned solid)."
   ]
  },
  {
   "cell_type": "markdown",
   "metadata": {},
   "source": [
    "**b) Use the selected DataFrame and choose two structures. Compare these two new structures with your initial structure from point 1). Contrast their symmetries, geometry, phase diagrams, stability, and electronic configuration (band gap, density of states – band structure) within the framework of the application that you and/or your teammates presented. In other words, what behavior would these two new materials have compared to the initial material?**"
   ]
  },
  {
   "cell_type": "markdown",
   "metadata": {},
   "source": [
    "The first structure we are going compare will be **Ca₂V₂O₇** and we will realize a similar search that we have previously done in Materials Project"
   ]
  },
  {
   "cell_type": "markdown",
   "metadata": {},
   "source": [
    "<img src=\"images/Ca_search.png\" width=\"600\" style=\"margin:auto\"/>"
   ]
  },
  {
   "cell_type": "markdown",
   "metadata": {},
   "source": [
    "- symmetry:\n",
    "\n",
    "<img src=\"images/symmetry_ca.png\" width=\"600\" style=\"margin:auto\"/>\n",
    "\n",
    "According to the information provided by the Materials Project, the solid is a triclinic system, while CaTiO3 is an orthorhombic system."
   ]
  },
  {
   "cell_type": "markdown",
   "metadata": {},
   "source": [
    "- Phase diagram\n",
    "\n",
    "<img src=\"images/ca_phase_diagram.png\" width=\"600\" style=\"margin:auto\"/>\n",
    "\n",
    "Similar to the phase diagram of CaTiO3, most of the formed systems are located in the lower part of the diagram. Additionally, the positioning of the elements remains the same: oxygen is in the lower right corner, calcium is at the top, and the transition metal occupies the remaining position. With this in mind, it can be said that oxygen compositions with transition metals are more common, though they can also result in multiple compositions that are less stable, with high formation energies."
   ]
  },
  {
   "cell_type": "markdown",
   "metadata": {},
   "source": [
    "- Electronic configuration\n",
    "\n",
    "<img src=\"images/ca_electronicp.png\" width=\"600\" style=\"margin:auto\"/>\n",
    "\n",
    "On one hand, it is possible to observe a band structure where the bands appear to be more organized; however, a larger gap is also visible, which, according to the Materials Project, is 2.96 eV—higher than the band gap of CaTiO3. Additionally, the density of states exhibits behavior similar to that of CaTiO3, as it shows that for the valence band, the associated element is oxygen, while for the conduction band, the elements are the two cations.\n",
    "\n",
    "Finally, it is possible to conclude that this material, applied to solar cells, would not be a very suitable choice for study given the observed properties. This is because solar cell efficiency is only about 10% when the band gap exceeds 2.6 eV.\n"
   ]
  },
  {
   "cell_type": "markdown",
   "metadata": {},
   "source": [
    "The second material will be $\\text{CaV}_3\\text{O}_7$, and we do a similar search:\n",
    "\n",
    "<img src=\"images/cav3_search.png\" width=\"600\" style=\"margin:auto\"/>"
   ]
  },
  {
   "cell_type": "markdown",
   "metadata": {},
   "source": [
    "- symmetry\n",
    "\n",
    "<img src=\"images/cav3_symmetry.png\" width=\"600\" style=\"margin:auto\"/>\n",
    "\n",
    "According to the information provided by the Materials Project, the solid has the same space group as CaTiO3, orthorhombic."
   ]
  },
  {
   "cell_type": "markdown",
   "metadata": {},
   "source": [
    "- Phase diagram\n",
    "\n",
    "<img src=\"images/cav3_pd.png\" width=\"600\" style=\"margin:auto\"/>\n",
    "\n",
    "In this phase diagram, there is a tendency for the formed solids to move toward the lower right side, seeking a higher concentration of oxygen. Additionally, the formation energy for this solid is higher than that of the others studied, making it less stable."
   ]
  },
  {
   "cell_type": "markdown",
   "metadata": {},
   "source": [
    "- Electronic configuration\n",
    "\n",
    "<img src=\"images/cav3_es.png\" width=\"600\" style=\"margin:auto\"/>\n",
    "\n",
    "The band structure and density of states presented for this solid are somewhat different from what has been observed so far. This is because the diagrams include colors that can provide more information about what is being observed. For the density of states, the graph shows densities for each element and also specifies spin. Moreover, the density of states does not follow the same pattern as the others, where the jumps aligned with the band structure's gap. In this case, the previously observed trend regarding the elements related to the bands is not followed either, as according to the interpretation of the graphs, the transition metal is also associated with the valence band. This behavior could provide the solid with different properties, altering its functionality when applied to solar cells. However, it can be concluded that this material is not suitable for study in potential applications with porphyrins. First, it is an unstable compound, which would cause issues with the durability and adaptability of the cells. Second, with a band gap of 2.21 eV, its efficiency is likely to be quite low.\n"
   ]
  }
 ],
 "metadata": {
  "kernelspec": {
   "display_name": "Python 3 (ipykernel)",
   "language": "python",
   "name": "python3"
  },
  "language_info": {
   "codemirror_mode": {
    "name": "ipython",
    "version": 3
   },
   "file_extension": ".py",
   "mimetype": "text/x-python",
   "name": "python",
   "nbconvert_exporter": "python",
   "pygments_lexer": "ipython3",
   "version": "3.11.4"
  }
 },
 "nbformat": 4,
 "nbformat_minor": 4
}

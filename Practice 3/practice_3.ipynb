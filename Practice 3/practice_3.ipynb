{
 "cells": [
  {
   "cell_type": "markdown",
   "metadata": {},
   "source": [
    "During this practice, the students were asked to choose a ionic solid from the Materials Project database in order to develop the following steps.\n",
    "\n",
    "**Important note:** remember that, in order to obtain full access to the database it is necessary to create a Materials Project account. The instructions for creating an account and start exploring the database are given in the readme file of this repository."
   ]
  },
  {
   "cell_type": "markdown",
   "metadata": {},
   "source": [
    "### 1. Download the .cif file. Visualize the crystaline sctructure using ASE GUI in order to answer the following statements. In order to realize the modifications to the structure, use ASE GUI, and to visualize, use ASE GUI or VESTA, as preferred. Replicate the unit cell as considered more convenient."
   ]
  },
  {
   "cell_type": "markdown",
   "metadata": {},
   "source": [
    "The material chosen is $\\text{CaTiO}_3$ (it is possible to replicate this work what any other solid from Materials Project). In this case, the structure file will be downloaded manually from the webpage. But first, let us assume that we are just entering for the first time after successfully logging in. This what it should look like:\n",
    "\n",
    "<img src=\"images/mp_init_page.png\" width=\"700\" style=\"margin:auto\"/>"
   ]
  },
  {
   "cell_type": "markdown",
   "metadata": {},
   "source": [
    "In order to begin our search for the material we are going to work with, we click the `Start Exploring Materials` button, at the left side of the page, around the section in the middle, which will bring us to this new page:\n",
    "\n",
    "\n",
    "<img src=\"images/start_exploring_button.png\" width=\"700\" style=\"margin:auto\"/>"
   ]
  },
  {
   "cell_type": "markdown",
   "metadata": {},
   "source": [
    "As we can see, there is a search bar that will allow us to type the material we are interested in obtaining. However, it is important to mention that there are different ways to look for materials. We let the reader explore at their own pace. From now on, we are going to type in the material for this example CaTiO3 and hit enter which will give us the following results:\n",
    "\n",
    "<img src=\"images/materials_search.png\" width=\"700\" style=\"margin:auto\"/>\n"
   ]
  },
  {
   "cell_type": "markdown",
   "metadata": {},
   "source": [
    "Notice that on the left side there's a filter section, where we can make our search more detailed to what we are specifically looking for. It is worth mentioning that we encourage the reader to explore all of these functionalities to get the most out of Materials Project, but for now, we are going to click on the first element of the `Material ID` column, which is `mp-4019`, to the right of the star sign. The new page will look like this:\n",
    "\n",
    "\n",
    "<img src=\"images/material_overview.png\" width=\"700\" style=\"margin:auto\"/>"
   ]
  },
  {
   "cell_type": "markdown",
   "metadata": {},
   "source": [
    "This page contains a vast amount of information and properties for the material that can be explored later on, but for now we need to obtain the CIF file, which we accomplish by click the last icon inside of the square of the visual representation, the one highlighted with blue:\n",
    "\n",
    "<img src=\"images/cif_download.png\" width=\"700\" style=\"margin:auto\"/>"
   ]
  },
  {
   "cell_type": "markdown",
   "metadata": {},
   "source": [
    "Notice that after clicking it, it expands into several options, from which we are going to choose the second one, `CIF`. It will open the file explorer of the computer so make sure to save it in the same directory of this notebook."
   ]
  },
  {
   "cell_type": "markdown",
   "metadata": {},
   "source": [
    "With the file downloaded, we are ready to visualize the structure using ASE (remember to have installed ASE in the environment you are working in order for the code to work properly)"
   ]
  },
  {
   "cell_type": "code",
   "execution_count": 1,
   "metadata": {
    "tags": []
   },
   "outputs": [],
   "source": [
    "! ase gui CaTiO3.cif"
   ]
  },
  {
   "cell_type": "markdown",
   "metadata": {},
   "source": [
    "Here is an image that contains the visualizations using the multiple tools mentioned:\n",
    "\n",
    "<img src=\"images/ase_vesta_MP_visualization.png\" width=\"700\" style=\"margin:auto\"/>\n",
    "\n",
    "Remember that by opening the file in each of these programs, you can interact with the image by rotating it to see its structure from different angles and also explore other functionalities."
   ]
  },
  {
   "cell_type": "markdown",
   "metadata": {},
   "source": [
    "We are now going to modify the structure by applying vacancies, defects and impurities"
   ]
  },
  {
   "cell_type": "markdown",
   "metadata": {},
   "source": [
    "**a) Create a vacancy by removing a cation. Explain the implications this would have on both the geometry (and therefore symmetry) and the electronic structure of the solid.**"
   ]
  },
  {
   "cell_type": "markdown",
   "metadata": {},
   "source": [
    "The cations in the material are $\\text{Ca}^{2+}$ and $\\text{Ti}^{4+}$, so the vacancy can be created by removing one of these.\n",
    "For this specific example, a Calcium atom is removed, as shown highlighted in the following image:\n",
    "\n",
    "<img src=\"images/cation_highlighted.png\" width=\"300\" style=\"margin:auto\"/>\n"
   ]
  },
  {
   "cell_type": "markdown",
   "metadata": {},
   "source": [
    "After removing the cation, a comparison is made by replicating the unit cell along each axis:\n",
    "\n",
    "<img src=\"images/vs_vacancy.png\" width=\"500\" style=\"margin:auto\"/>"
   ]
  },
  {
   "cell_type": "markdown",
   "metadata": {},
   "source": [
    "By removing a cation located at one of the corners of the cell, it can be observed that the geometry is significantly affected, as the unit cell will have a different arrangement than the original. This change may alter properties such as the lattice type, although in this particular case, since the atom is located at a corner, its influence on specific lattice systems (e.g., face-centered, body-centered, primitive) might not be as significant. However, it does imply that the space group symmetry of the solid could change.\n",
    "\n",
    "Additionally, geometric characteristics like density may vary, as the number of atoms contained within a unit cell of a given volume changes.\n",
    "\n",
    "On the other hand, removing a cation modifies the electronic structure of the solid. The removed Ca²⁺ cation contributed electrons to the molecular orbitals that were part of the solid’s original electronic structure. These contributions influenced properties such as the specific bandgap, which determines its conductive capacity. By removing a cation, this structure is disrupted, potentially leading to changes in the band structure and, consequently, variations in the bandgap. Such changes could alter the solid's conductive properties."
   ]
  },
  {
   "cell_type": "markdown",
   "metadata": {},
   "source": [
    "**b) Create a Frenkel defect. Explain.**\n",
    "\n",
    "In a Frenkel defect, a cation from the same material is relocated to an interstitial position (between two layers). To facilitate this process, the unit cell is first replicated along two axes. Then, a cation is selected from the solid and moved to an empty space. Following the organizational pattern of the atoms, the cation is relocated to a position where it is surrounded by oxygen anions, as is typical for cations in the material. The formation of this defect is illustrated below:\n",
    "\n",
    "\n",
    "<img src=\"images/frenkel_defect.png\" width=\"500\" style=\"margin:auto\"/>\n"
   ]
  },
  {
   "cell_type": "markdown",
   "metadata": {},
   "source": [
    "The implications of this defect on the solid differ slightly from those of vacancies. This is because, although an atom is removed from its original position, it is reintroduced elsewhere within the solid. This means the overall charge of the system remains unaffected, unlike in the case of a vacancy. However, it can still be considered that this rearrangement of charges may influence the behavior of the system.\n",
    "\n",
    "Specifically, upon further investigation into the implications of this defect, it was found that it can increase the dielectric constant of the solid. This occurs because when the atom is relocated, if it ends up in a region where there are other charges similar to its own, these charges will repel each other."
   ]
  },
  {
   "cell_type": "markdown",
   "metadata": {},
   "source": [
    "**c) Create a Schottky defect. Explain.**\n",
    "\n",
    "In a Schottky defect, vacancies occur in pairs of atoms such that when they are removed, the charge of the solid remains neutral. This means the removed pair must consist of cations and anions whose charges sum to zero. For this example, an oxygen atom with a charge of 2⁻ and a calcium atom with a charge of 2⁺ were removed. As a result, the total charge of the solid is unaffected by these vacancies.\n",
    "\n",
    "It is also noteworthy that the removal of these pairs does not require the atoms to be adjacent; they can be taken from arbitrary parts of the cell. The process is illustrated below:\n",
    "\n",
    "<img src=\"images/schottky_defect.png\" width=\"600\" style=\"margin:auto\"/>\n"
   ]
  },
  {
   "cell_type": "markdown",
   "metadata": {},
   "source": [
    "Similarly to simple vacancies, the removal of atoms results in a lower concentration of atoms within the cell, leading to a decrease in its density."
   ]
  },
  {
   "cell_type": "markdown",
   "metadata": {},
   "source": [
    "**d) Add an interstitial impurity from a foreign atom. Explain.**\n",
    "\n",
    "For this type of impurity, it is necessary to introduce an atom that occupies an interstitial position, similar to how the calcium cation was positioned in part (b). In this case, the number of atoms in the defect-free solid remains unchanged, and since an additional atom is being introduced into the unit cell of a fixed volume, properties like density will change, specifically increasing.\n",
    "\n",
    "Additionally, the electronic structure of the solid may also be affected, as the charge of the added atom will influence the charges of the surrounding atoms. This could lead to changes in the band structure and, consequently, variations in the solid's conductivity.\n",
    "\n",
    "The selected element is Chromium (Cr), which has the following oxidation states, as noted in [Ptable](https://ptable.com/?lang=en#Properties):\n",
    "\n",
    "- -2, -1, 1, 2, 3, 4, 5, 6\n",
    "\n",
    "This means there are multiple possible oxidation states that the Cr atom could assume when placed in the cell. The designated position for the Cr atom is primarily surrounded by oxygen atoms, with calcium atoms nearby, and titanium atoms located in the adjacent layer. The process is illustrated below:\n",
    "\n",
    "<img src=\"images/interstitial_impurity.png\" width=\"600\" style=\"margin:auto\"/>"
   ]
  },
  {
   "cell_type": "markdown",
   "metadata": {},
   "source": [
    "**e) Demonstrate an isomorphic substitution impurity by replacing one atom with a different one. Explain.**\n",
    "\n",
    "For this type of impurity, it is essential to consider various factors before making the substitution. The term \"isomorphic\" implies that the atom used to replace one in the system must have similar characteristics, particularly in terms of atomic size and charge. Therefore, an exploration of the periodic table was conducted to identify elements with properties resembling those of $\\text{Ca}^{2+}$.\n",
    "\n",
    "It was observed that elements adjacent to calcium on the periodic table have significantly smaller atomic sizes compared to calcium. Consequently, elements within the transition metals that can also exhibit a $+2$ oxidation state were considered. As shown in the following image, rhodium ($Rh$) appears to be a suitable choice for substitution:\n",
    "\n",
    "<img src=\"images/isomorphic_substitution.png\" width=\"500\" style=\"margin:auto\"/>"
   ]
  },
  {
   "cell_type": "markdown",
   "metadata": {},
   "source": [
    "Thus, a $\\text{Ca}^{2+}$ atom was replaced with $\\text{Rh}^{2+}$ as follows:\n",
    "\n",
    "<img src=\"images/isomorphic_substitution_2.png\" width=\"600\" style=\"margin:auto\"/>"
   ]
  },
  {
   "cell_type": "markdown",
   "metadata": {},
   "source": [
    "### Use the structure outlined in numeral 1) to develop the following statements. In the relevant sections, include the lines of code used. "
   ]
  },
  {
   "cell_type": "markdown",
   "metadata": {},
   "source": [
    "**a) Locate the phase diagram of the crystalline system and analyze it in detail. Indicate which species is (or are) the most stable and whether the system you have is stable.**"
   ]
  },
  {
   "cell_type": "markdown",
   "metadata": {},
   "source": [
    "In order to obtain the phase diagram we are going back to the Materials Project webpage where we left it, with all the information about the [material we are working with](https://next-gen.materialsproject.org/materials/mp-4019?formula=CaTiO3).\n",
    "\n",
    "Recall that when we downloaded the CIF file, there was a menu at the left side of the page called `table of contents`. We encourage the reader to explore the different information that can be found in each of these section but for now we are going to click on the one called `Properties`, which will show us the following:\n",
    "\n",
    "<img src=\"images/phase_diagram_step1.png\" width=\"700\" style=\"margin:auto\"/>"
   ]
  },
  {
   "cell_type": "markdown",
   "metadata": {},
   "source": [
    "And we are going to click button at the lowest part on the image where it says `Generate Phase Diagram`:\n",
    "\n",
    "<img src=\"images/phase_diagram2.png\" width=\"700\" style=\"margin:auto\"/>"
   ]
  },
  {
   "cell_type": "markdown",
   "metadata": {},
   "source": [
    "In the lower-left corner is $\\text{Ti}$, in the lower-right corner is $\\text{O}_2$, and at the top is $\\text{Ca}$.\n",
    "\n",
    "The proportion of each element composing the solid being analyzed ($\\text{CaTiO}_{3}$) can also be obtained from the phase diagram: \n",
    "\n",
    "$$\\text{Ca}_{0.2}\\text{Ti}_{0.2}\\text{O}_{0.6}$$\n",
    "\n",
    "The most stable species are highlighted in green. It is evident that the majority are located at the bottom of the diagram, between titanium and oxygen, suggesting that the most stable species are composed of these two elements in varying proportions (sometimes with titanium in greater proportions, and sometimes with more oxygen).\n",
    "\n",
    "It is also noticeable that there do not appear to be species formed solely from titanium and calcium, regardless of their proportions.\n",
    "\n",
    "Finally, the species $\\text{CaTiO}_{3}$ is identified as stable."
   ]
  },
  {
   "cell_type": "markdown",
   "metadata": {},
   "source": [
    "**Locate the formation energy graph. Analyze it.**\n",
    "\n",
    "The formation energy is related to the phase diagram presented in the previous section, as it is possible to identify the formation energies for each compound in the diagram. A pattern can be observed indicating that the compounds with lower formation energies correspond to stable compounds (those marked in green), while compounds that are not identified as stable have higher formation energies associated with them.\n",
    "\n",
    "Upon closely examining the values of these energies, it is observed that for each compound labeled as stable, the formation energy tends to be around -3 eV, while the compounds marked with red diamonds typically have formation energies close to or greater than -2 eV."
   ]
  },
  {
   "cell_type": "markdown",
   "metadata": {},
   "source": [
    "**c) Locate the electronic structure, particularly the band structure and the density of states. Analyze the graph according to what was covered in class.**\n",
    "\n",
    "In order to obtain the band structure and the density of states, we are going to click on `Electronic Structure`, next to `Phase Stability`, where we should be located after generating the phase diagram. \n",
    "\n",
    "<img src=\"images/electronic_structure_step1.png\" width=\"700\" style=\"margin:auto\"/>"
   ]
  },
  {
   "cell_type": "markdown",
   "metadata": {},
   "source": [
    "We will show the band structure more clearly in order to analyze it properly:"
   ]
  },
  {
   "cell_type": "markdown",
   "metadata": {},
   "source": [
    "<img src=\"images/electronic_structure.png\" width=\"700\" style=\"margin:auto\"/>"
   ]
  },
  {
   "cell_type": "markdown",
   "metadata": {},
   "source": [
    "Upon closely examining the band structure, we can identify the valence band at the bottom and the conduction band at the top. A gap is observed between them, which initially suggests that the solid is not a metal (conductor). Therefore, it is necessary to consider the size of this gap in more detail to determine whether it is a semiconductor or an insulator. According to the information provided by the Materials Project, the bandgap of this solid is 2.31 eV, which, based on the intervals discussed in class, indicates that the solid is a semiconductor.\n",
    "\n",
    "Additionally, the density of states reveals the elements associated with the conduction and valence bands. For this solid, oxygen predominantly occupies the valence band, while calcium and titanium predominantly occupy the conduction band. This observation highlights a trend where cations tend to move toward the conduction band, while anions are more likely to be found in the valence band. This can be interpreted as the valence band containing orbitals that have a complete number of electrons, while the conduction band corresponds to orbitals that are not fully occupied.\n",
    "\n"
   ]
  },
  {
   "cell_type": "markdown",
   "metadata": {},
   "source": [
    "**d) Using Jupyter Lab, load the .CIF file, visualize (print) the crystallographic information, and observe the structure using the Crystal Toolkit. Determine the oxidation states of each atom in the crystalline structure using the methodology discussed in class. Visualize your data (print). Show the lines of code used.**"
   ]
  },
  {
   "cell_type": "markdown",
   "metadata": {},
   "source": [
    "Even though we already have the CIF file of our material because we manually downloaded it from Materials Project, we are going to show the step to use the Materials Project API to easily obtain the structure with just a few lines of code.\n",
    "\n",
    "First of all, please make sure you have all the necessary libraries installed (see the readme file of this repository for guidance)"
   ]
  },
  {
   "cell_type": "code",
   "execution_count": 1,
   "metadata": {
    "tags": []
   },
   "outputs": [],
   "source": [
    "#import libraries\n",
    "import pymatgen\n",
    "import crystal_toolkit\n",
    "from pymatgen.ext.matproj import MPRester\n",
    "from pymatgen.transformations.standard_transformations import AutoOxiStateDecorationTransformation #to determine the oxidation states"
   ]
  },
  {
   "cell_type": "markdown",
   "metadata": {},
   "source": [
    "The next step is to obtain the API key. This is necessary to make any request to the Materials Project API and there's a unique key for each Materials Project account. **You shouldn't share this key with anyone.**\n",
    "\n",
    "In order to obtain the API key, we are going to the main page of Materials Project after logging in, which should look like this:\n",
    "\n",
    "<img src=\"images/mp_init_page.png\" width=\"700\" style=\"margin:auto\"/>"
   ]
  },
  {
   "cell_type": "markdown",
   "metadata": {},
   "source": [
    "Then we go to the top right and click on the `API` button and it will shows us this new page:\n",
    "\n",
    "\n",
    "<img src=\"images/api_page.png\" width=\"700\" style=\"margin:auto\"/>"
   ]
  },
  {
   "cell_type": "markdown",
   "metadata": {},
   "source": [
    "Note the menu on the left side on the screen. Click on the `API Key` button at it will show you something like this:\n",
    "\n",
    "<img src=\"images/api_key.png\" width=\"700\" style=\"margin:auto\"/>"
   ]
  },
  {
   "cell_type": "markdown",
   "metadata": {},
   "source": [
    "Your personal API key should appear where the red line is located in the image. You can select and copy it, and then paste it in the following cell as indicated:"
   ]
  },
  {
   "cell_type": "code",
   "execution_count": 2,
   "metadata": {
    "tags": []
   },
   "outputs": [],
   "source": [
    "# In this cell you are going to paste your API key\n",
    "\"\"\"\n",
    "The next two lines of code should be uncommented and executed if you want to try\n",
    "the steps by yourself locally using the API and your personal key.\n",
    "In order to continue with this example, we only read the structure from the CIF\n",
    "file previously downloaded, however, after readind the structure either from the\n",
    "CIF file or the API, the rest of the process will be the same\n",
    "\"\"\"\n",
    "# mpr = MPRester('your API key should go here') #replace the text inside the quotation marks with your key \n",
    "# CaTiO3 = mpr.get_structure_by_material_id('mp-4019')\n",
    "\n",
    "\"\"\"\n",
    "So if you are going to use your API key, the next two lines should be commented\n",
    "because they just read the structure from the CIF file we already\n",
    "downloaded manually\n",
    "\"\"\"\n",
    "from pymatgen.core.structure import Structure\n",
    "\n",
    "# Load the CIF file\n",
    "CaTiO3 = Structure.from_file(\"CaTiO3.cif\")"
   ]
  },
  {
   "cell_type": "markdown",
   "metadata": {},
   "source": [
    "Now that we have our structure, we want to see the crystallographic information as follows:"
   ]
  },
  {
   "cell_type": "code",
   "execution_count": 3,
   "metadata": {
    "tags": []
   },
   "outputs": [
    {
     "name": "stdout",
     "output_type": "stream",
     "text": [
      "Full Formula (Ca4 Ti4 O12)\n",
      "Reduced Formula: CaTiO3\n",
      "abc   :   5.372049   5.462796   7.636360\n",
      "angles:  90.000000  90.000000  90.000000\n",
      "pbc   :       True       True       True\n",
      "Sites (20)\n",
      "  #  SP           a         b         c\n",
      "---  ----  --------  --------  --------\n",
      "  0  Ca2+  0.509067  0.542398  0.75\n",
      "  1  Ca2+  0.490933  0.457602  0.25\n",
      "  2  Ca2+  0.990933  0.042398  0.75\n",
      "  3  Ca2+  0.009067  0.957602  0.25\n",
      "  4  Ti4+  0         0.5       0.5\n",
      "  5  Ti4+  0         0.5       0\n",
      "  6  Ti4+  0.5       0         0.5\n",
      "  7  Ti4+  0.5       0         0\n",
      "  8  O2-   0.076781  0.481328  0.75\n",
      "  9  O2-   0.923219  0.518672  0.25\n",
      " 10  O2-   0.423219  0.981328  0.75\n",
      " 11  O2-   0.576781  0.018672  0.25\n",
      " 12  O2-   0.790294  0.789614  0.959841\n",
      " 13  O2-   0.209706  0.210386  0.459841\n",
      " 14  O2-   0.209706  0.210386  0.040159\n",
      " 15  O2-   0.790294  0.789614  0.540159\n",
      " 16  O2-   0.709706  0.289614  0.959841\n",
      " 17  O2-   0.290294  0.710386  0.459841\n",
      " 18  O2-   0.290294  0.710386  0.040159\n",
      " 19  O2-   0.709706  0.289614  0.540159\n"
     ]
    }
   ],
   "source": [
    "#crystallographic information\n",
    "print(CaTiO3)"
   ]
  },
  {
   "cell_type": "markdown",
   "metadata": {},
   "source": [
    "Then we visualize the structure using Crystal Toolkit"
   ]
  },
  {
   "cell_type": "code",
   "execution_count": 4,
   "metadata": {
    "tags": []
   },
   "outputs": [
    {
     "data": {
      "application/vnd.mp.ctk+json": {
       "contents": [
        {
         "contents": [
          {
           "clickable": true,
           "color": "#ff0d0d",
           "id": "--atoms--0",
           "positions": [
            [
             2.2735525555549647,
             5.360793078076053,
             5.727269715000001
            ]
           ],
           "radius": 0.5,
           "tooltip": "O2- (2.274, 5.361, 5.727)",
           "type": "spheres"
          },
          {
           "clickable": true,
           "color": "#3dff00",
           "id": "--atoms--1",
           "positions": [
            [
             2.6373165464707773,
             2.4997890576754003,
             1.9090899050000003
            ]
           ],
           "radius": 0.5,
           "tooltip": "Ca2+ (2.637, 2.500, 1.909)",
           "type": "spheres"
          },
          {
           "clickable": true,
           "color": "#bfc2c7",
           "id": "--atoms--2",
           "positions": [
            [
             5.37204886,
             2.731398245,
             3.8181798100000006
            ]
           ],
           "radius": 0.5,
           "tooltip": "Ti4+ (5.372, 2.731, 3.818)",
           "type": "spheres"
          },
          {
           "clickable": true,
           "color": "#ff0d0d",
           "id": "--atoms--3",
           "positions": [
            [
             3.8125768124088406,
             1.582101140839632,
             4.124846237798887
            ]
           ],
           "radius": 0.5,
           "tooltip": "O2- (3.813, 1.582, 4.125)",
           "type": "spheres"
          },
          {
           "clickable": true,
           "color": "#ff0d0d",
           "id": "--atoms--4",
           "positions": [
            [
             3.8125768124088406,
             1.582101140839632,
             -0.3066664277988859
            ]
           ],
           "radius": 0.5,
           "tooltip": "O2- (3.813, 1.582, -0.307)",
           "type": "spheres"
          },
          {
           "clickable": true,
           "color": "#bfc2c7",
           "id": "--atoms--5",
           "positions": [
            [
             2.6860244299999994,
             5.46279649,
             4.989713728251495e-16
            ]
           ],
           "radius": 0.5,
           "tooltip": "Ti4+ (2.686, 5.463, 0.000)",
           "type": "spheres"
          },
          {
           "clickable": true,
           "color": "#ff0d0d",
           "id": "--atoms--6",
           "positions": [
            [
             4.245496477591159,
             4.313499385839632,
             7.329693192201114
            ]
           ],
           "radius": 0.5,
           "tooltip": "O2- (4.245, 4.313, 7.330)",
           "type": "spheres"
          },
          {
           "clickable": true,
           "color": "#3dff00",
           "id": "--atoms--7",
           "positions": [
            [
             0.04870788352922227,
             5.2311873026754006,
             1.9090899050000003
            ]
           ],
           "radius": 0.5,
           "tooltip": "Ca2+ (0.049, 5.231, 1.909)",
           "type": "spheres"
          },
          {
           "clickable": true,
           "color": "#ff0d0d",
           "id": "--atoms--8",
           "positions": [
            [
             1.1265523824088406,
             1.149297104160368,
             0.3066664277988866
            ]
           ],
           "radius": 0.5,
           "tooltip": "O2- (1.127, 1.149, 0.307)",
           "type": "spheres"
          },
          {
           "clickable": true,
           "color": "#bfc2c7",
           "id": "--atoms--9",
           "positions": [
            [
             -1.672499058967974e-16,
             2.731398245,
             1.672499058967974e-16
            ]
           ],
           "radius": 0.5,
           "tooltip": "Ti4+ (-0.000, 2.731, 0.000)",
           "type": "spheres"
          },
          {
           "clickable": true,
           "color": "#bfc2c7",
           "id": "--atoms--10",
           "positions": [
            [
             2.6860244299999994,
             5.46279649,
             7.636359620000001
            ]
           ],
           "radius": 0.5,
           "tooltip": "Ti4+ (2.686, 5.463, 7.636)",
           "type": "spheres"
          },
          {
           "clickable": true,
           "color": "#ff0d0d",
           "id": "--atoms--11",
           "positions": [
            [
             1.1265523824088406,
             1.149297104160368,
             7.943026047798886
            ]
           ],
           "radius": 0.5,
           "tooltip": "O2- (1.127, 1.149, 7.943)",
           "type": "spheres"
          },
          {
           "clickable": true,
           "color": "#ff0d0d",
           "id": "--atoms--12",
           "positions": [
            [
             3.098496304445034,
             5.564799901923945,
             1.9090899050000005
            ]
           ],
           "radius": 0.5,
           "tooltip": "O2- (3.098, 5.565, 1.909)",
           "type": "spheres"
          },
          {
           "clickable": true,
           "color": "#bfc2c7",
           "id": "--atoms--13",
           "positions": [
            [
             -1.672499058967974e-16,
             2.731398245,
             7.63635962
            ]
           ],
           "radius": 0.5,
           "tooltip": "Ti4+ (-0.000, 2.731, 7.636)",
           "type": "spheres"
          },
          {
           "clickable": true,
           "color": "#ff0d0d",
           "id": "--atoms--14",
           "positions": [
            [
             3.8125768124088406,
             1.582101140839632,
             7.329693192201114
            ]
           ],
           "radius": 0.5,
           "tooltip": "O2- (3.813, 1.582, 7.330)",
           "type": "spheres"
          },
          {
           "clickable": true,
           "color": "#3dff00",
           "id": "--atoms--15",
           "positions": [
            [
             5.323340976470777,
             5.694405677324599,
             5.727269715000001
            ]
           ],
           "radius": 0.5,
           "tooltip": "Ca2+ (5.323, 5.694, 5.727)",
           "type": "spheres"
          },
          {
           "clickable": true,
           "color": "#3dff00",
           "id": "--atoms--16",
           "positions": [
            [
             5.420756743529222,
             5.2311873026754006,
             1.9090899050000008
            ]
           ],
           "radius": 0.5,
           "tooltip": "Ca2+ (5.421, 5.231, 1.909)",
           "type": "spheres"
          },
          {
           "clickable": true,
           "color": "#ff0d0d",
           "id": "--atoms--17",
           "positions": [
            [
             1.5594720475911588,
             3.8806953491603675,
             0.30666642779888675
            ]
           ],
           "radius": 0.5,
           "tooltip": "O2- (1.559, 3.881, 0.307)",
           "type": "spheres"
          },
          {
           "clickable": true,
           "color": "#bfc2c7",
           "id": "--atoms--18",
           "positions": [
            [
             2.68602443,
             0,
             1.6447156103155468e-16
            ]
           ],
           "radius": 0.5,
           "tooltip": "Ti4+ (2.686, 0.000, 0.000)",
           "type": "spheres"
          },
          {
           "clickable": true,
           "color": "#bfc2c7",
           "id": "--atoms--19",
           "positions": [
            [
             5.37204886,
             2.731398245,
             4.961930279599067e-16
            ]
           ],
           "radius": 0.5,
           "tooltip": "Ti4+ (5.372, 2.731, 0.000)",
           "type": "spheres"
          },
          {
           "clickable": true,
           "color": "#bfc2c7",
           "id": "--atoms--20",
           "positions": [
            [
             2.6860244299999994,
             5.46279649,
             3.8181798100000006
            ]
           ],
           "radius": 0.5,
           "tooltip": "Ti4+ (2.686, 5.463, 3.818)",
           "type": "spheres"
          },
          {
           "clickable": true,
           "color": "#bfc2c7",
           "id": "--atoms--21",
           "positions": [
            [
             2.68602443,
             0,
             7.63635962
            ]
           ],
           "radius": 0.5,
           "tooltip": "Ti4+ (2.686, 0.000, 7.636)",
           "type": "spheres"
          },
          {
           "clickable": true,
           "color": "#ff0d0d",
           "id": "--atoms--22",
           "positions": [
            [
             1.5594720475911588,
             3.8806953491603675,
             7.943026047798887
            ]
           ],
           "radius": 0.5,
           "tooltip": "O2- (1.559, 3.881, 7.943)",
           "type": "spheres"
          },
          {
           "clickable": true,
           "color": "#bfc2c7",
           "id": "--atoms--23",
           "positions": [
            [
             5.37204886,
             2.731398245,
             7.636359620000001
            ]
           ],
           "radius": 0.5,
           "tooltip": "Ti4+ (5.372, 2.731, 7.636)",
           "type": "spheres"
          },
          {
           "clickable": true,
           "color": "#ff0d0d",
           "id": "--atoms--24",
           "positions": [
            [
             4.959576985554965,
             2.833401656923946,
             1.9090899050000005
            ]
           ],
           "radius": 0.5,
           "tooltip": "O2- (4.960, 2.833, 1.909)",
           "type": "spheres"
          },
          {
           "clickable": true,
           "color": "#ff0d0d",
           "id": "--atoms--25",
           "positions": [
            [
             2.273552555554965,
             -0.10200341192394644,
             5.727269715
            ]
           ],
           "radius": 0.5,
           "tooltip": "O2- (2.274, -0.102, 5.727)",
           "type": "spheres"
          },
          {
           "clickable": true,
           "color": "#ff0d0d",
           "id": "--atoms--26",
           "positions": [
            [
             3.0984963044450344,
             0.10200341192394619,
             1.9090899050000003
            ]
           ],
           "radius": 0.5,
           "tooltip": "O2- (3.098, 0.102, 1.909)",
           "type": "spheres"
          },
          {
           "clickable": true,
           "color": "#3dff00",
           "id": "--atoms--27",
           "positions": [
            [
             2.7347323135292227,
             2.9630074323245994,
             5.727269715
            ]
           ],
           "radius": 0.5,
           "tooltip": "Ca2+ (2.735, 2.963, 5.727)",
           "type": "spheres"
          },
          {
           "clickable": true,
           "color": "#3dff00",
           "id": "--atoms--28",
           "positions": [
            [
             5.323340976470777,
             0.23160918732459948,
             5.727269715
            ]
           ],
           "radius": 0.5,
           "tooltip": "Ca2+ (5.323, 0.232, 5.727)",
           "type": "spheres"
          },
          {
           "clickable": true,
           "color": "#ff0d0d",
           "id": "--atoms--29",
           "positions": [
            [
             1.1265523824088406,
             1.149297104160368,
             3.511513382201114
            ]
           ],
           "radius": 0.5,
           "tooltip": "O2- (1.127, 1.149, 3.512)",
           "type": "spheres"
          },
          {
           "clickable": true,
           "color": "#ff0d0d",
           "id": "--atoms--30",
           "positions": [
            [
             4.245496477591159,
             4.313499385839632,
             4.124846237798887
            ]
           ],
           "radius": 0.5,
           "tooltip": "O2- (4.245, 4.313, 4.125)",
           "type": "spheres"
          },
          {
           "clickable": true,
           "color": "#3dff00",
           "id": "--atoms--31",
           "positions": [
            [
             -0.04870788352922282,
             0.23160918732459948,
             5.727269715
            ]
           ],
           "radius": 0.5,
           "tooltip": "Ca2+ (-0.049, 0.232, 5.727)",
           "type": "spheres"
          },
          {
           "clickable": true,
           "color": "#bfc2c7",
           "id": "--atoms--32",
           "positions": [
            [
             2.68602443,
             0,
             3.81817981
            ]
           ],
           "radius": 0.5,
           "tooltip": "Ti4+ (2.686, 0.000, 3.818)",
           "type": "spheres"
          },
          {
           "clickable": true,
           "color": "#3dff00",
           "id": "--atoms--33",
           "positions": [
            [
             0.048707883529222604,
             -0.2316091873245995,
             1.909089905
            ]
           ],
           "radius": 0.5,
           "tooltip": "Ca2+ (0.049, -0.232, 1.909)",
           "type": "spheres"
          },
          {
           "clickable": true,
           "color": "#bfc2c7",
           "id": "--atoms--34",
           "positions": [
            [
             -1.672499058967974e-16,
             2.731398245,
             3.81817981
            ]
           ],
           "radius": 0.5,
           "tooltip": "Ti4+ (-0.000, 2.731, 3.818)",
           "type": "spheres"
          },
          {
           "clickable": true,
           "color": "#ff0d0d",
           "id": "--atoms--35",
           "positions": [
            [
             4.245496477591159,
             4.313499385839632,
             -0.30666642779888575
            ]
           ],
           "radius": 0.5,
           "tooltip": "O2- (4.245, 4.313, -0.307)",
           "type": "spheres"
          },
          {
           "clickable": true,
           "color": "#ff0d0d",
           "id": "--atoms--36",
           "positions": [
            [
             1.5594720475911588,
             3.8806953491603675,
             3.511513382201114
            ]
           ],
           "radius": 0.5,
           "tooltip": "O2- (1.559, 3.881, 3.512)",
           "type": "spheres"
          },
          {
           "clickable": true,
           "color": "#ff0d0d",
           "id": "--atoms--37",
           "positions": [
            [
             0.4124718744450344,
             2.6293948330760535,
             5.727269715
            ]
           ],
           "radius": 0.5,
           "tooltip": "O2- (0.412, 2.629, 5.727)",
           "type": "spheres"
          }
         ],
         "id": "--atoms",
         "name": "atoms",
         "origin": [
          -2.68602443,
          -2.731398245,
          -3.8181798100000006
         ],
         "visible": true
        },
        {
         "contents": [],
         "id": "--bonds",
         "name": "bonds",
         "origin": [
          -2.68602443,
          -2.731398245,
          -3.8181798100000006
         ],
         "visible": true
        },
        {
         "contents": [],
         "id": "--polyhedra",
         "name": "polyhedra",
         "origin": [
          -2.68602443,
          -2.731398245,
          -3.8181798100000006
         ],
         "visible": true
        },
        {
         "contents": [],
         "id": "--magmoms",
         "name": "magmoms",
         "origin": [
          -2.68602443,
          -2.731398245,
          -3.8181798100000006
         ],
         "visible": true
        },
        {
         "contents": [
          {
           "contents": [
            {
             "clickable": false,
             "id": "--unit_cell--a=5.37204886, b=5.46279649, c=7.63635962, alpha=90.0, beta=90.0, gamma=90.0--0",
             "positions": [
              [
               0,
               0,
               0
              ],
              [
               5.37204886,
               0,
               3.2894312206310936e-16
              ],
              [
               0,
               0,
               0
              ],
              [
               -3.344998117935948e-16,
               5.46279649,
               3.344998117935948e-16
              ],
              [
               0,
               0,
               0
              ],
              [
               0,
               0,
               7.63635962
              ],
              [
               5.37204886,
               0,
               3.2894312206310936e-16
              ],
              [
               5.37204886,
               5.46279649,
               6.634429338567041e-16
              ],
              [
               5.37204886,
               0,
               3.2894312206310936e-16
              ],
              [
               5.37204886,
               0,
               7.63635962
              ],
              [
               -3.344998117935948e-16,
               5.46279649,
               3.344998117935948e-16
              ],
              [
               5.37204886,
               5.46279649,
               6.634429338567041e-16
              ],
              [
               -3.344998117935948e-16,
               5.46279649,
               3.344998117935948e-16
              ],
              [
               -3.344998117935948e-16,
               5.46279649,
               7.63635962
              ],
              [
               0,
               0,
               7.63635962
              ],
              [
               5.37204886,
               0,
               7.63635962
              ],
              [
               0,
               0,
               7.63635962
              ],
              [
               -3.344998117935948e-16,
               5.46279649,
               7.63635962
              ],
              [
               5.37204886,
               5.46279649,
               6.634429338567041e-16
              ],
              [
               5.37204886,
               5.46279649,
               7.636359620000001
              ],
              [
               5.37204886,
               0,
               7.63635962
              ],
              [
               5.37204886,
               5.46279649,
               7.636359620000001
              ],
              [
               -3.344998117935948e-16,
               5.46279649,
               7.63635962
              ],
              [
               5.37204886,
               5.46279649,
               7.636359620000001
              ]
             ],
             "type": "lines"
            }
           ],
           "id": "--unit_cell--a=5.37204886, b=5.46279649, c=7.63635962, alpha=90.0, beta=90.0, gamma=90.0",
           "name": "a=5.37204886, b=5.46279649, c=7.63635962, alpha=90.0, beta=90.0, gamma=90.0",
           "visible": true
          }
         ],
         "id": "--unit_cell",
         "name": "unit_cell",
         "origin": [
          -2.68602443,
          -2.731398245,
          -3.8181798100000006
         ],
         "visible": true
        }
       ],
       "lattice": [
        [
         5.37204886,
         0,
         3.2894312206310936e-16
        ],
        [
         -3.344998117935948e-16,
         5.46279649,
         3.344998117935948e-16
        ],
        [
         0,
         0,
         7.63635962
        ]
       ],
       "name": "Structure",
       "origin": [
        -2.68602443,
        -2.731398245,
        -3.8181798100000006
       ],
       "visible": true
      },
      "text/plain": [
       "If you see this text, the Crystal Toolkit Jupyter Lab \n",
       "\n",
       "extension is not installed. You can install it by running \n",
       "\n",
       "\"pip install crystaltoolkit-extension\" \n",
       "\n",
       "from the same environment you run \"jupyter lab\". \n",
       "\n",
       "This only works in Jupyter Lab 3.x or above.\n",
       "\n",
       "\n",
       "Structure Summary\n",
       "Lattice\n",
       "    abc : 5.37204886 5.46279649 7.63635962\n",
       " angles : 90.0 90.0 90.0\n",
       " volume : 224.09973769300066\n",
       "      A : 5.37204886 0.0 3.2894312206310936e-16\n",
       "      B : -3.344998117935948e-16 5.46279649 3.344998117935948e-16\n",
       "      C : 0.0 0.0 7.63635962\n",
       "    pbc : True True True\n",
       "PeriodicSite: Ca0 (Ca2+) (2.735, 2.963, 5.727) [0.5091, 0.5424, 0.75]\n",
       "PeriodicSite: Ca1 (Ca2+) (2.637, 2.5, 1.909) [0.4909, 0.4576, 0.25]\n",
       "PeriodicSite: Ca2 (Ca2+) (5.323, 0.2316, 5.727) [0.9909, 0.0424, 0.75]\n",
       "PeriodicSite: Ca3 (Ca2+) (0.04871, 5.231, 1.909) [0.009067, 0.9576, 0.25]\n",
       "PeriodicSite: Ti4 (Ti4+) (-1.672e-16, 2.731, 3.818) [0.0, 0.5, 0.5]\n",
       "PeriodicSite: Ti5 (Ti4+) (-1.672e-16, 2.731, 1.672e-16) [0.0, 0.5, 0.0]\n",
       "PeriodicSite: Ti6 (Ti4+) (2.686, 0.0, 3.818) [0.5, 0.0, 0.5]\n",
       "PeriodicSite: Ti7 (Ti4+) (2.686, 0.0, 1.645e-16) [0.5, 0.0, 0.0]\n",
       "PeriodicSite: O8 (O2-) (0.4125, 2.629, 5.727) [0.07678, 0.4813, 0.75]\n",
       "PeriodicSite: O9 (O2-) (4.96, 2.833, 1.909) [0.9232, 0.5187, 0.25]\n",
       "PeriodicSite: O10 (O2-) (2.274, 5.361, 5.727) [0.4232, 0.9813, 0.75]\n",
       "PeriodicSite: O11 (O2-) (3.098, 0.102, 1.909) [0.5768, 0.01867, 0.25]\n",
       "PeriodicSite: O12 (O2-) (4.245, 4.313, 7.33) [0.7903, 0.7896, 0.9598]\n",
       "PeriodicSite: O13 (O2-) (1.127, 1.149, 3.512) [0.2097, 0.2104, 0.4598]\n",
       "PeriodicSite: O14 (O2-) (1.127, 1.149, 0.3067) [0.2097, 0.2104, 0.04016]\n",
       "PeriodicSite: O15 (O2-) (4.245, 4.313, 4.125) [0.7903, 0.7896, 0.5402]\n",
       "PeriodicSite: O16 (O2-) (3.813, 1.582, 7.33) [0.7097, 0.2896, 0.9598]\n",
       "PeriodicSite: O17 (O2-) (1.559, 3.881, 3.512) [0.2903, 0.7104, 0.4598]\n",
       "PeriodicSite: O18 (O2-) (1.559, 3.881, 0.3067) [0.2903, 0.7104, 0.04016]\n",
       "PeriodicSite: O19 (O2-) (3.813, 1.582, 4.125) [0.7097, 0.2896, 0.5402]"
      ]
     },
     "metadata": {},
     "output_type": "display_data"
    }
   ],
   "source": [
    "CaTiO3"
   ]
  },
  {
   "cell_type": "markdown",
   "metadata": {},
   "source": [
    "The image is interactive so you can rotate it, zoom in and out"
   ]
  },
  {
   "cell_type": "markdown",
   "metadata": {},
   "source": [
    "Then we want to determine the oxidation states of each atom in the crystalline structure. For this we use the module we previously imported `AutoOxiStateDecorationTransformation`"
   ]
  },
  {
   "cell_type": "code",
   "execution_count": 5,
   "metadata": {
    "tags": []
   },
   "outputs": [
    {
     "name": "stdout",
     "output_type": "stream",
     "text": [
      "Full Formula (Ca4 Ti4 O12)\n",
      "Reduced Formula: CaTiO3\n",
      "abc   :   5.372049   5.462796   7.636360\n",
      "angles:  90.000000  90.000000  90.000000\n",
      "pbc   :       True       True       True\n",
      "Sites (20)\n",
      "  #  SP           a         b         c\n",
      "---  ----  --------  --------  --------\n",
      "  0  Ca2+  0.509067  0.542398  0.75\n",
      "  1  Ca2+  0.490933  0.457602  0.25\n",
      "  2  Ca2+  0.990933  0.042398  0.75\n",
      "  3  Ca2+  0.009067  0.957602  0.25\n",
      "  4  Ti4+  0         0.5       0.5\n",
      "  5  Ti4+  0         0.5       0\n",
      "  6  Ti4+  0.5       0         0.5\n",
      "  7  Ti4+  0.5       0         0\n",
      "  8  O2-   0.076781  0.481328  0.75\n",
      "  9  O2-   0.923219  0.518672  0.25\n",
      " 10  O2-   0.423219  0.981328  0.75\n",
      " 11  O2-   0.576781  0.018672  0.25\n",
      " 12  O2-   0.790294  0.789614  0.959841\n",
      " 13  O2-   0.209706  0.210386  0.459841\n",
      " 14  O2-   0.209706  0.210386  0.040159\n",
      " 15  O2-   0.790294  0.789614  0.540159\n",
      " 16  O2-   0.709706  0.289614  0.959841\n",
      " 17  O2-   0.290294  0.710386  0.459841\n",
      " 18  O2-   0.290294  0.710386  0.040159\n",
      " 19  O2-   0.709706  0.289614  0.540159\n"
     ]
    }
   ],
   "source": [
    "#Oxidation states of each atom\n",
    "chg= AutoOxiStateDecorationTransformation()\n",
    "print(chg.apply_transformation(CaTiO3))"
   ]
  },
  {
   "cell_type": "markdown",
   "metadata": {},
   "source": [
    "**e) Visualize (print) the space group, volume, and symmetry. Show the lines of code used.**"
   ]
  },
  {
   "cell_type": "code",
   "execution_count": 6,
   "metadata": {
    "tags": []
   },
   "outputs": [
    {
     "data": {
      "text/plain": [
       "('Pnma', 62)"
      ]
     },
     "execution_count": 6,
     "metadata": {},
     "output_type": "execute_result"
    }
   ],
   "source": [
    "#space group and symmetry\n",
    "CaTiO3.get_space_group_info()"
   ]
  },
  {
   "cell_type": "code",
   "execution_count": 7,
   "metadata": {
    "tags": []
   },
   "outputs": [
    {
     "name": "stdout",
     "output_type": "stream",
     "text": [
      "224.09973769300066\n"
     ]
    }
   ],
   "source": [
    "#volume\n",
    "print(CaTiO3.volume)"
   ]
  },
  {
   "cell_type": "code",
   "execution_count": 8,
   "metadata": {
    "tags": []
   },
   "outputs": [
    {
     "data": {
      "text/plain": [
       "4.02925941391082"
      ]
     },
     "execution_count": 8,
     "metadata": {},
     "output_type": "execute_result"
    }
   ],
   "source": [
    "#density\n",
    "CaTiO3.density"
   ]
  },
  {
   "cell_type": "markdown",
   "metadata": {},
   "source": [
    "**f) Select an atom of your choice and move it 0.1 Å in the direction of your preference. Indicate the type of spatial symmetry this system would have, as well as the new density and volume.**"
   ]
  },
  {
   "cell_type": "markdown",
   "metadata": {},
   "source": [
    "We are going to create new variable with the initial same structure and then modify it."
   ]
  },
  {
   "cell_type": "code",
   "execution_count": 15,
   "metadata": {
    "tags": []
   },
   "outputs": [],
   "source": [
    "# use the following line if you are working with the API\n",
    "# CaTiO3_change_location = mpr.get_structure_by_material_id('mp-4019')\n",
    "\n",
    "\n",
    "# comment the following line if you are working with the API\n",
    "CaTiO3_change_location = Structure.from_file(\"CaTiO3.cif\")\n"
   ]
  },
  {
   "cell_type": "markdown",
   "metadata": {},
   "source": [
    "In order the move an atom we use the method `translate_sites`, its arguments are the atom that is going to be moved, its direction and the distance.\n",
    "\n",
    "We indicate the atom with the index obtained by printing the crystallographic information of the structure as we previously did:"
   ]
  },
  {
   "cell_type": "code",
   "execution_count": 16,
   "metadata": {
    "tags": []
   },
   "outputs": [
    {
     "name": "stdout",
     "output_type": "stream",
     "text": [
      "Full Formula (Ca4 Ti4 O12)\n",
      "Reduced Formula: CaTiO3\n",
      "abc   :   5.372049   5.462796   7.636360\n",
      "angles:  90.000000  90.000000  90.000000\n",
      "pbc   :       True       True       True\n",
      "Sites (20)\n",
      "  #  SP           a         b         c\n",
      "---  ----  --------  --------  --------\n",
      "  0  Ca2+  0.509067  0.542398  0.75\n",
      "  1  Ca2+  0.490933  0.457602  0.25\n",
      "  2  Ca2+  0.990933  0.042398  0.75\n",
      "  3  Ca2+  0.009067  0.957602  0.25\n",
      "  4  Ti4+  0         0.5       0.5\n",
      "  5  Ti4+  0         0.5       0\n",
      "  6  Ti4+  0.5       0         0.5\n",
      "  7  Ti4+  0.5       0         0\n",
      "  8  O2-   0.076781  0.481328  0.75\n",
      "  9  O2-   0.923219  0.518672  0.25\n",
      " 10  O2-   0.423219  0.981328  0.75\n",
      " 11  O2-   0.576781  0.018672  0.25\n",
      " 12  O2-   0.790294  0.789614  0.959841\n",
      " 13  O2-   0.209706  0.210386  0.459841\n",
      " 14  O2-   0.209706  0.210386  0.040159\n",
      " 15  O2-   0.790294  0.789614  0.540159\n",
      " 16  O2-   0.709706  0.289614  0.959841\n",
      " 17  O2-   0.290294  0.710386  0.459841\n",
      " 18  O2-   0.290294  0.710386  0.040159\n",
      " 19  O2-   0.709706  0.289614  0.540159\n"
     ]
    }
   ],
   "source": [
    "print(CaTiO3_change_location)"
   ]
  },
  {
   "cell_type": "markdown",
   "metadata": {},
   "source": [
    "From which we are going to move atom `3`, that corresponds to Calcium. Then for the distance and direction, it will be determined as a list of three elements and each element will be the distance along direction x, y and z.\n",
    "\n",
    "In this case, as we are going to move the Calcium atom 0.1 Å along the z axis, the argument should as this:"
   ]
  },
  {
   "cell_type": "code",
   "execution_count": 18,
   "metadata": {
    "tags": []
   },
   "outputs": [
    {
     "data": {
      "application/vnd.mp.ctk+json": {
       "contents": [
        {
         "contents": [
          {
           "clickable": true,
           "color": "#ff0d0d",
           "id": "--atoms--0",
           "positions": [
            [
             2.2735525555549647,
             5.360793078076053,
             5.727269715000001
            ]
           ],
           "radius": 0.5,
           "tooltip": "O2- (2.274, 5.361, 5.727)",
           "type": "spheres"
          },
          {
           "clickable": true,
           "color": "#3dff00",
           "id": "--atoms--1",
           "positions": [
            [
             2.6373165464707773,
             2.4997890576754003,
             1.9090899050000003
            ]
           ],
           "radius": 0.5,
           "tooltip": "Ca2+ (2.637, 2.500, 1.909)",
           "type": "spheres"
          },
          {
           "clickable": true,
           "color": "#bfc2c7",
           "id": "--atoms--2",
           "positions": [
            [
             5.37204886,
             2.731398245,
             3.8181798100000006
            ]
           ],
           "radius": 0.5,
           "tooltip": "Ti4+ (5.372, 2.731, 3.818)",
           "type": "spheres"
          },
          {
           "clickable": true,
           "color": "#ff0d0d",
           "id": "--atoms--3",
           "positions": [
            [
             3.8125768124088406,
             1.582101140839632,
             4.124846237798887
            ]
           ],
           "radius": 0.5,
           "tooltip": "O2- (3.813, 1.582, 4.125)",
           "type": "spheres"
          },
          {
           "clickable": true,
           "color": "#ff0d0d",
           "id": "--atoms--4",
           "positions": [
            [
             3.8125768124088406,
             1.582101140839632,
             -0.3066664277988859
            ]
           ],
           "radius": 0.5,
           "tooltip": "O2- (3.813, 1.582, -0.307)",
           "type": "spheres"
          },
          {
           "clickable": true,
           "color": "#bfc2c7",
           "id": "--atoms--5",
           "positions": [
            [
             2.6860244299999994,
             5.46279649,
             4.989713728251495e-16
            ]
           ],
           "radius": 0.5,
           "tooltip": "Ti4+ (2.686, 5.463, 0.000)",
           "type": "spheres"
          },
          {
           "clickable": true,
           "color": "#ff0d0d",
           "id": "--atoms--6",
           "positions": [
            [
             4.245496477591159,
             4.313499385839632,
             7.329693192201114
            ]
           ],
           "radius": 0.5,
           "tooltip": "O2- (4.245, 4.313, 7.330)",
           "type": "spheres"
          },
          {
           "clickable": true,
           "color": "#3dff00",
           "id": "--atoms--7",
           "positions": [
            [
             0.04870788352922227,
             5.2311873026754006,
             2.6727258670000005
            ]
           ],
           "radius": 0.5,
           "tooltip": "Ca2+ (0.049, 5.231, 2.673)",
           "type": "spheres"
          },
          {
           "clickable": true,
           "color": "#ff0d0d",
           "id": "--atoms--8",
           "positions": [
            [
             1.1265523824088406,
             1.149297104160368,
             0.3066664277988866
            ]
           ],
           "radius": 0.5,
           "tooltip": "O2- (1.127, 1.149, 0.307)",
           "type": "spheres"
          },
          {
           "clickable": true,
           "color": "#bfc2c7",
           "id": "--atoms--9",
           "positions": [
            [
             -1.672499058967974e-16,
             2.731398245,
             1.672499058967974e-16
            ]
           ],
           "radius": 0.5,
           "tooltip": "Ti4+ (-0.000, 2.731, 0.000)",
           "type": "spheres"
          },
          {
           "clickable": true,
           "color": "#bfc2c7",
           "id": "--atoms--10",
           "positions": [
            [
             2.6860244299999994,
             5.46279649,
             7.636359620000001
            ]
           ],
           "radius": 0.5,
           "tooltip": "Ti4+ (2.686, 5.463, 7.636)",
           "type": "spheres"
          },
          {
           "clickable": true,
           "color": "#ff0d0d",
           "id": "--atoms--11",
           "positions": [
            [
             1.1265523824088406,
             1.149297104160368,
             7.943026047798886
            ]
           ],
           "radius": 0.5,
           "tooltip": "O2- (1.127, 1.149, 7.943)",
           "type": "spheres"
          },
          {
           "clickable": true,
           "color": "#ff0d0d",
           "id": "--atoms--12",
           "positions": [
            [
             3.098496304445034,
             5.564799901923945,
             1.9090899050000005
            ]
           ],
           "radius": 0.5,
           "tooltip": "O2- (3.098, 5.565, 1.909)",
           "type": "spheres"
          },
          {
           "clickable": true,
           "color": "#bfc2c7",
           "id": "--atoms--13",
           "positions": [
            [
             -1.672499058967974e-16,
             2.731398245,
             7.63635962
            ]
           ],
           "radius": 0.5,
           "tooltip": "Ti4+ (-0.000, 2.731, 7.636)",
           "type": "spheres"
          },
          {
           "clickable": true,
           "color": "#ff0d0d",
           "id": "--atoms--14",
           "positions": [
            [
             3.8125768124088406,
             1.582101140839632,
             7.329693192201114
            ]
           ],
           "radius": 0.5,
           "tooltip": "O2- (3.813, 1.582, 7.330)",
           "type": "spheres"
          },
          {
           "clickable": true,
           "color": "#3dff00",
           "id": "--atoms--15",
           "positions": [
            [
             5.323340976470777,
             5.694405677324599,
             5.727269715000001
            ]
           ],
           "radius": 0.5,
           "tooltip": "Ca2+ (5.323, 5.694, 5.727)",
           "type": "spheres"
          },
          {
           "clickable": true,
           "color": "#3dff00",
           "id": "--atoms--16",
           "positions": [
            [
             5.420756743529222,
             5.2311873026754006,
             2.6727258670000005
            ]
           ],
           "radius": 0.5,
           "tooltip": "Ca2+ (5.421, 5.231, 2.673)",
           "type": "spheres"
          },
          {
           "clickable": true,
           "color": "#ff0d0d",
           "id": "--atoms--17",
           "positions": [
            [
             1.5594720475911588,
             3.8806953491603675,
             0.30666642779888675
            ]
           ],
           "radius": 0.5,
           "tooltip": "O2- (1.559, 3.881, 0.307)",
           "type": "spheres"
          },
          {
           "clickable": true,
           "color": "#bfc2c7",
           "id": "--atoms--18",
           "positions": [
            [
             2.68602443,
             0,
             1.6447156103155468e-16
            ]
           ],
           "radius": 0.5,
           "tooltip": "Ti4+ (2.686, 0.000, 0.000)",
           "type": "spheres"
          },
          {
           "clickable": true,
           "color": "#bfc2c7",
           "id": "--atoms--19",
           "positions": [
            [
             5.37204886,
             2.731398245,
             4.961930279599067e-16
            ]
           ],
           "radius": 0.5,
           "tooltip": "Ti4+ (5.372, 2.731, 0.000)",
           "type": "spheres"
          },
          {
           "clickable": true,
           "color": "#bfc2c7",
           "id": "--atoms--20",
           "positions": [
            [
             2.6860244299999994,
             5.46279649,
             3.8181798100000006
            ]
           ],
           "radius": 0.5,
           "tooltip": "Ti4+ (2.686, 5.463, 3.818)",
           "type": "spheres"
          },
          {
           "clickable": true,
           "color": "#bfc2c7",
           "id": "--atoms--21",
           "positions": [
            [
             2.68602443,
             0,
             7.63635962
            ]
           ],
           "radius": 0.5,
           "tooltip": "Ti4+ (2.686, 0.000, 7.636)",
           "type": "spheres"
          },
          {
           "clickable": true,
           "color": "#ff0d0d",
           "id": "--atoms--22",
           "positions": [
            [
             1.5594720475911588,
             3.8806953491603675,
             7.943026047798887
            ]
           ],
           "radius": 0.5,
           "tooltip": "O2- (1.559, 3.881, 7.943)",
           "type": "spheres"
          },
          {
           "clickable": true,
           "color": "#bfc2c7",
           "id": "--atoms--23",
           "positions": [
            [
             5.37204886,
             2.731398245,
             7.636359620000001
            ]
           ],
           "radius": 0.5,
           "tooltip": "Ti4+ (5.372, 2.731, 7.636)",
           "type": "spheres"
          },
          {
           "clickable": true,
           "color": "#ff0d0d",
           "id": "--atoms--24",
           "positions": [
            [
             4.959576985554965,
             2.833401656923946,
             1.9090899050000005
            ]
           ],
           "radius": 0.5,
           "tooltip": "O2- (4.960, 2.833, 1.909)",
           "type": "spheres"
          },
          {
           "clickable": true,
           "color": "#ff0d0d",
           "id": "--atoms--25",
           "positions": [
            [
             2.273552555554965,
             -0.10200341192394644,
             5.727269715
            ]
           ],
           "radius": 0.5,
           "tooltip": "O2- (2.274, -0.102, 5.727)",
           "type": "spheres"
          },
          {
           "clickable": true,
           "color": "#ff0d0d",
           "id": "--atoms--26",
           "positions": [
            [
             3.0984963044450344,
             0.10200341192394619,
             1.9090899050000003
            ]
           ],
           "radius": 0.5,
           "tooltip": "O2- (3.098, 0.102, 1.909)",
           "type": "spheres"
          },
          {
           "clickable": true,
           "color": "#3dff00",
           "id": "--atoms--27",
           "positions": [
            [
             2.7347323135292227,
             2.9630074323245994,
             5.727269715
            ]
           ],
           "radius": 0.5,
           "tooltip": "Ca2+ (2.735, 2.963, 5.727)",
           "type": "spheres"
          },
          {
           "clickable": true,
           "color": "#3dff00",
           "id": "--atoms--28",
           "positions": [
            [
             5.323340976470777,
             0.23160918732459948,
             5.727269715
            ]
           ],
           "radius": 0.5,
           "tooltip": "Ca2+ (5.323, 0.232, 5.727)",
           "type": "spheres"
          },
          {
           "clickable": true,
           "color": "#ff0d0d",
           "id": "--atoms--29",
           "positions": [
            [
             1.1265523824088406,
             1.149297104160368,
             3.511513382201114
            ]
           ],
           "radius": 0.5,
           "tooltip": "O2- (1.127, 1.149, 3.512)",
           "type": "spheres"
          },
          {
           "clickable": true,
           "color": "#ff0d0d",
           "id": "--atoms--30",
           "positions": [
            [
             4.245496477591159,
             4.313499385839632,
             4.124846237798887
            ]
           ],
           "radius": 0.5,
           "tooltip": "O2- (4.245, 4.313, 4.125)",
           "type": "spheres"
          },
          {
           "clickable": true,
           "color": "#3dff00",
           "id": "--atoms--31",
           "positions": [
            [
             -0.04870788352922282,
             0.23160918732459948,
             5.727269715
            ]
           ],
           "radius": 0.5,
           "tooltip": "Ca2+ (-0.049, 0.232, 5.727)",
           "type": "spheres"
          },
          {
           "clickable": true,
           "color": "#bfc2c7",
           "id": "--atoms--32",
           "positions": [
            [
             2.68602443,
             0,
             3.81817981
            ]
           ],
           "radius": 0.5,
           "tooltip": "Ti4+ (2.686, 0.000, 3.818)",
           "type": "spheres"
          },
          {
           "clickable": true,
           "color": "#3dff00",
           "id": "--atoms--33",
           "positions": [
            [
             0.048707883529222604,
             -0.2316091873245995,
             2.672725867
            ]
           ],
           "radius": 0.5,
           "tooltip": "Ca2+ (0.049, -0.232, 2.673)",
           "type": "spheres"
          },
          {
           "clickable": true,
           "color": "#bfc2c7",
           "id": "--atoms--34",
           "positions": [
            [
             -1.672499058967974e-16,
             2.731398245,
             3.81817981
            ]
           ],
           "radius": 0.5,
           "tooltip": "Ti4+ (-0.000, 2.731, 3.818)",
           "type": "spheres"
          },
          {
           "clickable": true,
           "color": "#ff0d0d",
           "id": "--atoms--35",
           "positions": [
            [
             4.245496477591159,
             4.313499385839632,
             -0.30666642779888575
            ]
           ],
           "radius": 0.5,
           "tooltip": "O2- (4.245, 4.313, -0.307)",
           "type": "spheres"
          },
          {
           "clickable": true,
           "color": "#ff0d0d",
           "id": "--atoms--36",
           "positions": [
            [
             1.5594720475911588,
             3.8806953491603675,
             3.511513382201114
            ]
           ],
           "radius": 0.5,
           "tooltip": "O2- (1.559, 3.881, 3.512)",
           "type": "spheres"
          },
          {
           "clickable": true,
           "color": "#ff0d0d",
           "id": "--atoms--37",
           "positions": [
            [
             0.4124718744450344,
             2.6293948330760535,
             5.727269715
            ]
           ],
           "radius": 0.5,
           "tooltip": "O2- (0.412, 2.629, 5.727)",
           "type": "spheres"
          }
         ],
         "id": "--atoms",
         "name": "atoms",
         "origin": [
          -2.68602443,
          -2.731398245,
          -3.8181798100000006
         ],
         "visible": true
        },
        {
         "contents": [],
         "id": "--bonds",
         "name": "bonds",
         "origin": [
          -2.68602443,
          -2.731398245,
          -3.8181798100000006
         ],
         "visible": true
        },
        {
         "contents": [],
         "id": "--polyhedra",
         "name": "polyhedra",
         "origin": [
          -2.68602443,
          -2.731398245,
          -3.8181798100000006
         ],
         "visible": true
        },
        {
         "contents": [],
         "id": "--magmoms",
         "name": "magmoms",
         "origin": [
          -2.68602443,
          -2.731398245,
          -3.8181798100000006
         ],
         "visible": true
        },
        {
         "contents": [
          {
           "contents": [
            {
             "clickable": false,
             "id": "--unit_cell--a=5.37204886, b=5.46279649, c=7.63635962, alpha=90.0, beta=90.0, gamma=90.0--0",
             "positions": [
              [
               0,
               0,
               0
              ],
              [
               5.37204886,
               0,
               3.2894312206310936e-16
              ],
              [
               0,
               0,
               0
              ],
              [
               -3.344998117935948e-16,
               5.46279649,
               3.344998117935948e-16
              ],
              [
               0,
               0,
               0
              ],
              [
               0,
               0,
               7.63635962
              ],
              [
               5.37204886,
               0,
               3.2894312206310936e-16
              ],
              [
               5.37204886,
               5.46279649,
               6.634429338567041e-16
              ],
              [
               5.37204886,
               0,
               3.2894312206310936e-16
              ],
              [
               5.37204886,
               0,
               7.63635962
              ],
              [
               -3.344998117935948e-16,
               5.46279649,
               3.344998117935948e-16
              ],
              [
               5.37204886,
               5.46279649,
               6.634429338567041e-16
              ],
              [
               -3.344998117935948e-16,
               5.46279649,
               3.344998117935948e-16
              ],
              [
               -3.344998117935948e-16,
               5.46279649,
               7.63635962
              ],
              [
               0,
               0,
               7.63635962
              ],
              [
               5.37204886,
               0,
               7.63635962
              ],
              [
               0,
               0,
               7.63635962
              ],
              [
               -3.344998117935948e-16,
               5.46279649,
               7.63635962
              ],
              [
               5.37204886,
               5.46279649,
               6.634429338567041e-16
              ],
              [
               5.37204886,
               5.46279649,
               7.636359620000001
              ],
              [
               5.37204886,
               0,
               7.63635962
              ],
              [
               5.37204886,
               5.46279649,
               7.636359620000001
              ],
              [
               -3.344998117935948e-16,
               5.46279649,
               7.63635962
              ],
              [
               5.37204886,
               5.46279649,
               7.636359620000001
              ]
             ],
             "type": "lines"
            }
           ],
           "id": "--unit_cell--a=5.37204886, b=5.46279649, c=7.63635962, alpha=90.0, beta=90.0, gamma=90.0",
           "name": "a=5.37204886, b=5.46279649, c=7.63635962, alpha=90.0, beta=90.0, gamma=90.0",
           "visible": true
          }
         ],
         "id": "--unit_cell",
         "name": "unit_cell",
         "origin": [
          -2.68602443,
          -2.731398245,
          -3.8181798100000006
         ],
         "visible": true
        }
       ],
       "lattice": [
        [
         5.37204886,
         0,
         3.2894312206310936e-16
        ],
        [
         -3.344998117935948e-16,
         5.46279649,
         3.344998117935948e-16
        ],
        [
         0,
         0,
         7.63635962
        ]
       ],
       "name": "Structure",
       "origin": [
        -2.68602443,
        -2.731398245,
        -3.8181798100000006
       ],
       "visible": true
      },
      "text/plain": [
       "If you see this text, the Crystal Toolkit Jupyter Lab \n",
       "\n",
       "extension is not installed. You can install it by running \n",
       "\n",
       "\"pip install crystaltoolkit-extension\" \n",
       "\n",
       "from the same environment you run \"jupyter lab\". \n",
       "\n",
       "This only works in Jupyter Lab 3.x or above.\n",
       "\n",
       "\n",
       "Structure Summary\n",
       "Lattice\n",
       "    abc : 5.37204886 5.46279649 7.63635962\n",
       " angles : 90.0 90.0 90.0\n",
       " volume : 224.09973769300066\n",
       "      A : 5.37204886 0.0 3.2894312206310936e-16\n",
       "      B : -3.344998117935948e-16 5.46279649 3.344998117935948e-16\n",
       "      C : 0.0 0.0 7.63635962\n",
       "    pbc : True True True\n",
       "PeriodicSite: Ca0 (Ca2+) (2.735, 2.963, 5.727) [0.5091, 0.5424, 0.75]\n",
       "PeriodicSite: Ca1 (Ca2+) (2.637, 2.5, 1.909) [0.4909, 0.4576, 0.25]\n",
       "PeriodicSite: Ca2 (Ca2+) (5.323, 0.2316, 5.727) [0.9909, 0.0424, 0.75]\n",
       "PeriodicSite: Ca3 (Ca2+) (0.04871, 5.231, 2.673) [0.009067, 0.9576, 0.35]\n",
       "PeriodicSite: Ti4 (Ti4+) (-1.672e-16, 2.731, 3.818) [0.0, 0.5, 0.5]\n",
       "PeriodicSite: Ti5 (Ti4+) (-1.672e-16, 2.731, 1.672e-16) [0.0, 0.5, 0.0]\n",
       "PeriodicSite: Ti6 (Ti4+) (2.686, 0.0, 3.818) [0.5, 0.0, 0.5]\n",
       "PeriodicSite: Ti7 (Ti4+) (2.686, 0.0, 1.645e-16) [0.5, 0.0, 0.0]\n",
       "PeriodicSite: O8 (O2-) (0.4125, 2.629, 5.727) [0.07678, 0.4813, 0.75]\n",
       "PeriodicSite: O9 (O2-) (4.96, 2.833, 1.909) [0.9232, 0.5187, 0.25]\n",
       "PeriodicSite: O10 (O2-) (2.274, 5.361, 5.727) [0.4232, 0.9813, 0.75]\n",
       "PeriodicSite: O11 (O2-) (3.098, 0.102, 1.909) [0.5768, 0.01867, 0.25]\n",
       "PeriodicSite: O12 (O2-) (4.245, 4.313, 7.33) [0.7903, 0.7896, 0.9598]\n",
       "PeriodicSite: O13 (O2-) (1.127, 1.149, 3.512) [0.2097, 0.2104, 0.4598]\n",
       "PeriodicSite: O14 (O2-) (1.127, 1.149, 0.3067) [0.2097, 0.2104, 0.04016]\n",
       "PeriodicSite: O15 (O2-) (4.245, 4.313, 4.125) [0.7903, 0.7896, 0.5402]\n",
       "PeriodicSite: O16 (O2-) (3.813, 1.582, 7.33) [0.7097, 0.2896, 0.9598]\n",
       "PeriodicSite: O17 (O2-) (1.559, 3.881, 3.512) [0.2903, 0.7104, 0.4598]\n",
       "PeriodicSite: O18 (O2-) (1.559, 3.881, 0.3067) [0.2903, 0.7104, 0.04016]\n",
       "PeriodicSite: O19 (O2-) (3.813, 1.582, 4.125) [0.7097, 0.2896, 0.5402]"
      ]
     },
     "metadata": {},
     "output_type": "display_data"
    }
   ],
   "source": [
    "CaTiO3_change_location.translate_sites([3],[0,0,0.1])"
   ]
  },
  {
   "cell_type": "code",
   "execution_count": 19,
   "metadata": {
    "tags": []
   },
   "outputs": [
    {
     "data": {
      "text/plain": [
       "('P1', 1)"
      ]
     },
     "execution_count": 19,
     "metadata": {},
     "output_type": "execute_result"
    }
   ],
   "source": [
    "CaTiO3_change_location.get_space_group_info()"
   ]
  },
  {
   "cell_type": "markdown",
   "metadata": {},
   "source": [
    "It is possible to see that the spatial symmetry is quite different from the original, as it changed from an orthorhombic Bravais lattice to a triclinic one."
   ]
  },
  {
   "cell_type": "code",
   "execution_count": 20,
   "metadata": {
    "tags": []
   },
   "outputs": [
    {
     "data": {
      "text/plain": [
       "224.09973769300066"
      ]
     },
     "execution_count": 20,
     "metadata": {},
     "output_type": "execute_result"
    }
   ],
   "source": [
    "CaTiO3_change_location.volume"
   ]
  },
  {
   "cell_type": "code",
   "execution_count": 21,
   "metadata": {
    "tags": []
   },
   "outputs": [
    {
     "data": {
      "text/plain": [
       "4.02925941391082"
      ]
     },
     "execution_count": 21,
     "metadata": {},
     "output_type": "execute_result"
    }
   ],
   "source": [
    "CaTiO3_change_location.density"
   ]
  },
  {
   "cell_type": "markdown",
   "metadata": {},
   "source": [
    "On the other hand, the volume and density remain constant."
   ]
  },
  {
   "cell_type": "markdown",
   "metadata": {},
   "source": [
    "**g) Select a different atom and replace it with another type of atom of your choice. Indicate the resulting type of symmetry, along with the new density and volume.**"
   ]
  },
  {
   "cell_type": "markdown",
   "metadata": {},
   "source": [
    "To replace one atom with another, the same selection process is carried out to choose an atom with the same oxidation state and a similar atomic size. In this case, one of the titanium atoms is replaced with cobalt, as shown in the following image, since they have a very similar atomic size, and cobalt has a 4+ oxidation state among its possible states:\n",
    "\n",
    "<img src=\"images/substitution.png\" width=\"400\" style=\"margin:auto\"/>\n",
    "\n"
   ]
  },
  {
   "cell_type": "markdown",
   "metadata": {},
   "source": [
    "Again, we create another variable with the same original structure to modify it"
   ]
  },
  {
   "cell_type": "code",
   "execution_count": 22,
   "metadata": {
    "tags": []
   },
   "outputs": [],
   "source": [
    "# use the following line if you are working with the API\n",
    "# CaTiO3_change_location = mpr.get_structure_by_material_id('mp-4019')\n",
    "\n",
    "\n",
    "# comment the following line if you are working with the API\n",
    "CaTiO3_substitution = Structure.from_file(\"CaTiO3.cif\")"
   ]
  },
  {
   "cell_type": "markdown",
   "metadata": {},
   "source": [
    "As we are going to replace one titanium atom, we are going to check the indices of these types of atoms"
   ]
  },
  {
   "cell_type": "code",
   "execution_count": 24,
   "metadata": {
    "tags": []
   },
   "outputs": [
    {
     "name": "stdout",
     "output_type": "stream",
     "text": [
      "Full Formula (Ca4 Ti4 O12)\n",
      "Reduced Formula: CaTiO3\n",
      "abc   :   5.372049   5.462796   7.636360\n",
      "angles:  90.000000  90.000000  90.000000\n",
      "pbc   :       True       True       True\n",
      "Sites (20)\n",
      "  #  SP           a         b         c\n",
      "---  ----  --------  --------  --------\n",
      "  0  Ca2+  0.509067  0.542398  0.75\n",
      "  1  Ca2+  0.490933  0.457602  0.25\n",
      "  2  Ca2+  0.990933  0.042398  0.75\n",
      "  3  Ca2+  0.009067  0.957602  0.25\n",
      "  4  Ti4+  0         0.5       0.5\n",
      "  5  Ti4+  0         0.5       0\n",
      "  6  Ti4+  0.5       0         0.5\n",
      "  7  Ti4+  0.5       0         0\n",
      "  8  O2-   0.076781  0.481328  0.75\n",
      "  9  O2-   0.923219  0.518672  0.25\n",
      " 10  O2-   0.423219  0.981328  0.75\n",
      " 11  O2-   0.576781  0.018672  0.25\n",
      " 12  O2-   0.790294  0.789614  0.959841\n",
      " 13  O2-   0.209706  0.210386  0.459841\n",
      " 14  O2-   0.209706  0.210386  0.040159\n",
      " 15  O2-   0.790294  0.789614  0.540159\n",
      " 16  O2-   0.709706  0.289614  0.959841\n",
      " 17  O2-   0.290294  0.710386  0.459841\n",
      " 18  O2-   0.290294  0.710386  0.040159\n",
      " 19  O2-   0.709706  0.289614  0.540159\n"
     ]
    }
   ],
   "source": [
    "print(CaTiO3_substitution)"
   ]
  },
  {
   "cell_type": "markdown",
   "metadata": {},
   "source": [
    "We see that their indices are from 4 to 7, so we are going to choose 6 as an example. We are going to use the method `replace` and it receives as parameters the index of the atom we want to replace and the species of the atom that will take that replacement, as follows:"
   ]
  },
  {
   "cell_type": "code",
   "execution_count": 25,
   "metadata": {
    "tags": []
   },
   "outputs": [
    {
     "data": {
      "application/vnd.mp.ctk+json": {
       "contents": [
        {
         "contents": [
          {
           "clickable": true,
           "color": "#ff0d0d",
           "id": "--atoms--0",
           "positions": [
            [
             2.2735525555549647,
             5.360793078076053,
             5.727269715000001
            ]
           ],
           "radius": 0.5,
           "tooltip": "O2- (2.274, 5.361, 5.727)",
           "type": "spheres"
          },
          {
           "clickable": true,
           "color": "#3dff00",
           "id": "--atoms--1",
           "positions": [
            [
             2.6373165464707773,
             2.4997890576754003,
             1.9090899050000003
            ]
           ],
           "radius": 0.5,
           "tooltip": "Ca2+ (2.637, 2.500, 1.909)",
           "type": "spheres"
          },
          {
           "clickable": true,
           "color": "#bfc2c7",
           "id": "--atoms--2",
           "positions": [
            [
             5.37204886,
             2.731398245,
             3.8181798100000006
            ]
           ],
           "radius": 0.5,
           "tooltip": "Ti4+ (5.372, 2.731, 3.818)",
           "type": "spheres"
          },
          {
           "clickable": true,
           "color": "#ff0d0d",
           "id": "--atoms--3",
           "positions": [
            [
             3.8125768124088406,
             1.582101140839632,
             4.124846237798887
            ]
           ],
           "radius": 0.5,
           "tooltip": "O2- (3.813, 1.582, 4.125)",
           "type": "spheres"
          },
          {
           "clickable": true,
           "color": "#ff0d0d",
           "id": "--atoms--4",
           "positions": [
            [
             3.8125768124088406,
             1.582101140839632,
             -0.3066664277988859
            ]
           ],
           "radius": 0.5,
           "tooltip": "O2- (3.813, 1.582, -0.307)",
           "type": "spheres"
          },
          {
           "clickable": true,
           "color": "#bfc2c7",
           "id": "--atoms--5",
           "positions": [
            [
             2.6860244299999994,
             5.46279649,
             4.989713728251495e-16
            ]
           ],
           "radius": 0.5,
           "tooltip": "Ti4+ (2.686, 5.463, 0.000)",
           "type": "spheres"
          },
          {
           "clickable": true,
           "color": "#ff0d0d",
           "id": "--atoms--6",
           "positions": [
            [
             4.245496477591159,
             4.313499385839632,
             7.329693192201114
            ]
           ],
           "radius": 0.5,
           "tooltip": "O2- (4.245, 4.313, 7.330)",
           "type": "spheres"
          },
          {
           "clickable": true,
           "color": "#3dff00",
           "id": "--atoms--7",
           "positions": [
            [
             0.04870788352922227,
             5.2311873026754006,
             1.9090899050000003
            ]
           ],
           "radius": 0.5,
           "tooltip": "Ca2+ (0.049, 5.231, 1.909)",
           "type": "spheres"
          },
          {
           "clickable": true,
           "color": "#ff0d0d",
           "id": "--atoms--8",
           "positions": [
            [
             1.1265523824088406,
             1.149297104160368,
             0.3066664277988866
            ]
           ],
           "radius": 0.5,
           "tooltip": "O2- (1.127, 1.149, 0.307)",
           "type": "spheres"
          },
          {
           "clickable": true,
           "color": "#bfc2c7",
           "id": "--atoms--9",
           "positions": [
            [
             -1.672499058967974e-16,
             2.731398245,
             1.672499058967974e-16
            ]
           ],
           "radius": 0.5,
           "tooltip": "Ti4+ (-0.000, 2.731, 0.000)",
           "type": "spheres"
          },
          {
           "clickable": true,
           "color": "#bfc2c7",
           "id": "--atoms--10",
           "positions": [
            [
             2.6860244299999994,
             5.46279649,
             7.636359620000001
            ]
           ],
           "radius": 0.5,
           "tooltip": "Ti4+ (2.686, 5.463, 7.636)",
           "type": "spheres"
          },
          {
           "clickable": true,
           "color": "#ff0d0d",
           "id": "--atoms--11",
           "positions": [
            [
             1.1265523824088406,
             1.149297104160368,
             7.943026047798886
            ]
           ],
           "radius": 0.5,
           "tooltip": "O2- (1.127, 1.149, 7.943)",
           "type": "spheres"
          },
          {
           "clickable": true,
           "color": "#ff0d0d",
           "id": "--atoms--12",
           "positions": [
            [
             3.098496304445034,
             5.564799901923945,
             1.9090899050000005
            ]
           ],
           "radius": 0.5,
           "tooltip": "O2- (3.098, 5.565, 1.909)",
           "type": "spheres"
          },
          {
           "clickable": true,
           "color": "#bfc2c7",
           "id": "--atoms--13",
           "positions": [
            [
             -1.672499058967974e-16,
             2.731398245,
             7.63635962
            ]
           ],
           "radius": 0.5,
           "tooltip": "Ti4+ (-0.000, 2.731, 7.636)",
           "type": "spheres"
          },
          {
           "clickable": true,
           "color": "#ff0d0d",
           "id": "--atoms--14",
           "positions": [
            [
             3.8125768124088406,
             1.582101140839632,
             7.329693192201114
            ]
           ],
           "radius": 0.5,
           "tooltip": "O2- (3.813, 1.582, 7.330)",
           "type": "spheres"
          },
          {
           "clickable": true,
           "color": "#3dff00",
           "id": "--atoms--15",
           "positions": [
            [
             5.323340976470777,
             5.694405677324599,
             5.727269715000001
            ]
           ],
           "radius": 0.5,
           "tooltip": "Ca2+ (5.323, 5.694, 5.727)",
           "type": "spheres"
          },
          {
           "clickable": true,
           "color": "#3dff00",
           "id": "--atoms--16",
           "positions": [
            [
             5.420756743529222,
             5.2311873026754006,
             1.9090899050000008
            ]
           ],
           "radius": 0.5,
           "tooltip": "Ca2+ (5.421, 5.231, 1.909)",
           "type": "spheres"
          },
          {
           "clickable": true,
           "color": "#ff0d0d",
           "id": "--atoms--17",
           "positions": [
            [
             1.5594720475911588,
             3.8806953491603675,
             0.30666642779888675
            ]
           ],
           "radius": 0.5,
           "tooltip": "O2- (1.559, 3.881, 0.307)",
           "type": "spheres"
          },
          {
           "clickable": true,
           "color": "#bfc2c7",
           "id": "--atoms--18",
           "positions": [
            [
             2.68602443,
             0,
             1.6447156103155468e-16
            ]
           ],
           "radius": 0.5,
           "tooltip": "Ti4+ (2.686, 0.000, 0.000)",
           "type": "spheres"
          },
          {
           "clickable": true,
           "color": "#bfc2c7",
           "id": "--atoms--19",
           "positions": [
            [
             5.37204886,
             2.731398245,
             4.961930279599067e-16
            ]
           ],
           "radius": 0.5,
           "tooltip": "Ti4+ (5.372, 2.731, 0.000)",
           "type": "spheres"
          },
          {
           "clickable": true,
           "color": "#f090a0",
           "id": "--atoms--20",
           "positions": [
            [
             2.6860244299999994,
             5.46279649,
             3.8181798100000006
            ]
           ],
           "radius": 0.5,
           "tooltip": "Co (2.686, 5.463, 3.818)",
           "type": "spheres"
          },
          {
           "clickable": true,
           "color": "#bfc2c7",
           "id": "--atoms--21",
           "positions": [
            [
             2.68602443,
             0,
             7.63635962
            ]
           ],
           "radius": 0.5,
           "tooltip": "Ti4+ (2.686, 0.000, 7.636)",
           "type": "spheres"
          },
          {
           "clickable": true,
           "color": "#ff0d0d",
           "id": "--atoms--22",
           "positions": [
            [
             1.5594720475911588,
             3.8806953491603675,
             7.943026047798887
            ]
           ],
           "radius": 0.5,
           "tooltip": "O2- (1.559, 3.881, 7.943)",
           "type": "spheres"
          },
          {
           "clickable": true,
           "color": "#bfc2c7",
           "id": "--atoms--23",
           "positions": [
            [
             5.37204886,
             2.731398245,
             7.636359620000001
            ]
           ],
           "radius": 0.5,
           "tooltip": "Ti4+ (5.372, 2.731, 7.636)",
           "type": "spheres"
          },
          {
           "clickable": true,
           "color": "#ff0d0d",
           "id": "--atoms--24",
           "positions": [
            [
             4.959576985554965,
             2.833401656923946,
             1.9090899050000005
            ]
           ],
           "radius": 0.5,
           "tooltip": "O2- (4.960, 2.833, 1.909)",
           "type": "spheres"
          },
          {
           "clickable": true,
           "color": "#ff0d0d",
           "id": "--atoms--25",
           "positions": [
            [
             2.273552555554965,
             -0.10200341192394644,
             5.727269715
            ]
           ],
           "radius": 0.5,
           "tooltip": "O2- (2.274, -0.102, 5.727)",
           "type": "spheres"
          },
          {
           "clickable": true,
           "color": "#ff0d0d",
           "id": "--atoms--26",
           "positions": [
            [
             3.0984963044450344,
             0.10200341192394619,
             1.9090899050000003
            ]
           ],
           "radius": 0.5,
           "tooltip": "O2- (3.098, 0.102, 1.909)",
           "type": "spheres"
          },
          {
           "clickable": true,
           "color": "#3dff00",
           "id": "--atoms--27",
           "positions": [
            [
             2.7347323135292227,
             2.9630074323245994,
             5.727269715
            ]
           ],
           "radius": 0.5,
           "tooltip": "Ca2+ (2.735, 2.963, 5.727)",
           "type": "spheres"
          },
          {
           "clickable": true,
           "color": "#3dff00",
           "id": "--atoms--28",
           "positions": [
            [
             5.323340976470777,
             0.23160918732459948,
             5.727269715
            ]
           ],
           "radius": 0.5,
           "tooltip": "Ca2+ (5.323, 0.232, 5.727)",
           "type": "spheres"
          },
          {
           "clickable": true,
           "color": "#ff0d0d",
           "id": "--atoms--29",
           "positions": [
            [
             1.1265523824088406,
             1.149297104160368,
             3.511513382201114
            ]
           ],
           "radius": 0.5,
           "tooltip": "O2- (1.127, 1.149, 3.512)",
           "type": "spheres"
          },
          {
           "clickable": true,
           "color": "#ff0d0d",
           "id": "--atoms--30",
           "positions": [
            [
             4.245496477591159,
             4.313499385839632,
             4.124846237798887
            ]
           ],
           "radius": 0.5,
           "tooltip": "O2- (4.245, 4.313, 4.125)",
           "type": "spheres"
          },
          {
           "clickable": true,
           "color": "#3dff00",
           "id": "--atoms--31",
           "positions": [
            [
             -0.04870788352922282,
             0.23160918732459948,
             5.727269715
            ]
           ],
           "radius": 0.5,
           "tooltip": "Ca2+ (-0.049, 0.232, 5.727)",
           "type": "spheres"
          },
          {
           "clickable": true,
           "color": "#f090a0",
           "id": "--atoms--32",
           "positions": [
            [
             2.68602443,
             0,
             3.81817981
            ]
           ],
           "radius": 0.5,
           "tooltip": "Co (2.686, 0.000, 3.818)",
           "type": "spheres"
          },
          {
           "clickable": true,
           "color": "#3dff00",
           "id": "--atoms--33",
           "positions": [
            [
             0.048707883529222604,
             -0.2316091873245995,
             1.909089905
            ]
           ],
           "radius": 0.5,
           "tooltip": "Ca2+ (0.049, -0.232, 1.909)",
           "type": "spheres"
          },
          {
           "clickable": true,
           "color": "#bfc2c7",
           "id": "--atoms--34",
           "positions": [
            [
             -1.672499058967974e-16,
             2.731398245,
             3.81817981
            ]
           ],
           "radius": 0.5,
           "tooltip": "Ti4+ (-0.000, 2.731, 3.818)",
           "type": "spheres"
          },
          {
           "clickable": true,
           "color": "#ff0d0d",
           "id": "--atoms--35",
           "positions": [
            [
             4.245496477591159,
             4.313499385839632,
             -0.30666642779888575
            ]
           ],
           "radius": 0.5,
           "tooltip": "O2- (4.245, 4.313, -0.307)",
           "type": "spheres"
          },
          {
           "clickable": true,
           "color": "#ff0d0d",
           "id": "--atoms--36",
           "positions": [
            [
             1.5594720475911588,
             3.8806953491603675,
             3.511513382201114
            ]
           ],
           "radius": 0.5,
           "tooltip": "O2- (1.559, 3.881, 3.512)",
           "type": "spheres"
          },
          {
           "clickable": true,
           "color": "#ff0d0d",
           "id": "--atoms--37",
           "positions": [
            [
             0.4124718744450344,
             2.6293948330760535,
             5.727269715
            ]
           ],
           "radius": 0.5,
           "tooltip": "O2- (0.412, 2.629, 5.727)",
           "type": "spheres"
          }
         ],
         "id": "--atoms",
         "name": "atoms",
         "origin": [
          -2.68602443,
          -2.731398245,
          -3.8181798100000006
         ],
         "visible": true
        },
        {
         "contents": [],
         "id": "--bonds",
         "name": "bonds",
         "origin": [
          -2.68602443,
          -2.731398245,
          -3.8181798100000006
         ],
         "visible": true
        },
        {
         "contents": [],
         "id": "--polyhedra",
         "name": "polyhedra",
         "origin": [
          -2.68602443,
          -2.731398245,
          -3.8181798100000006
         ],
         "visible": true
        },
        {
         "contents": [],
         "id": "--magmoms",
         "name": "magmoms",
         "origin": [
          -2.68602443,
          -2.731398245,
          -3.8181798100000006
         ],
         "visible": true
        },
        {
         "contents": [
          {
           "contents": [
            {
             "clickable": false,
             "id": "--unit_cell--a=5.37204886, b=5.46279649, c=7.63635962, alpha=90.0, beta=90.0, gamma=90.0--0",
             "positions": [
              [
               0,
               0,
               0
              ],
              [
               5.37204886,
               0,
               3.2894312206310936e-16
              ],
              [
               0,
               0,
               0
              ],
              [
               -3.344998117935948e-16,
               5.46279649,
               3.344998117935948e-16
              ],
              [
               0,
               0,
               0
              ],
              [
               0,
               0,
               7.63635962
              ],
              [
               5.37204886,
               0,
               3.2894312206310936e-16
              ],
              [
               5.37204886,
               5.46279649,
               6.634429338567041e-16
              ],
              [
               5.37204886,
               0,
               3.2894312206310936e-16
              ],
              [
               5.37204886,
               0,
               7.63635962
              ],
              [
               -3.344998117935948e-16,
               5.46279649,
               3.344998117935948e-16
              ],
              [
               5.37204886,
               5.46279649,
               6.634429338567041e-16
              ],
              [
               -3.344998117935948e-16,
               5.46279649,
               3.344998117935948e-16
              ],
              [
               -3.344998117935948e-16,
               5.46279649,
               7.63635962
              ],
              [
               0,
               0,
               7.63635962
              ],
              [
               5.37204886,
               0,
               7.63635962
              ],
              [
               0,
               0,
               7.63635962
              ],
              [
               -3.344998117935948e-16,
               5.46279649,
               7.63635962
              ],
              [
               5.37204886,
               5.46279649,
               6.634429338567041e-16
              ],
              [
               5.37204886,
               5.46279649,
               7.636359620000001
              ],
              [
               5.37204886,
               0,
               7.63635962
              ],
              [
               5.37204886,
               5.46279649,
               7.636359620000001
              ],
              [
               -3.344998117935948e-16,
               5.46279649,
               7.63635962
              ],
              [
               5.37204886,
               5.46279649,
               7.636359620000001
              ]
             ],
             "type": "lines"
            }
           ],
           "id": "--unit_cell--a=5.37204886, b=5.46279649, c=7.63635962, alpha=90.0, beta=90.0, gamma=90.0",
           "name": "a=5.37204886, b=5.46279649, c=7.63635962, alpha=90.0, beta=90.0, gamma=90.0",
           "visible": true
          }
         ],
         "id": "--unit_cell",
         "name": "unit_cell",
         "origin": [
          -2.68602443,
          -2.731398245,
          -3.8181798100000006
         ],
         "visible": true
        }
       ],
       "lattice": [
        [
         5.37204886,
         0,
         3.2894312206310936e-16
        ],
        [
         -3.344998117935948e-16,
         5.46279649,
         3.344998117935948e-16
        ],
        [
         0,
         0,
         7.63635962
        ]
       ],
       "name": "Structure",
       "origin": [
        -2.68602443,
        -2.731398245,
        -3.8181798100000006
       ],
       "visible": true
      },
      "text/plain": [
       "If you see this text, the Crystal Toolkit Jupyter Lab \n",
       "\n",
       "extension is not installed. You can install it by running \n",
       "\n",
       "\"pip install crystaltoolkit-extension\" \n",
       "\n",
       "from the same environment you run \"jupyter lab\". \n",
       "\n",
       "This only works in Jupyter Lab 3.x or above.\n",
       "\n",
       "\n",
       "Structure Summary\n",
       "Lattice\n",
       "    abc : 5.37204886 5.46279649 7.63635962\n",
       " angles : 90.0 90.0 90.0\n",
       " volume : 224.09973769300066\n",
       "      A : 5.37204886 0.0 3.2894312206310936e-16\n",
       "      B : -3.344998117935948e-16 5.46279649 3.344998117935948e-16\n",
       "      C : 0.0 0.0 7.63635962\n",
       "    pbc : True True True\n",
       "PeriodicSite: Ca0 (Ca2+) (2.735, 2.963, 5.727) [0.5091, 0.5424, 0.75]\n",
       "PeriodicSite: Ca1 (Ca2+) (2.637, 2.5, 1.909) [0.4909, 0.4576, 0.25]\n",
       "PeriodicSite: Ca2 (Ca2+) (5.323, 0.2316, 5.727) [0.9909, 0.0424, 0.75]\n",
       "PeriodicSite: Ca3 (Ca2+) (0.04871, 5.231, 1.909) [0.009067, 0.9576, 0.25]\n",
       "PeriodicSite: Ti4 (Ti4+) (-1.672e-16, 2.731, 3.818) [0.0, 0.5, 0.5]\n",
       "PeriodicSite: Ti5 (Ti4+) (-1.672e-16, 2.731, 1.672e-16) [0.0, 0.5, 0.0]\n",
       "PeriodicSite: Co (2.686, 0.0, 3.818) [0.5, 0.0, 0.5]\n",
       "PeriodicSite: Ti7 (Ti4+) (2.686, 0.0, 1.645e-16) [0.5, 0.0, 0.0]\n",
       "PeriodicSite: O8 (O2-) (0.4125, 2.629, 5.727) [0.07678, 0.4813, 0.75]\n",
       "PeriodicSite: O9 (O2-) (4.96, 2.833, 1.909) [0.9232, 0.5187, 0.25]\n",
       "PeriodicSite: O10 (O2-) (2.274, 5.361, 5.727) [0.4232, 0.9813, 0.75]\n",
       "PeriodicSite: O11 (O2-) (3.098, 0.102, 1.909) [0.5768, 0.01867, 0.25]\n",
       "PeriodicSite: O12 (O2-) (4.245, 4.313, 7.33) [0.7903, 0.7896, 0.9598]\n",
       "PeriodicSite: O13 (O2-) (1.127, 1.149, 3.512) [0.2097, 0.2104, 0.4598]\n",
       "PeriodicSite: O14 (O2-) (1.127, 1.149, 0.3067) [0.2097, 0.2104, 0.04016]\n",
       "PeriodicSite: O15 (O2-) (4.245, 4.313, 4.125) [0.7903, 0.7896, 0.5402]\n",
       "PeriodicSite: O16 (O2-) (3.813, 1.582, 7.33) [0.7097, 0.2896, 0.9598]\n",
       "PeriodicSite: O17 (O2-) (1.559, 3.881, 3.512) [0.2903, 0.7104, 0.4598]\n",
       "PeriodicSite: O18 (O2-) (1.559, 3.881, 0.3067) [0.2903, 0.7104, 0.04016]\n",
       "PeriodicSite: O19 (O2-) (3.813, 1.582, 4.125) [0.7097, 0.2896, 0.5402]"
      ]
     },
     "metadata": {},
     "output_type": "display_data"
    }
   ],
   "source": [
    "# replace the atom of index 6(titanium) with Cobalt\n",
    "CaTiO3_substitution.replace(6, 'Co')"
   ]
  },
  {
   "cell_type": "code",
   "execution_count": 26,
   "metadata": {
    "tags": []
   },
   "outputs": [
    {
     "data": {
      "text/plain": [
       "('P-1', 2)"
      ]
     },
     "execution_count": 26,
     "metadata": {},
     "output_type": "execute_result"
    }
   ],
   "source": [
    "CaTiO3_substitution.get_space_group_info()"
   ]
  },
  {
   "cell_type": "code",
   "execution_count": 27,
   "metadata": {
    "tags": []
   },
   "outputs": [
    {
     "name": "stdout",
     "output_type": "stream",
     "text": [
      "Full Formula (Ca4 Ti3 Co1 O12)\n",
      "Reduced Formula: Ca4Ti3CoO12\n",
      "abc   :   5.372049   5.462796   7.636360\n",
      "angles:  90.000000  90.000000  90.000000\n",
      "pbc   :       True       True       True\n",
      "Sites (20)\n",
      "  #  SP           a         b         c\n",
      "---  ----  --------  --------  --------\n",
      "  0  Ca2+  0.509067  0.542398  0.75\n",
      "  1  Ca2+  0.490933  0.457602  0.25\n",
      "  2  Ca2+  0.990933  0.042398  0.75\n",
      "  3  Ca2+  0.009067  0.957602  0.25\n",
      "  4  Ti4+  0         0.5       0.5\n",
      "  5  Ti4+  0         0.5       0\n",
      "  6  Co    0.5       0         0.5\n",
      "  7  Ti4+  0.5       0         0\n",
      "  8  O2-   0.076781  0.481328  0.75\n",
      "  9  O2-   0.923219  0.518672  0.25\n",
      " 10  O2-   0.423219  0.981328  0.75\n",
      " 11  O2-   0.576781  0.018672  0.25\n",
      " 12  O2-   0.790294  0.789614  0.959841\n",
      " 13  O2-   0.209706  0.210386  0.459841\n",
      " 14  O2-   0.209706  0.210386  0.040159\n",
      " 15  O2-   0.790294  0.789614  0.540159\n",
      " 16  O2-   0.709706  0.289614  0.959841\n",
      " 17  O2-   0.290294  0.710386  0.459841\n",
      " 18  O2-   0.290294  0.710386  0.040159\n",
      " 19  O2-   0.709706  0.289614  0.540159\n"
     ]
    }
   ],
   "source": [
    "print(CaTiO3_substitution)"
   ]
  },
  {
   "cell_type": "markdown",
   "metadata": {},
   "source": [
    "Note that the sixth atom is now Co"
   ]
  },
  {
   "cell_type": "code",
   "execution_count": 28,
   "metadata": {
    "tags": []
   },
   "outputs": [
    {
     "data": {
      "text/plain": [
       "224.09973769300066"
      ]
     },
     "execution_count": 28,
     "metadata": {},
     "output_type": "execute_result"
    }
   ],
   "source": [
    "CaTiO3_substitution.volume"
   ]
  },
  {
   "cell_type": "code",
   "execution_count": 29,
   "metadata": {
    "tags": []
   },
   "outputs": [
    {
     "data": {
      "text/plain": [
       "4.111257944142422"
      ]
     },
     "execution_count": 29,
     "metadata": {},
     "output_type": "execute_result"
    }
   ],
   "source": [
    "CaTiO3_substitution.density"
   ]
  },
  {
   "cell_type": "markdown",
   "metadata": {},
   "source": [
    "Density increased but the volume remains constant"
   ]
  },
  {
   "cell_type": "markdown",
   "metadata": {},
   "source": [
    "**h) Remove an arbitrary atom and show the final symmetry, as well as the new density and volume**"
   ]
  },
  {
   "cell_type": "code",
   "execution_count": 30,
   "metadata": {
    "tags": []
   },
   "outputs": [],
   "source": [
    "# use the following line if you are working with the API\n",
    "# CaTiO3_change_location = mpr.get_structure_by_material_id('mp-4019')\n",
    "\n",
    "\n",
    "# comment the following line if you are working with the API\n",
    "CaTiO3_vacancy = Structure.from_file(\"CaTiO3.cif\")"
   ]
  },
  {
   "cell_type": "markdown",
   "metadata": {},
   "source": [
    "In order to remove an atom, we use the method `remove_sites`, which receives a list with the indices of the atoms that are going to be removed. We take a look and choose the atom:"
   ]
  },
  {
   "cell_type": "code",
   "execution_count": 31,
   "metadata": {
    "tags": []
   },
   "outputs": [
    {
     "name": "stdout",
     "output_type": "stream",
     "text": [
      "Full Formula (Ca4 Ti4 O12)\n",
      "Reduced Formula: CaTiO3\n",
      "abc   :   5.372049   5.462796   7.636360\n",
      "angles:  90.000000  90.000000  90.000000\n",
      "pbc   :       True       True       True\n",
      "Sites (20)\n",
      "  #  SP           a         b         c\n",
      "---  ----  --------  --------  --------\n",
      "  0  Ca2+  0.509067  0.542398  0.75\n",
      "  1  Ca2+  0.490933  0.457602  0.25\n",
      "  2  Ca2+  0.990933  0.042398  0.75\n",
      "  3  Ca2+  0.009067  0.957602  0.25\n",
      "  4  Ti4+  0         0.5       0.5\n",
      "  5  Ti4+  0         0.5       0\n",
      "  6  Ti4+  0.5       0         0.5\n",
      "  7  Ti4+  0.5       0         0\n",
      "  8  O2-   0.076781  0.481328  0.75\n",
      "  9  O2-   0.923219  0.518672  0.25\n",
      " 10  O2-   0.423219  0.981328  0.75\n",
      " 11  O2-   0.576781  0.018672  0.25\n",
      " 12  O2-   0.790294  0.789614  0.959841\n",
      " 13  O2-   0.209706  0.210386  0.459841\n",
      " 14  O2-   0.209706  0.210386  0.040159\n",
      " 15  O2-   0.790294  0.789614  0.540159\n",
      " 16  O2-   0.709706  0.289614  0.959841\n",
      " 17  O2-   0.290294  0.710386  0.459841\n",
      " 18  O2-   0.290294  0.710386  0.040159\n",
      " 19  O2-   0.709706  0.289614  0.540159\n"
     ]
    }
   ],
   "source": [
    "print(CaTiO3_vacancy)"
   ]
  },
  {
   "cell_type": "markdown",
   "metadata": {},
   "source": [
    "As an example, we are going to remove one of the 4 calcium atoms, the one with index 1:"
   ]
  },
  {
   "cell_type": "code",
   "execution_count": 32,
   "metadata": {
    "tags": []
   },
   "outputs": [
    {
     "data": {
      "application/vnd.mp.ctk+json": {
       "contents": [
        {
         "contents": [
          {
           "clickable": true,
           "color": "#bfc2c7",
           "id": "--atoms--0",
           "positions": [
            [
             -1.672499058967974e-16,
             2.731398245,
             7.63635962
            ]
           ],
           "radius": 0.5,
           "tooltip": "Ti4+ (-0.000, 2.731, 7.636)",
           "type": "spheres"
          },
          {
           "clickable": true,
           "color": "#bfc2c7",
           "id": "--atoms--1",
           "positions": [
            [
             2.6860244299999994,
             5.46279649,
             3.8181798100000006
            ]
           ],
           "radius": 0.5,
           "tooltip": "Ti4+ (2.686, 5.463, 3.818)",
           "type": "spheres"
          },
          {
           "clickable": true,
           "color": "#ff0d0d",
           "id": "--atoms--2",
           "positions": [
            [
             3.0984963044450344,
             0.10200341192394619,
             1.9090899050000003
            ]
           ],
           "radius": 0.5,
           "tooltip": "O2- (3.098, 0.102, 1.909)",
           "type": "spheres"
          },
          {
           "clickable": true,
           "color": "#ff0d0d",
           "id": "--atoms--3",
           "positions": [
            [
             1.5594720475911588,
             3.8806953491603675,
             7.943026047798887
            ]
           ],
           "radius": 0.5,
           "tooltip": "O2- (1.559, 3.881, 7.943)",
           "type": "spheres"
          },
          {
           "clickable": true,
           "color": "#3dff00",
           "id": "--atoms--4",
           "positions": [
            [
             5.323340976470777,
             0.23160918732459948,
             5.727269715
            ]
           ],
           "radius": 0.5,
           "tooltip": "Ca2+ (5.323, 0.232, 5.727)",
           "type": "spheres"
          },
          {
           "clickable": true,
           "color": "#bfc2c7",
           "id": "--atoms--5",
           "positions": [
            [
             5.37204886,
             2.731398245,
             4.961930279599067e-16
            ]
           ],
           "radius": 0.5,
           "tooltip": "Ti4+ (5.372, 2.731, 0.000)",
           "type": "spheres"
          },
          {
           "clickable": true,
           "color": "#3dff00",
           "id": "--atoms--6",
           "positions": [
            [
             -0.04870788352922282,
             0.23160918732459948,
             5.727269715
            ]
           ],
           "radius": 0.5,
           "tooltip": "Ca2+ (-0.049, 0.232, 5.727)",
           "type": "spheres"
          },
          {
           "clickable": true,
           "color": "#ff0d0d",
           "id": "--atoms--7",
           "positions": [
            [
             1.1265523824088406,
             1.149297104160368,
             3.511513382201114
            ]
           ],
           "radius": 0.5,
           "tooltip": "O2- (1.127, 1.149, 3.512)",
           "type": "spheres"
          },
          {
           "clickable": true,
           "color": "#bfc2c7",
           "id": "--atoms--8",
           "positions": [
            [
             5.37204886,
             2.731398245,
             7.636359620000001
            ]
           ],
           "radius": 0.5,
           "tooltip": "Ti4+ (5.372, 2.731, 7.636)",
           "type": "spheres"
          },
          {
           "clickable": true,
           "color": "#bfc2c7",
           "id": "--atoms--9",
           "positions": [
            [
             -1.672499058967974e-16,
             2.731398245,
             3.81817981
            ]
           ],
           "radius": 0.5,
           "tooltip": "Ti4+ (-0.000, 2.731, 3.818)",
           "type": "spheres"
          },
          {
           "clickable": true,
           "color": "#ff0d0d",
           "id": "--atoms--10",
           "positions": [
            [
             4.245496477591159,
             4.313499385839632,
             4.124846237798887
            ]
           ],
           "radius": 0.5,
           "tooltip": "O2- (4.245, 4.313, 4.125)",
           "type": "spheres"
          },
          {
           "clickable": true,
           "color": "#bfc2c7",
           "id": "--atoms--11",
           "positions": [
            [
             2.68602443,
             0,
             3.81817981
            ]
           ],
           "radius": 0.5,
           "tooltip": "Ti4+ (2.686, 0.000, 3.818)",
           "type": "spheres"
          },
          {
           "clickable": true,
           "color": "#ff0d0d",
           "id": "--atoms--12",
           "positions": [
            [
             2.273552555554965,
             -0.10200341192394644,
             5.727269715
            ]
           ],
           "radius": 0.5,
           "tooltip": "O2- (2.274, -0.102, 5.727)",
           "type": "spheres"
          },
          {
           "clickable": true,
           "color": "#3dff00",
           "id": "--atoms--13",
           "positions": [
            [
             0.048707883529222604,
             -0.2316091873245995,
             1.909089905
            ]
           ],
           "radius": 0.5,
           "tooltip": "Ca2+ (0.049, -0.232, 1.909)",
           "type": "spheres"
          },
          {
           "clickable": true,
           "color": "#ff0d0d",
           "id": "--atoms--14",
           "positions": [
            [
             4.245496477591159,
             4.313499385839632,
             -0.30666642779888575
            ]
           ],
           "radius": 0.5,
           "tooltip": "O2- (4.245, 4.313, -0.307)",
           "type": "spheres"
          },
          {
           "clickable": true,
           "color": "#ff0d0d",
           "id": "--atoms--15",
           "positions": [
            [
             1.5594720475911588,
             3.8806953491603675,
             3.511513382201114
            ]
           ],
           "radius": 0.5,
           "tooltip": "O2- (1.559, 3.881, 3.512)",
           "type": "spheres"
          },
          {
           "clickable": true,
           "color": "#bfc2c7",
           "id": "--atoms--16",
           "positions": [
            [
             5.37204886,
             2.731398245,
             3.8181798100000006
            ]
           ],
           "radius": 0.5,
           "tooltip": "Ti4+ (5.372, 2.731, 3.818)",
           "type": "spheres"
          },
          {
           "clickable": true,
           "color": "#ff0d0d",
           "id": "--atoms--17",
           "positions": [
            [
             3.8125768124088406,
             1.582101140839632,
             4.124846237798887
            ]
           ],
           "radius": 0.5,
           "tooltip": "O2- (3.813, 1.582, 4.125)",
           "type": "spheres"
          },
          {
           "clickable": true,
           "color": "#ff0d0d",
           "id": "--atoms--18",
           "positions": [
            [
             0.4124718744450344,
             2.6293948330760535,
             5.727269715
            ]
           ],
           "radius": 0.5,
           "tooltip": "O2- (0.412, 2.629, 5.727)",
           "type": "spheres"
          },
          {
           "clickable": true,
           "color": "#ff0d0d",
           "id": "--atoms--19",
           "positions": [
            [
             3.8125768124088406,
             1.582101140839632,
             -0.3066664277988859
            ]
           ],
           "radius": 0.5,
           "tooltip": "O2- (3.813, 1.582, -0.307)",
           "type": "spheres"
          },
          {
           "clickable": true,
           "color": "#bfc2c7",
           "id": "--atoms--20",
           "positions": [
            [
             2.6860244299999994,
             5.46279649,
             4.989713728251495e-16
            ]
           ],
           "radius": 0.5,
           "tooltip": "Ti4+ (2.686, 5.463, 0.000)",
           "type": "spheres"
          },
          {
           "clickable": true,
           "color": "#ff0d0d",
           "id": "--atoms--21",
           "positions": [
            [
             2.2735525555549647,
             5.360793078076053,
             5.727269715000001
            ]
           ],
           "radius": 0.5,
           "tooltip": "O2- (2.274, 5.361, 5.727)",
           "type": "spheres"
          },
          {
           "clickable": true,
           "color": "#bfc2c7",
           "id": "--atoms--22",
           "positions": [
            [
             2.6860244299999994,
             5.46279649,
             7.636359620000001
            ]
           ],
           "radius": 0.5,
           "tooltip": "Ti4+ (2.686, 5.463, 7.636)",
           "type": "spheres"
          },
          {
           "clickable": true,
           "color": "#ff0d0d",
           "id": "--atoms--23",
           "positions": [
            [
             4.245496477591159,
             4.313499385839632,
             7.329693192201114
            ]
           ],
           "radius": 0.5,
           "tooltip": "O2- (4.245, 4.313, 7.330)",
           "type": "spheres"
          },
          {
           "clickable": true,
           "color": "#3dff00",
           "id": "--atoms--24",
           "positions": [
            [
             2.7347323135292227,
             2.9630074323245994,
             5.727269715
            ]
           ],
           "radius": 0.5,
           "tooltip": "Ca2+ (2.735, 2.963, 5.727)",
           "type": "spheres"
          },
          {
           "clickable": true,
           "color": "#3dff00",
           "id": "--atoms--25",
           "positions": [
            [
             0.04870788352922227,
             5.2311873026754006,
             1.9090899050000003
            ]
           ],
           "radius": 0.5,
           "tooltip": "Ca2+ (0.049, 5.231, 1.909)",
           "type": "spheres"
          },
          {
           "clickable": true,
           "color": "#ff0d0d",
           "id": "--atoms--26",
           "positions": [
            [
             1.1265523824088406,
             1.149297104160368,
             0.3066664277988866
            ]
           ],
           "radius": 0.5,
           "tooltip": "O2- (1.127, 1.149, 0.307)",
           "type": "spheres"
          },
          {
           "clickable": true,
           "color": "#ff0d0d",
           "id": "--atoms--27",
           "positions": [
            [
             3.098496304445034,
             5.564799901923945,
             1.9090899050000005
            ]
           ],
           "radius": 0.5,
           "tooltip": "O2- (3.098, 5.565, 1.909)",
           "type": "spheres"
          },
          {
           "clickable": true,
           "color": "#ff0d0d",
           "id": "--atoms--28",
           "positions": [
            [
             3.8125768124088406,
             1.582101140839632,
             7.329693192201114
            ]
           ],
           "radius": 0.5,
           "tooltip": "O2- (3.813, 1.582, 7.330)",
           "type": "spheres"
          },
          {
           "clickable": true,
           "color": "#3dff00",
           "id": "--atoms--29",
           "positions": [
            [
             5.323340976470777,
             5.694405677324599,
             5.727269715000001
            ]
           ],
           "radius": 0.5,
           "tooltip": "Ca2+ (5.323, 5.694, 5.727)",
           "type": "spheres"
          },
          {
           "clickable": true,
           "color": "#bfc2c7",
           "id": "--atoms--30",
           "positions": [
            [
             2.68602443,
             0,
             1.6447156103155468e-16
            ]
           ],
           "radius": 0.5,
           "tooltip": "Ti4+ (2.686, 0.000, 0.000)",
           "type": "spheres"
          },
          {
           "clickable": true,
           "color": "#ff0d0d",
           "id": "--atoms--31",
           "positions": [
            [
             1.1265523824088406,
             1.149297104160368,
             7.943026047798886
            ]
           ],
           "radius": 0.5,
           "tooltip": "O2- (1.127, 1.149, 7.943)",
           "type": "spheres"
          },
          {
           "clickable": true,
           "color": "#bfc2c7",
           "id": "--atoms--32",
           "positions": [
            [
             -1.672499058967974e-16,
             2.731398245,
             1.672499058967974e-16
            ]
           ],
           "radius": 0.5,
           "tooltip": "Ti4+ (-0.000, 2.731, 0.000)",
           "type": "spheres"
          },
          {
           "clickable": true,
           "color": "#bfc2c7",
           "id": "--atoms--33",
           "positions": [
            [
             2.68602443,
             0,
             7.63635962
            ]
           ],
           "radius": 0.5,
           "tooltip": "Ti4+ (2.686, 0.000, 7.636)",
           "type": "spheres"
          },
          {
           "clickable": true,
           "color": "#3dff00",
           "id": "--atoms--34",
           "positions": [
            [
             5.420756743529222,
             5.2311873026754006,
             1.9090899050000008
            ]
           ],
           "radius": 0.5,
           "tooltip": "Ca2+ (5.421, 5.231, 1.909)",
           "type": "spheres"
          },
          {
           "clickable": true,
           "color": "#ff0d0d",
           "id": "--atoms--35",
           "positions": [
            [
             1.5594720475911588,
             3.8806953491603675,
             0.30666642779888675
            ]
           ],
           "radius": 0.5,
           "tooltip": "O2- (1.559, 3.881, 0.307)",
           "type": "spheres"
          },
          {
           "clickable": true,
           "color": "#ff0d0d",
           "id": "--atoms--36",
           "positions": [
            [
             4.959576985554965,
             2.833401656923946,
             1.9090899050000005
            ]
           ],
           "radius": 0.5,
           "tooltip": "O2- (4.960, 2.833, 1.909)",
           "type": "spheres"
          }
         ],
         "id": "--atoms",
         "name": "atoms",
         "origin": [
          -2.68602443,
          -2.731398245,
          -3.8181798100000006
         ],
         "visible": true
        },
        {
         "contents": [],
         "id": "--bonds",
         "name": "bonds",
         "origin": [
          -2.68602443,
          -2.731398245,
          -3.8181798100000006
         ],
         "visible": true
        },
        {
         "contents": [],
         "id": "--polyhedra",
         "name": "polyhedra",
         "origin": [
          -2.68602443,
          -2.731398245,
          -3.8181798100000006
         ],
         "visible": true
        },
        {
         "contents": [],
         "id": "--magmoms",
         "name": "magmoms",
         "origin": [
          -2.68602443,
          -2.731398245,
          -3.8181798100000006
         ],
         "visible": true
        },
        {
         "contents": [
          {
           "contents": [
            {
             "clickable": false,
             "id": "--unit_cell--a=5.37204886, b=5.46279649, c=7.63635962, alpha=90.0, beta=90.0, gamma=90.0--0",
             "positions": [
              [
               0,
               0,
               0
              ],
              [
               5.37204886,
               0,
               3.2894312206310936e-16
              ],
              [
               0,
               0,
               0
              ],
              [
               -3.344998117935948e-16,
               5.46279649,
               3.344998117935948e-16
              ],
              [
               0,
               0,
               0
              ],
              [
               0,
               0,
               7.63635962
              ],
              [
               5.37204886,
               0,
               3.2894312206310936e-16
              ],
              [
               5.37204886,
               5.46279649,
               6.634429338567041e-16
              ],
              [
               5.37204886,
               0,
               3.2894312206310936e-16
              ],
              [
               5.37204886,
               0,
               7.63635962
              ],
              [
               -3.344998117935948e-16,
               5.46279649,
               3.344998117935948e-16
              ],
              [
               5.37204886,
               5.46279649,
               6.634429338567041e-16
              ],
              [
               -3.344998117935948e-16,
               5.46279649,
               3.344998117935948e-16
              ],
              [
               -3.344998117935948e-16,
               5.46279649,
               7.63635962
              ],
              [
               0,
               0,
               7.63635962
              ],
              [
               5.37204886,
               0,
               7.63635962
              ],
              [
               0,
               0,
               7.63635962
              ],
              [
               -3.344998117935948e-16,
               5.46279649,
               7.63635962
              ],
              [
               5.37204886,
               5.46279649,
               6.634429338567041e-16
              ],
              [
               5.37204886,
               5.46279649,
               7.636359620000001
              ],
              [
               5.37204886,
               0,
               7.63635962
              ],
              [
               5.37204886,
               5.46279649,
               7.636359620000001
              ],
              [
               -3.344998117935948e-16,
               5.46279649,
               7.63635962
              ],
              [
               5.37204886,
               5.46279649,
               7.636359620000001
              ]
             ],
             "type": "lines"
            }
           ],
           "id": "--unit_cell--a=5.37204886, b=5.46279649, c=7.63635962, alpha=90.0, beta=90.0, gamma=90.0",
           "name": "a=5.37204886, b=5.46279649, c=7.63635962, alpha=90.0, beta=90.0, gamma=90.0",
           "visible": true
          }
         ],
         "id": "--unit_cell",
         "name": "unit_cell",
         "origin": [
          -2.68602443,
          -2.731398245,
          -3.8181798100000006
         ],
         "visible": true
        }
       ],
       "lattice": [
        [
         5.37204886,
         0,
         3.2894312206310936e-16
        ],
        [
         -3.344998117935948e-16,
         5.46279649,
         3.344998117935948e-16
        ],
        [
         0,
         0,
         7.63635962
        ]
       ],
       "name": "Structure",
       "origin": [
        -2.68602443,
        -2.731398245,
        -3.8181798100000006
       ],
       "visible": true
      },
      "text/plain": [
       "If you see this text, the Crystal Toolkit Jupyter Lab \n",
       "\n",
       "extension is not installed. You can install it by running \n",
       "\n",
       "\"pip install crystaltoolkit-extension\" \n",
       "\n",
       "from the same environment you run \"jupyter lab\". \n",
       "\n",
       "This only works in Jupyter Lab 3.x or above.\n",
       "\n",
       "\n",
       "Structure Summary\n",
       "Lattice\n",
       "    abc : 5.37204886 5.46279649 7.63635962\n",
       " angles : 90.0 90.0 90.0\n",
       " volume : 224.09973769300066\n",
       "      A : 5.37204886 0.0 3.2894312206310936e-16\n",
       "      B : -3.344998117935948e-16 5.46279649 3.344998117935948e-16\n",
       "      C : 0.0 0.0 7.63635962\n",
       "    pbc : True True True\n",
       "PeriodicSite: Ca0 (Ca2+) (2.735, 2.963, 5.727) [0.5091, 0.5424, 0.75]\n",
       "PeriodicSite: Ca2 (Ca2+) (5.323, 0.2316, 5.727) [0.9909, 0.0424, 0.75]\n",
       "PeriodicSite: Ca3 (Ca2+) (0.04871, 5.231, 1.909) [0.009067, 0.9576, 0.25]\n",
       "PeriodicSite: Ti4 (Ti4+) (-1.672e-16, 2.731, 3.818) [0.0, 0.5, 0.5]\n",
       "PeriodicSite: Ti5 (Ti4+) (-1.672e-16, 2.731, 1.672e-16) [0.0, 0.5, 0.0]\n",
       "PeriodicSite: Ti6 (Ti4+) (2.686, 0.0, 3.818) [0.5, 0.0, 0.5]\n",
       "PeriodicSite: Ti7 (Ti4+) (2.686, 0.0, 1.645e-16) [0.5, 0.0, 0.0]\n",
       "PeriodicSite: O8 (O2-) (0.4125, 2.629, 5.727) [0.07678, 0.4813, 0.75]\n",
       "PeriodicSite: O9 (O2-) (4.96, 2.833, 1.909) [0.9232, 0.5187, 0.25]\n",
       "PeriodicSite: O10 (O2-) (2.274, 5.361, 5.727) [0.4232, 0.9813, 0.75]\n",
       "PeriodicSite: O11 (O2-) (3.098, 0.102, 1.909) [0.5768, 0.01867, 0.25]\n",
       "PeriodicSite: O12 (O2-) (4.245, 4.313, 7.33) [0.7903, 0.7896, 0.9598]\n",
       "PeriodicSite: O13 (O2-) (1.127, 1.149, 3.512) [0.2097, 0.2104, 0.4598]\n",
       "PeriodicSite: O14 (O2-) (1.127, 1.149, 0.3067) [0.2097, 0.2104, 0.04016]\n",
       "PeriodicSite: O15 (O2-) (4.245, 4.313, 4.125) [0.7903, 0.7896, 0.5402]\n",
       "PeriodicSite: O16 (O2-) (3.813, 1.582, 7.33) [0.7097, 0.2896, 0.9598]\n",
       "PeriodicSite: O17 (O2-) (1.559, 3.881, 3.512) [0.2903, 0.7104, 0.4598]\n",
       "PeriodicSite: O18 (O2-) (1.559, 3.881, 0.3067) [0.2903, 0.7104, 0.04016]\n",
       "PeriodicSite: O19 (O2-) (3.813, 1.582, 4.125) [0.7097, 0.2896, 0.5402]"
      ]
     },
     "metadata": {},
     "output_type": "display_data"
    }
   ],
   "source": [
    "CaTiO3_vacancy.remove_sites([1])"
   ]
  },
  {
   "cell_type": "code",
   "execution_count": 33,
   "metadata": {
    "tags": []
   },
   "outputs": [
    {
     "name": "stdout",
     "output_type": "stream",
     "text": [
      "Full Formula (Ca3 Ti4 O12)\n",
      "Reduced Formula: Ca3Ti4O12\n",
      "abc   :   5.372049   5.462796   7.636360\n",
      "angles:  90.000000  90.000000  90.000000\n",
      "pbc   :       True       True       True\n",
      "Sites (19)\n",
      "  #  SP           a         b         c\n",
      "---  ----  --------  --------  --------\n",
      "  0  Ca2+  0.509067  0.542398  0.75\n",
      "  1  Ca2+  0.990933  0.042398  0.75\n",
      "  2  Ca2+  0.009067  0.957602  0.25\n",
      "  3  Ti4+  0         0.5       0.5\n",
      "  4  Ti4+  0         0.5       0\n",
      "  5  Ti4+  0.5       0         0.5\n",
      "  6  Ti4+  0.5       0         0\n",
      "  7  O2-   0.076781  0.481328  0.75\n",
      "  8  O2-   0.923219  0.518672  0.25\n",
      "  9  O2-   0.423219  0.981328  0.75\n",
      " 10  O2-   0.576781  0.018672  0.25\n",
      " 11  O2-   0.790294  0.789614  0.959841\n",
      " 12  O2-   0.209706  0.210386  0.459841\n",
      " 13  O2-   0.209706  0.210386  0.040159\n",
      " 14  O2-   0.790294  0.789614  0.540159\n",
      " 15  O2-   0.709706  0.289614  0.959841\n",
      " 16  O2-   0.290294  0.710386  0.459841\n",
      " 17  O2-   0.290294  0.710386  0.040159\n",
      " 18  O2-   0.709706  0.289614  0.540159\n"
     ]
    }
   ],
   "source": [
    "print(CaTiO3_vacancy)"
   ]
  },
  {
   "cell_type": "markdown",
   "metadata": {},
   "source": [
    "See how now we are left with 3 calcium atoms"
   ]
  },
  {
   "cell_type": "code",
   "execution_count": 34,
   "metadata": {
    "tags": []
   },
   "outputs": [
    {
     "data": {
      "text/plain": [
       "('Pm', 6)"
      ]
     },
     "execution_count": 34,
     "metadata": {},
     "output_type": "execute_result"
    }
   ],
   "source": [
    "CaTiO3_vacancy.get_space_group_info()"
   ]
  },
  {
   "cell_type": "code",
   "execution_count": 35,
   "metadata": {
    "tags": []
   },
   "outputs": [
    {
     "data": {
      "text/plain": [
       "224.09973769300066"
      ]
     },
     "execution_count": 35,
     "metadata": {},
     "output_type": "execute_result"
    }
   ],
   "source": [
    "CaTiO3_vacancy.volume"
   ]
  },
  {
   "cell_type": "code",
   "execution_count": 36,
   "metadata": {
    "tags": []
   },
   "outputs": [
    {
     "data": {
      "text/plain": [
       "3.7322885856702057"
      ]
     },
     "execution_count": 36,
     "metadata": {},
     "output_type": "execute_result"
    }
   ],
   "source": [
    "CaTiO3_vacancy.density"
   ]
  },
  {
   "cell_type": "markdown",
   "metadata": {},
   "source": [
    "Similarly to the substitution, the volume remains constant, but the density changes; in this case, it decreases, which makes sense since having one less atom means the cell contains less mass."
   ]
  },
  {
   "cell_type": "markdown",
   "metadata": {},
   "source": [
    "Here is a table that summarizes all the changes for each modified structure:\n",
    "\n",
    "\n",
    "<img src=\"images/summary_defects.png\" width=\"600\" style=\"margin:auto\"/>"
   ]
  },
  {
   "cell_type": "markdown",
   "metadata": {},
   "source": [
    "According to the results obtained for the space group of each solid with defects, a significant difference can be observed compared to the original structure, as all the defects caused the system to change from orthorhombic to either triclinic or monoclinic. On the other hand, the volume does not change for any of the defects, which makes sense since the cell in which the atoms are distributed remains the same. Based on this constant volume factor, another value that did vary can be identified: the density.\n",
    "\n",
    "First, after the translation, the density remains the same as that of the original solid, which makes sense since no atoms were removed or replaced with others of a different species; the position of an atom was simply changed within the same cell. Then, with the substitution, it is observed that the density increased slightly, which can be explained by the substituted atom. Although an element with similar characteristics in terms of size and charge was chosen, there are still differences compared to the original atom, which accounts for the increase in density. Finally, as expected, when the number of atoms within the cell decreases due to a vacancy, the density decreases."
   ]
  }
 ],
 "metadata": {
  "kernelspec": {
   "display_name": "Python 3 (ipykernel)",
   "language": "python",
   "name": "python3"
  },
  "language_info": {
   "codemirror_mode": {
    "name": "ipython",
    "version": 3
   },
   "file_extension": ".py",
   "mimetype": "text/x-python",
   "name": "python",
   "nbconvert_exporter": "python",
   "pygments_lexer": "ipython3",
   "version": "3.11.4"
  }
 },
 "nbformat": 4,
 "nbformat_minor": 4
}
